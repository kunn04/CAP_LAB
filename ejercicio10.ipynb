{
 "cells": [
  {
   "cell_type": "code",
   "execution_count": null,
   "id": "8245de9b-8a95-45ca-9da1-6556079564dc",
   "metadata": {},
   "outputs": [
    {
     "name": "stderr",
     "output_type": "stream",
     "text": [
      "WARNING: Using incubator modules: jdk.incubator.vector\n",
      "Using Spark's default log4j profile: org/apache/spark/log4j2-defaults.properties\n",
      "Setting default log level to \"WARN\".\n",
      "To adjust logging level use sc.setLogLevel(newLevel). For SparkR, use setLogLevel(newLevel).\n",
      "25/10/12 22:14:04 WARN NativeCodeLoader: Unable to load native-hadoop library for your platform... using builtin-java classes where applicable\n"
     ]
    },
    {
     "name": "stdout",
     "output_type": "stream",
     "text": [
      "Conectado correctamente a Spark.\n",
      "Master: spark://spark-master.spark.svc.cluster.local:7077\n",
      "App: Ejercicio10_SumSquares_cap1462_09\n",
      "Driver IP: 10.42.10.151\n",
      "Paralelismo por defecto: 2\n"
     ]
    }
   ],
   "source": [
    "import os\n",
    "from pyspark.sql import SparkSession\n",
    "\n",
    "# obtener ip del driver\n",
    "IP = !hostname -I | cut -d' ' -f1\n",
    "IP = IP[0]\n",
    "\n",
    "# crear la sesión spark\n",
    "APP_NAME = f\"Ejercicio10_SumSquares_{os.environ['JUPYTERHUB_USER']}\"\n",
    "SPARK_URL = \"spark://spark-master.spark.svc.cluster.local:7077\"\n",
    "\n",
    "spark = (\n",
    "    SparkSession.builder\n",
    "    .appName(APP_NAME)\n",
    "    .master(SPARK_URL)\n",
    "    .config(\"spark.driver.host\", IP)\n",
    "    .config(\"spark.executor.memory\", \"512M\")\n",
    "    .config(\"spark.cores.max\", 2)\n",
    "    .config(\"spark.executor.instances\", 2)\n",
    "    .getOrCreate()\n",
    ")\n",
    "\n",
    "sc = spark.sparkContext\n",
    "\n",
    "print(\"Conectado correctamente a Spark.\")\n",
    "print(\"Master:\", SPARK_URL)\n",
    "print(\"App:\", APP_NAME)\n",
    "print(\"Driver IP:\", IP)\n",
    "print(\"Paralelismo por defecto:\", sc.defaultParallelism)\n"
   ]
  },
  {
   "cell_type": "code",
   "execution_count": 2,
   "id": "958f95d6-d15b-4351-9653-1c099932bbea",
   "metadata": {},
   "outputs": [
    {
     "name": "stderr",
     "output_type": "stream",
     "text": [
      "[Stage 0:=============================>                             (1 + 1) / 2]"
     ]
    },
    {
     "name": "stdout",
     "output_type": "stream",
     "text": [
      "N=1,000,000\n",
      "Resultado = 333330.833337\n",
      "Tiempo total = 1.863 s\n"
     ]
    },
    {
     "name": "stderr",
     "output_type": "stream",
     "text": [
      "                                                                                "
     ]
    }
   ],
   "source": [
    "import time\n",
    "\n",
    "N = 1_000_000  # tamaño del problema\n",
    "rdd = sc.range(0, N, numSlices=sc.defaultParallelism).map(\n",
    "    lambda i: ((i * 1103515245 + 12345) % 1_000_000) / 1_000_000.0\n",
    ")\n",
    "\n",
    "t0 = time.time()\n",
    "resultado = rdd.map(lambda x: x * x).sum()\n",
    "elapsed = time.time() - t0\n",
    "\n",
    "print(f\"N={N:,}\")\n",
    "print(f\"Resultado = {resultado:.6f}\")\n",
    "print(f\"Tiempo total = {elapsed:.3f} s\")\n"
   ]
  },
  {
   "cell_type": "code",
   "execution_count": 3,
   "id": "7bfb4c14-91ea-4f12-aa2f-32af90f2b179",
   "metadata": {},
   "outputs": [
    {
     "name": "stdout",
     "output_type": "stream",
     "text": [
      "N=100,000  sumsq=33333.702524  elapsed=0.195s\n",
      "N=1,000,000  sumsq=333330.833337  elapsed=0.471s\n"
     ]
    },
    {
     "name": "stderr",
     "output_type": "stream",
     "text": [
      "[Stage 3:=============================>                             (1 + 1) / 2]"
     ]
    },
    {
     "name": "stdout",
     "output_type": "stream",
     "text": [
      "N=10,000,000  sumsq=3333308.333375  elapsed=3.185s\n"
     ]
    },
    {
     "name": "stderr",
     "output_type": "stream",
     "text": [
      "                                                                                "
     ]
    }
   ],
   "source": [
    "import time\n",
    "\n",
    "def bench_sizes(N_list):\n",
    "    results = []\n",
    "    for N in N_list:\n",
    "        rdd = sc.range(0, N, numSlices=sc.defaultParallelism).map(\n",
    "            lambda i: ((i * 1103515245 + 12345) % 1_000_000) / 1_000_000.0\n",
    "        )\n",
    "        t0 = time.time()\n",
    "        res = rdd.map(lambda x: x*x).sum()\n",
    "        t1 = time.time()\n",
    "        dt = t1 - t0\n",
    "        results.append((N, res, dt))\n",
    "        print(f\"N={N:,}  sumsq={res:.6f}  elapsed={dt:.3f}s\")\n",
    "    return results\n",
    "\n",
    "results_spark_sizes = bench_sizes([100_000, 1_000_000, 10_000_000])\n"
   ]
  },
  {
   "cell_type": "code",
   "execution_count": 4,
   "id": "e6758ab4-4f80-4c97-8d6f-b97947607bfc",
   "metadata": {},
   "outputs": [],
   "source": [
    "spark.stop()\n"
   ]
  },
  {
   "cell_type": "code",
   "execution_count": 5,
   "id": "2614b1c2-baf5-44b7-8323-759591d44df8",
   "metadata": {},
   "outputs": [
    {
     "name": "stdout",
     "output_type": "stream",
     "text": [
      "cores max = 1\n"
     ]
    }
   ],
   "source": [
    "# re-crear con 1 core\n",
    "import os\n",
    "from pyspark.sql import SparkSession\n",
    "\n",
    "IP = !hostname -I | cut -d' ' -f1\n",
    "IP = IP[0]\n",
    "\n",
    "spark = (SparkSession.builder\n",
    "         .appName(f\"Ej10_c=1_{os.environ['JUPYTERHUB_USER']}\")\n",
    "         .master(\"spark://spark-master.spark.svc.cluster.local:7077\")\n",
    "         .config(\"spark.driver.host\", IP)\n",
    "         .config(\"spark.executor.memory\", \"512M\")\n",
    "         .config(\"spark.cores.max\", 1)   # ← c = 1\n",
    "         .config(\"spark.executor.instances\", 1)\n",
    "         .getOrCreate())\n",
    "sc = spark.sparkContext\n",
    "print(\"cores max =\", spark.sparkContext.getConf().get('spark.cores.max'))"
   ]
  },
  {
   "cell_type": "code",
   "execution_count": 6,
   "id": "0ece695c-0750-47d0-bb16-bf47eb9977b9",
   "metadata": {},
   "outputs": [
    {
     "name": "stderr",
     "output_type": "stream",
     "text": [
      "[Stage 0:=============================>                             (1 + 1) / 2]"
     ]
    },
    {
     "name": "stdout",
     "output_type": "stream",
     "text": [
      "c=1 → elapsed=7.527s  sumsq=3333308.333375\n"
     ]
    },
    {
     "name": "stderr",
     "output_type": "stream",
     "text": [
      "                                                                                "
     ]
    }
   ],
   "source": [
    "import time\n",
    "N = 10_000_000\n",
    "rdd = sc.range(0, N, numSlices=sc.defaultParallelism).map(\n",
    "    lambda i: ((i * 1103515245 + 12345) % 1_000_000) / 1_000_000.0\n",
    ")\n",
    "t0 = time.time(); res1 = rdd.map(lambda x: x*x).sum(); t1 = time.time()\n",
    "t_c1 = t1 - t0\n",
    "print(f\"c=1 → elapsed={t_c1:.3f}s  sumsq={res1:.6f}\")\n"
   ]
  },
  {
   "cell_type": "code",
   "execution_count": 7,
   "id": "f6b1a409-2a8d-4488-b04a-a68a6ed302d7",
   "metadata": {},
   "outputs": [],
   "source": [
    "spark.stop()\n"
   ]
  },
  {
   "cell_type": "code",
   "execution_count": 8,
   "id": "3c8ba7c6-8878-4ed7-96f5-7ec64d2361ab",
   "metadata": {},
   "outputs": [
    {
     "name": "stderr",
     "output_type": "stream",
     "text": [
      "[Stage 0:=============================>                             (1 + 1) / 2]"
     ]
    },
    {
     "name": "stdout",
     "output_type": "stream",
     "text": [
      "c=2 → elapsed=6.846s  sumsq=3333308.333375\n"
     ]
    },
    {
     "name": "stderr",
     "output_type": "stream",
     "text": [
      "                                                                                "
     ]
    }
   ],
   "source": [
    "\n",
    "from pyspark.sql import SparkSession\n",
    "spark = (SparkSession.builder\n",
    "         .appName(f\"Ej10_c=2_{os.environ['JUPYTERHUB_USER']}\")\n",
    "         .master(\"spark://spark-master.spark.svc.cluster.local:7077\")\n",
    "         .config(\"spark.driver.host\", IP)\n",
    "         .config(\"spark.executor.memory\", \"512M\")\n",
    "         .config(\"spark.cores.max\", 2)   # ← c = 2\n",
    "         .config(\"spark.executor.instances\", 2)\n",
    "         .getOrCreate())\n",
    "sc = spark.sparkContext\n",
    "\n",
    "import time\n",
    "rdd = sc.range(0, N, numSlices=sc.defaultParallelism).map(\n",
    "    lambda i: ((i * 1103515245 + 12345) % 1_000_000) / 1_000_000.0\n",
    ")\n",
    "t0 = time.time(); res2 = rdd.map(lambda x: x*x).sum(); t1 = time.time()\n",
    "t_c2 = t1 - t0\n",
    "print(f\"c=2 → elapsed={t_c2:.3f}s  sumsq={res2:.6f}\")\n"
   ]
  },
  {
   "cell_type": "code",
   "execution_count": 9,
   "id": "5afbf060-6990-4356-975a-c773d00510ee",
   "metadata": {},
   "outputs": [
    {
     "name": "stdout",
     "output_type": "stream",
     "text": [
      "Speedup S(2)=1.10  |  Eficiencia E(2)=0.55\n"
     ]
    }
   ],
   "source": [
    "S = t_c1 / t_c2\n",
    "E = S / 2\n",
    "print(f\"Speedup S(2)={S:.2f}  |  Eficiencia E(2)={E:.2f}\")\n"
   ]
  }
 ],
 "metadata": {
  "kernelspec": {
   "display_name": "Python 3 (ipykernel)",
   "language": "python",
   "name": "python3"
  },
  "language_info": {
   "codemirror_mode": {
    "name": "ipython",
    "version": 3
   },
   "file_extension": ".py",
   "mimetype": "text/x-python",
   "name": "python",
   "nbconvert_exporter": "python",
   "pygments_lexer": "ipython3",
   "version": "3.12.11"
  }
 },
 "nbformat": 4,
 "nbformat_minor": 5
}
