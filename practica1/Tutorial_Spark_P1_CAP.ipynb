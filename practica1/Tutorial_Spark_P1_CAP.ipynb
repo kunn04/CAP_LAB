{
 "cells": [
  {
   "cell_type": "markdown",
   "metadata": {
    "id": "0eXfMdMVNbmV"
   },
   "source": [
    "<font size=10>Práctica 1 de Computación de Altas Prestaciones</font>\n",
    "\n",
    "# Introducción  \n",
    "En este laboratorio, cubriremos los elementos básicos de la programación utilizando la metodología de *map-reduce*. Para ello, usaremos Apache Spark como referencia, pero ten en cuenta que existen *frameworks* similares y que los principios se pueden extrapolar.  \n",
    "\n",
    "## Algunos conceptos y hechos  \n",
    "\n",
    "- Apache Spark es una plataforma de computación distribuida que opera en un clúster. Al igual que MPI, esperamos que los nodos **NO** compartan un espacio de memoria, pero que estén conectados mediante una red dedicada de alta velocidad. Los sistemas de archivos distribuidos que funcionan sobre la red son extremadamente útiles.  \n",
    "\n",
    "- Usaremos la siguiente generación del estándar previo de *map-reduce*, Apache Hadoop. La principal diferencia se cree que es el uso de la memoria en lugar del disco para operaciones intermedias, aunque existen muchas más mejoras. \n",
    "\n",
    "- Está construido sobre Java. A pesar de ello, puede programarse en Java, Scala, Python o R. La API completa solo se encuentra en lenguajes basados en la JVM, pero el más utilizado es PySpark, ya que la gente suele ser reacia a usar lenguajes basados en la JVM en ciencia de datos. De hecho, dado que Hadoop solo estaba disponible en Java, es probable que algunos códigos en Java de Spark sean adaptaciones de los códigos previos de Hadoop.  \n",
    "\n",
    "- *Resilient Distributed Dataset* (RDD): la unidad básica que se procesa en Spark. Equivalente a un array de *numpy*, pero distribuido.  \n",
    "- La API de RDDs generalmente expone las operaciones de bajo nivel de Apache Spark, útiles para el preprocesamiento de datos pero inútiles para el análisis de datos.  \n",
    "\n",
    "- Para análisis de datos, se utilizan *DataFrame* y Spark SQL. Se basan en una API similar a *pandas* que incluso acepta código SQL (lo cual puede sonar extraño e inútil para desarrolladores, pero muchos científicos de datos y estadísticos *antiguos* son muy competentes en SQL pero no en Python).\n",
    "\n",
    "- Existes otras APIs para datos en tiempo real (Spark Streaming) o aprendizaje automático (SparkML).\n"
   ]
  },
  {
   "cell_type": "markdown",
   "metadata": {
    "id": "aBiogoyFRftH"
   },
   "source": [
    "## Como usar en el clúster Apache Spark\n",
    "\n",
    "El clúster ya cuenta con un pequeño clúster de Apache Spark desplegado, por lo que solo hay que instalar PySpark (cliente de Apache Spark en Python) y registrar nuestra aplicación. Se provee el siguiente *snippet* de código para tal propósito."
   ]
  },
  {
   "cell_type": "code",
   "execution_count": 1,
   "metadata": {},
   "outputs": [
    {
     "name": "stdout",
     "output_type": "stream",
     "text": [
      "Requirement already satisfied: pyspark==4.0.0 in /opt/conda/lib/python3.12/site-packages (4.0.0)\n",
      "Requirement already satisfied: py4j==0.10.9.9 in /opt/conda/lib/python3.12/site-packages (from pyspark==4.0.0) (0.10.9.9)\n",
      "Note: you may need to restart the kernel to use updated packages.\n"
     ]
    }
   ],
   "source": [
    "%pip install pyspark==4.0.0"
   ]
  },
  {
   "cell_type": "code",
   "execution_count": null,
   "metadata": {},
   "outputs": [],
   "source": [
    "import os"
   ]
  },
  {
   "cell_type": "code",
   "execution_count": 3,
   "metadata": {
    "colab": {
     "base_uri": "https://localhost:8080/"
    },
    "id": "SoApfKfpRunp",
    "outputId": "5fde8c4c-daa5-44bd-8c1a-7558ae2b326d"
   },
   "outputs": [
    {
     "data": {
      "text/plain": [
       "'10.42.10.151'"
      ]
     },
     "execution_count": 3,
     "metadata": {},
     "output_type": "execute_result"
    }
   ],
   "source": [
    "IP = !hostname -I | cut -d' ' -f1 \n",
    "IP = IP[0]\n",
    "IP"
   ]
  },
  {
   "cell_type": "code",
   "execution_count": 4,
   "metadata": {
    "scrolled": true
   },
   "outputs": [
    {
     "name": "stderr",
     "output_type": "stream",
     "text": [
      "WARNING: Using incubator modules: jdk.incubator.vector\n",
      "Using Spark's default log4j profile: org/apache/spark/log4j2-defaults.properties\n",
      "Setting default log level to \"WARN\".\n",
      "To adjust logging level use sc.setLogLevel(newLevel). For SparkR, use setLogLevel(newLevel).\n",
      "25/10/12 19:39:07 WARN NativeCodeLoader: Unable to load native-hadoop library for your platform... using builtin-java classes where applicable\n"
     ]
    }
   ],
   "source": [
    "from pyspark.sql import SparkSession\n",
    "\n",
    "APP_NAME = f\"Tutorial de Spark {os.environ['JUPYTERHUB_USER']}\" # Mantener siempre en el nombre de la app el nombre del usuario para fácil identificación\n",
    "SPARK_URL = \"spark://spark-master.spark.svc.cluster.local:7077\"\n",
    "spark = SparkSession.builder.appName(APP_NAME).master(SPARK_URL).config(\"spark.driver.host\", IP) \\\n",
    "    .config(\"spark.executor.memory\", \"512M\") \\\n",
    "    .config(\"spark.cores.max\", 2) \\\n",
    "    .config(\"spark.executor.instances\", 2) \\\n",
    "    .getOrCreate()\n",
    "sc = spark.sparkContext"
   ]
  },
  {
   "cell_type": "code",
   "execution_count": 5,
   "metadata": {},
   "outputs": [
    {
     "name": "stderr",
     "output_type": "stream",
     "text": [
      "                                                                                "
     ]
    }
   ],
   "source": [
    "assert sc.parallelize(range(100)).count() == 100 # Si falla, es que algo ha ido mal"
   ]
  },
  {
   "cell_type": "markdown",
   "metadata": {
    "id": "_JxLItCJN4hp"
   },
   "source": [
    "# Parte : RDDs"
   ]
  },
  {
   "cell_type": "markdown",
   "metadata": {
    "id": "fBUjxukzUdYq"
   },
   "source": [
    "## Operaciones básicas"
   ]
  },
  {
   "cell_type": "markdown",
   "metadata": {
    "id": "q3NQMrMcVG2s"
   },
   "source": [
    "### Parallelize & collect\n",
    "\n",
    "*Parallize*: Crea un RDD a partir de una lista o un array.  \n",
    "El segundo argumento indica el número de particiones del RDD. En Apache Spark suele ser frecuente que esto sea un parámetro o depende del origen de los datos (e.g. particiones de datos en el sistema de ficheros distribuidos)"
   ]
  },
  {
   "cell_type": "code",
   "execution_count": 6,
   "metadata": {
    "colab": {
     "base_uri": "https://localhost:8080/"
    },
    "id": "4o_KDO3tNYxs",
    "outputId": "cc667643-b713-4ca5-c5f2-ce6ecbead86a"
   },
   "outputs": [
    {
     "data": {
      "text/plain": [
       "ParallelCollectionRDD[2] at readRDDFromFile at PythonRDD.scala:297"
      ]
     },
     "execution_count": 6,
     "metadata": {},
     "output_type": "execute_result"
    }
   ],
   "source": [
    "array = sc.parallelize([1,2,3,4,5,6,7,8,9,10], 2)\n",
    "array"
   ]
  },
  {
   "cell_type": "code",
   "execution_count": 7,
   "metadata": {
    "colab": {
     "base_uri": "https://localhost:8080/"
    },
    "id": "kZmlZrsCVU5k",
    "outputId": "2ef912d3-8d0f-43a0-f56a-50ed75832e10"
   },
   "outputs": [
    {
     "data": {
      "text/plain": [
       "ParallelCollectionRDD[3] at readRDDFromFile at PythonRDD.scala:297"
      ]
     },
     "execution_count": 7,
     "metadata": {},
     "output_type": "execute_result"
    }
   ],
   "source": [
    "import numpy as np\n",
    "randomSamples = sc.parallelize(np.random.randn(10))\n",
    "randomSamples"
   ]
  },
  {
   "cell_type": "markdown",
   "metadata": {
    "id": "TsV27-W4VFPp"
   },
   "source": [
    "Pero..., ¿por qué no se pueden imprimir?\n",
    "\n",
    "Los RDDs no se pueden imprimir, pues *viven* en el clúster y este programa Python se ejecuta en el *driver*."
   ]
  },
  {
   "cell_type": "code",
   "execution_count": 8,
   "metadata": {
    "colab": {
     "base_uri": "https://localhost:8080/"
    },
    "id": "iuZ5GDGqVwrS",
    "outputId": "a941a431-4e22-4f38-b966-1e950c37bd78"
   },
   "outputs": [
    {
     "name": "stdout",
     "output_type": "stream",
     "text": [
      "[1, 2, 3, 4, 5, 6, 7, 8, 9, 10]\n",
      "[np.float64(0.7152596019156895), np.float64(-0.08538573511461646), np.float64(-0.3536562590985943), np.float64(0.20598946392512513), np.float64(0.34609828581615243), np.float64(0.053970589350636894), np.float64(0.24313359906038223), np.float64(0.27106784317816507), np.float64(0.7272606394891706), np.float64(-0.9715573264098758)]\n"
     ]
    }
   ],
   "source": [
    "print(array.collect())\n",
    "print(randomSamples.collect())"
   ]
  },
  {
   "cell_type": "markdown",
   "metadata": {
    "id": "r3GGkq4tWDkG"
   },
   "source": [
    "Spark utiliza operaciones *perezosas* (*lazy*) para todo, lo que significa que nada se evalúa hasta que se ejecuta una acción, normalmente una operación de reducción.  \n",
    "La operación básica de reducción es `collect`, la cual devuelve el RDD completo (es decir, no se realiza ninguna reducción).  \n"
   ]
  },
  {
   "cell_type": "markdown",
   "metadata": {
    "id": "TMUvzirYWcZe"
   },
   "source": [
    "### Otras maneras de cargar datos"
   ]
  },
  {
   "cell_type": "markdown",
   "metadata": {
    "id": "P0oUgv0kZ9po"
   },
   "source": [
    "Aquí puedes ver tanto un método para cargar un archivo de texto línea por línea como otra operación de reducción.\n",
    "\n",
    "Nota: Como esto es un clúster, el fichero ha de estar distribuido..."
   ]
  },
  {
   "cell_type": "code",
   "execution_count": 9,
   "metadata": {},
   "outputs": [],
   "source": [
    "quijote = sc.textFile(\"hdfs://listener-simple-hdfs-namenode-default-0.hdfs.svc.cluster.local/elquijote.txt\")"
   ]
  },
  {
   "cell_type": "code",
   "execution_count": 10,
   "metadata": {},
   "outputs": [
    {
     "name": "stderr",
     "output_type": "stream",
     "text": [
      "                                                                                "
     ]
    },
    {
     "data": {
      "text/plain": [
       "['DON QUIJOTE DE LA MANCHA', '']"
      ]
     },
     "execution_count": 10,
     "metadata": {},
     "output_type": "execute_result"
    }
   ],
   "source": [
    "quijote.take(2)"
   ]
  },
  {
   "cell_type": "code",
   "execution_count": 11,
   "metadata": {
    "id": "4Ln1n_RuZ9Cs"
   },
   "outputs": [
    {
     "data": {
      "text/plain": [
       "\u001b[31mSignature:\u001b[39m quijote.take(num: int) -> List[~T]\n",
       "\u001b[31mDocstring:\u001b[39m\n",
       "Take the first num elements of the RDD.\n",
       "\n",
       "It works by first scanning one partition, and use the results from\n",
       "that partition to estimate the number of additional partitions needed\n",
       "to satisfy the limit.\n",
       "\n",
       "Translated from the Scala implementation in RDD#take().\n",
       "\n",
       ".. versionadded:: 0.7.0\n",
       "\n",
       "Parameters\n",
       "----------\n",
       "num : int\n",
       "    first number of elements\n",
       "\n",
       "Returns\n",
       "-------\n",
       "list\n",
       "    the first `num` elements\n",
       "\n",
       "See Also\n",
       "--------\n",
       ":meth:`RDD.first`\n",
       ":meth:`pyspark.sql.DataFrame.take`\n",
       "\n",
       "Notes\n",
       "-----\n",
       "This method should only be used if the resulting array is expected\n",
       "to be small, as all the data is loaded into the driver's memory.\n",
       "\n",
       "Examples\n",
       "--------\n",
       ">>> sc.parallelize([2, 3, 4, 5, 6]).cache().take(2)\n",
       "[2, 3]\n",
       ">>> sc.parallelize([2, 3, 4, 5, 6]).take(10)\n",
       "[2, 3, 4, 5, 6]\n",
       ">>> sc.parallelize(range(100), 100).filter(lambda x: x > 90).take(3)\n",
       "[91, 92, 93]\n",
       "\u001b[31mFile:\u001b[39m      /opt/conda/lib/python3.12/site-packages/pyspark/core/rdd.py\n",
       "\u001b[31mType:\u001b[39m      method"
      ]
     },
     "metadata": {},
     "output_type": "display_data"
    }
   ],
   "source": [
    "# ¿Quieres ver la documentación en Python?\n",
    "quijote.take?"
   ]
  },
  {
   "cell_type": "markdown",
   "metadata": {
    "id": "ki_3xikBabHZ"
   },
   "source": [
    "### Transformaciones\n",
    "\n",
    "Revisemos algunas transformaciones que se pueden hacer a RDDs."
   ]
  },
  {
   "cell_type": "code",
   "execution_count": 12,
   "metadata": {
    "id": "e_7z-bvxaagO"
   },
   "outputs": [],
   "source": [
    "charsPerLine = quijote.map(lambda s: len(s))\n",
    "allWords = quijote.flatMap(lambda s: s.split())\n",
    "allWordsNoArticles = allWords.filter(lambda a: a.lower() not in [\"el\", \"la\"])\n",
    "allWordsUnique = allWords.map(lambda s: s.lower()).distinct()\n",
    "sampleWords = allWords.sample(withReplacement=True, fraction=0.2, seed=666)\n",
    "weirdSampling = sampleWords.union(allWordsNoArticles.sample(False, fraction=0.3))"
   ]
  },
  {
   "cell_type": "code",
   "execution_count": 13,
   "metadata": {
    "colab": {
     "base_uri": "https://localhost:8080/"
    },
    "id": "Az6CA-EEa2JJ",
    "outputId": "53649c2c-5894-4b13-fca1-b107ce80d580"
   },
   "outputs": [
    {
     "name": "stderr",
     "output_type": "stream",
     "text": [
      "                                                                                "
     ]
    },
    {
     "data": {
      "text/plain": [
       "['viudas,',\n",
       " 'todas',\n",
       " 'fuesen',\n",
       " 'ofrece;',\n",
       " 'dicho',\n",
       " 'vuestra',\n",
       " 'ceremonias;',\n",
       " 'proezas',\n",
       " 'valor',\n",
       " 'soldada']"
      ]
     },
     "execution_count": 13,
     "metadata": {},
     "output_type": "execute_result"
    }
   ],
   "source": [
    "allWordsUnique.take(10)"
   ]
  },
  {
   "cell_type": "markdown",
   "metadata": {
    "id": "S_LL-bOob1tD"
   },
   "source": [
    "--------\n",
    "\n",
    "\n",
    "<font size=10 color=red>Ejercicio</font>\n",
    "\n",
    "Explica el uso y propósito de las operaciones anteriores.\n",
    "\n",
    "Comenta también sobre el tamaño del RDD resultante en relación con el tamaño del RDD original.  \n",
    "Por ejemplo, si el RDD original tiene tamaño $N$, entonces `rdd.filter()` tendrá tamaño $K \\leq N$.  \n",
    "\n",
    "\n",
    "--------\n",
    "Respuesta:\n",
    "- `map`: aplica una función a cada elemento del RDD y devuelve un nuevo RDD con los resultados. Transforma los datos elemento a elemento. El RDD resultante tiene el mismo tamaño que el de entrada, es decir, K = N.\n",
    "- `flatMap`: aplica una función que devuelve una lista de elementos por cada elemento de entrada y luego aplana esas listas en un único RDD. Tiene como propósito descomponer elementos complejos. Por lo tanto puede ser mayor o igual al original (K ≥ N), porque de una sola línea pueden surgir varias palabras.\n",
    "- `filter`: selecciona los elementos que cumplen una condición booleana. Sirve basicamente para eliminar elementos deseados y quedarnos con la información que nos interesa. El nuevo RDD tiene un tamaño menor o igual al original (K ≤ N), ya que se descartan elementos que no cumplen la condición.\n",
    "- `distinct`: elimina los elementos duplicados del RDD. Sirve para obtener un conjunto de datos únicos por lo tanto el tamaño se reduce respecto al original (K ≤ N), dependiendo del número de repeticiones existentes.\n",
    "- `sample`: selecciona aleatoriamente una muestra de los elementos del RDD, con o sin reemplazo. Esto sirve para analizar subconjuntos de los datos de forma representativa sin procesar el conjunto completo. El tamaño resultant depende del parámetro fraction. Si fraction = f, el RDD resultante tendrá aproximadamente f × N elementos. Si se usa withReplacement=True, pueden existir duplicados, por lo que K puede ser mayor que la fracción esperada.\n",
    "- `union`: combina los elementos de dos RDDs en uno solo, uniendo ambos conjuntos. El objetivo es fusionar resultados de distintas muestrar, por lo que el tamaño resultante: el tamaño es la suma de los tamaños de los dos RDDs: K = N1+N2."
   ]
  },
  {
   "cell_type": "markdown",
   "metadata": {
    "id": "LTmIP7Qlso3Z"
   },
   "source": [
    "----"
   ]
  },
  {
   "cell_type": "markdown",
   "metadata": {
    "id": "X6EuF9ZRdspr"
   },
   "source": [
    " ### Acciones\n",
    "\n"
   ]
  },
  {
   "cell_type": "code",
   "execution_count": 14,
   "metadata": {
    "colab": {
     "base_uri": "https://localhost:8080/"
    },
    "id": "W2t3ZuZIejgT",
    "outputId": "b44363ab-274a-41b6-e87b-070a926197f4"
   },
   "outputs": [
    {
     "name": "stderr",
     "output_type": "stream",
     "text": [
      "                                                                                "
     ]
    },
    {
     "data": {
      "text/plain": [
       "(4372,\n",
       " 1036211,\n",
       " ['procuremos.Levántate,',\n",
       "  'extraordinariamente,',\n",
       "  'estrechísimamente,',\n",
       "  'convirtiéndoseles',\n",
       "  'entretenimientos,',\n",
       "  'inadvertidamente.',\n",
       "  'cortesísimamente',\n",
       "  'Agredeciéronselo',\n",
       "  'Pintiquiniestra,',\n",
       "  'entretenimiento,'])"
      ]
     },
     "execution_count": 14,
     "metadata": {},
     "output_type": "execute_result"
    }
   ],
   "source": [
    "numLines = quijote.count()\n",
    "numChars = charsPerLine.reduce(lambda a,b: a+b) # also charsPerLine.sum()\n",
    "sortedWordsByLength = allWordsNoArticles.takeOrdered(10, key=lambda x: -len(x))\n",
    "numLines, numChars, sortedWordsByLength"
   ]
  },
  {
   "cell_type": "markdown",
   "metadata": {
    "id": "Soe91l95fZun"
   },
   "source": [
    "--------\n",
    "\n",
    "\n",
    "<font size=10 color=red>Ejercicio</font>\n",
    "\n",
    "Explica el uso y propósito de las transformaciones anteriores.\n",
    "\n",
    "¿Cómo contarías los elementos de un RDD utilizando únicamente `map` y/o `reduce`?\n",
    "\n",
    "--------\n",
    "Respuesta:\n",
    "`reduce(lambda a,b: a+b)` suma todos los elementos del RDD `charsPerLine`, calculando el número total de caracteres del texto.  \n",
    "`takeOrdered(10, key=lambda x: -len(x))` obtiene las 10 palabras más largas del RDD `allWordsNoArticles`, ordenando por longitud descendente.  \n",
    "Para contar los elementos de un RDD usando solo `map` y `reduce`, se puede hacer:  \n",
    "`rdd.map(lambda x: 1).reduce(lambda a,b: a+b)`\n"
   ]
  },
  {
   "cell_type": "markdown",
   "metadata": {
    "id": "1ovUlXfEstNx"
   },
   "source": [
    "----"
   ]
  },
  {
   "cell_type": "markdown",
   "metadata": {
    "id": "kwxVvKUXganb"
   },
   "source": [
    "## Key-Value RDDs"
   ]
  },
  {
   "cell_type": "code",
   "execution_count": 15,
   "metadata": {
    "id": "9fu-B-6SgZXn"
   },
   "outputs": [
    {
     "name": "stderr",
     "output_type": "stream",
     "text": [
      "<>:3: SyntaxWarning: invalid escape sequence '\\.'\n",
      "<>:5: SyntaxWarning: invalid escape sequence '\\.'\n",
      "<>:3: SyntaxWarning: invalid escape sequence '\\.'\n",
      "<>:5: SyntaxWarning: invalid escape sequence '\\.'\n",
      "/tmp/ipykernel_2444/1334019401.py:3: SyntaxWarning: invalid escape sequence '\\.'\n",
      "  allWords = allWords.flatMap(lambda w: re.sub(\"\"\";|:|\\.|,|-|–|\"|'|\\s\"\"\",\" \", w.lower()).split(\" \")).filter(lambda a: len(a)>0)\n",
      "/tmp/ipykernel_2444/1334019401.py:5: SyntaxWarning: invalid escape sequence '\\.'\n",
      "  allWords2 = allWords2.flatMap(lambda w: re.sub(\"\"\";|:|\\.|,|-|–|\"|'|\\s\"\"\",\" \", w.decode(\"utf8\").lower()).split(\" \")).filter(lambda a: len(a)>0)\n"
     ]
    }
   ],
   "source": [
    "import re\n",
    "import requests\n",
    "allWords = allWords.flatMap(lambda w: re.sub(\"\"\";|:|\\.|,|-|–|\"|'|\\s\"\"\",\" \", w.lower()).split(\" \")).filter(lambda a: len(a)>0)\n",
    "allWords2 = sc.parallelize(requests.get(\"https://gist.githubusercontent.com/jsdario/9d871ed773c81bf217f57d1db2d2503f/raw/585de69b0631c805dabc6280506717943b82ba4a/el_quijote_ii.txt\").iter_lines())\n",
    "allWords2 = allWords2.flatMap(lambda w: re.sub(\"\"\";|:|\\.|,|-|–|\"|'|\\s\"\"\",\" \", w.decode(\"utf8\").lower()).split(\" \")).filter(lambda a: len(a)>0)"
   ]
  },
  {
   "cell_type": "code",
   "execution_count": 16,
   "metadata": {
    "colab": {
     "base_uri": "https://localhost:8080/"
    },
    "id": "2VuMqwiShPOa",
    "outputId": "09619cdb-f34b-4bd1-cace-f38952493665"
   },
   "outputs": [
    {
     "data": {
      "text/plain": [
       "(['don',\n",
       "  'quijote',\n",
       "  'de',\n",
       "  'la',\n",
       "  'mancha',\n",
       "  'miguel',\n",
       "  'de',\n",
       "  'cervantes',\n",
       "  'saavedra',\n",
       "  'primera'],\n",
       " ['don',\n",
       "  'quijote',\n",
       "  'de',\n",
       "  'la',\n",
       "  'mancha',\n",
       "  'miguel',\n",
       "  'de',\n",
       "  'cervantes',\n",
       "  'saavedra',\n",
       "  'segunda'])"
      ]
     },
     "execution_count": 16,
     "metadata": {},
     "output_type": "execute_result"
    }
   ],
   "source": [
    "allWords.take(10), allWords2.take(10)"
   ]
  },
  {
   "cell_type": "markdown",
   "metadata": {
    "id": "gyJyoNU-iZNN"
   },
   "source": [
    "A continuación, pasamos a operaciones más interesantes que involucran RDDs de tipo clave-valor.  \n",
    "Los RDDs clave-valor son un tipo especial de RDD en los que cada elemento es una tupla `(K, V)`,  \n",
    "donde `K` es la clave y `V` el valor.  \n"
   ]
  },
  {
   "cell_type": "code",
   "execution_count": 17,
   "metadata": {
    "colab": {
     "base_uri": "https://localhost:8080/"
    },
    "id": "olvu_BD6iY8o",
    "outputId": "c5dc81e6-fd61-465a-86ef-ec92cb895b36"
   },
   "outputs": [
    {
     "data": {
      "text/plain": [
       "[('don', 1),\n",
       " ('quijote', 1),\n",
       " ('de', 1),\n",
       " ('la', 1),\n",
       " ('mancha', 1),\n",
       " ('miguel', 1),\n",
       " ('de', 1),\n",
       " ('cervantes', 1),\n",
       " ('saavedra', 1),\n",
       " ('primera', 1)]"
      ]
     },
     "execution_count": 17,
     "metadata": {},
     "output_type": "execute_result"
    }
   ],
   "source": [
    "words = allWords.map(lambda e: (e,1))\n",
    "words2 = allWords2.map(lambda e: (e,1))\n",
    "\n",
    "words.take(10)"
   ]
  },
  {
   "cell_type": "markdown",
   "metadata": {
    "id": "o_GHnGPWi6Cv"
   },
   "source": [
    "### Cómo manipular RDDs clave-valor"
   ]
  },
  {
   "cell_type": "code",
   "execution_count": 18,
   "metadata": {
    "colab": {
     "base_uri": "https://localhost:8080/"
    },
    "id": "iRO_Znedi2df",
    "outputId": "b8bb4e50-3871-41a1-f5f0-5fce7b4d350b"
   },
   "outputs": [
    {
     "name": "stderr",
     "output_type": "stream",
     "text": [
      "                                                                                "
     ]
    },
    {
     "data": {
      "text/plain": [
       "[('que', 10705),\n",
       " ('de', 9033),\n",
       " ('y', 8668),\n",
       " ('la', 5015),\n",
       " ('a', 4815),\n",
       " ('en', 4046),\n",
       " ('el', 3857),\n",
       " ('no', 3083),\n",
       " ('se', 2382),\n",
       " ('los', 2148)]"
      ]
     },
     "execution_count": 18,
     "metadata": {},
     "output_type": "execute_result"
    }
   ],
   "source": [
    "frequencies = words.reduceByKey(lambda a,b: a+b)\n",
    "frequencies2 = words2.reduceByKey(lambda a,b: a+b)\n",
    "frequencies.takeOrdered(10, key=lambda a: -a[1])"
   ]
  },
  {
   "cell_type": "code",
   "execution_count": 19,
   "metadata": {
    "colab": {
     "base_uri": "https://localhost:8080/"
    },
    "id": "lCD3gn5bjmrQ",
    "outputId": "2398f1ce-cbc0-4989-edad-f13e16a68c09"
   },
   "outputs": [
    {
     "name": "stderr",
     "output_type": "stream",
     "text": [
      "                                                                                "
     ]
    },
    {
     "data": {
      "text/plain": [
       "[('dicho', <pyspark.resultiterable.ResultIterable at 0x7fc2a64233e0>),\n",
       " ('fuesen', <pyspark.resultiterable.ResultIterable at 0x7fc2a6422e10>),\n",
       " ('todas', <pyspark.resultiterable.ResultIterable at 0x7fc2a6423440>),\n",
       " ('puntualidad', <pyspark.resultiterable.ResultIterable at 0x7fc2a6423680>),\n",
       " ('vuestra', <pyspark.resultiterable.ResultIterable at 0x7fc2a64239e0>),\n",
       " ('oración', <pyspark.resultiterable.ResultIterable at 0x7fc2a6423a40>),\n",
       " ('proezas', <pyspark.resultiterable.ResultIterable at 0x7fc2a6423aa0>),\n",
       " ('valor', <pyspark.resultiterable.ResultIterable at 0x7fc2a6423b00>),\n",
       " ('soldada', <pyspark.resultiterable.ResultIterable at 0x7fc2a6423b60>),\n",
       " ('ello', <pyspark.resultiterable.ResultIterable at 0x7fc2a6423bf0>)]"
      ]
     },
     "execution_count": 19,
     "metadata": {},
     "output_type": "execute_result"
    }
   ],
   "source": [
    "res = words.groupByKey().takeOrdered(10, key=lambda a: -len(a))\n",
    "res # To see the content, res[i][1].data"
   ]
  },
  {
   "cell_type": "code",
   "execution_count": 20,
   "metadata": {
    "colab": {
     "base_uri": "https://localhost:8080/"
    },
    "id": "SvdeBc5znBpT",
    "outputId": "eecdba0e-0877-4067-8686-d0c95ccab585"
   },
   "outputs": [
    {
     "name": "stderr",
     "output_type": "stream",
     "text": [
      "                                                                                "
     ]
    },
    {
     "data": {
      "text/plain": [
       "[('pasaban', (14, 3)),\n",
       " ('liberalidad', (11, 9)),\n",
       " ('suben', (2, 2)),\n",
       " ('alcancé', (1, 2)),\n",
       " ('dignas', (9, 2)),\n",
       " ('paredes', (11, 7)),\n",
       " ('herederos', (1, 1)),\n",
       " ('bastase', (1, 1)),\n",
       " ('tocaban', (1, 1)),\n",
       " ('tierno', (5, 2))]"
      ]
     },
     "execution_count": 20,
     "metadata": {},
     "output_type": "execute_result"
    }
   ],
   "source": [
    "joinFreq = frequencies.join(frequencies2)\n",
    "joinFreq.take(10)"
   ]
  },
  {
   "cell_type": "code",
   "execution_count": 21,
   "metadata": {
    "colab": {
     "base_uri": "https://localhost:8080/"
    },
    "id": "_JRtusCnnzgb",
    "outputId": "b2248ea5-1ac3-40dd-9850-2d23e71ad2a3"
   },
   "outputs": [
    {
     "name": "stderr",
     "output_type": "stream",
     "text": [
      "                                                                                "
     ]
    },
    {
     "data": {
      "text/plain": [
       "([('bacía', 0.9393939393939394),\n",
       "  ('venia', 0.9230769230769231),\n",
       "  ('hermandad', 0.9),\n",
       "  ('micomicona', 0.8823529411764706),\n",
       "  ('peña', 0.8823529411764706),\n",
       "  ('andrés', 0.8823529411764706),\n",
       "  ('barca', 0.875),\n",
       "  ('yerme', 0.875),\n",
       "  ('novela', 0.875),\n",
       "  ('digno', 0.8666666666666667)],\n",
       " [('teresa', -0.9767441860465116),\n",
       "  ('roque', -0.96),\n",
       "  ('refranes', -0.9375),\n",
       "  ('condesa', -0.9333333333333333),\n",
       "  ('leones', -0.9333333333333333),\n",
       "  ('gobernadores', -0.9166666666666666),\n",
       "  ('lacayo', -0.9166666666666666),\n",
       "  ('visorrey', -0.9130434782608695),\n",
       "  ('antonio', -0.9076923076923077),\n",
       "  ('zaragoza', -0.9047619047619048)])"
      ]
     },
     "execution_count": 21,
     "metadata": {},
     "output_type": "execute_result"
    }
   ],
   "source": [
    "joinFreq.map(lambda e: (e[0], (e[1][0] - e[1][1])/(e[1][0] + e[1][1]))).takeOrdered(10, lambda v: -v[1]), joinFreq.map(lambda e: (e[0], (e[1][0] - e[1][1])/(e[1][0] + e[1][1]))).takeOrdered(10, lambda v: +v[1])"
   ]
  },
  {
   "cell_type": "markdown",
   "metadata": {
    "id": "RURvE2E3kE_S"
   },
   "source": [
    "--------\n",
    "\n",
    "\n",
    "<font size=10 color=red>Ejercicio</font>\n",
    "\n",
    "Explica el uso y propósito de las funciones usadas con RDDs clave-valor.\n",
    "\n",
    "¿Cuáles son acciones y cuáles transformaciones?\n",
    "\n",
    "¿Qué hace la celda anterior?\n",
    "\n",
    "--------\n",
    "Respuesta:\n",
    "**Funciones (RDDs clave–valor) y propósito**\n",
    "- `map(lambda e: (e,1))` → **Transformación**. Convierte cada palabra en un par `(palabra, 1)` para poder contar frecuencias.\n",
    "- `reduceByKey(lambda a,b: a+b)` → **Transformación (wide)**. Suma los valores por clave: obtiene `frequencies` = conteo de cada palabra.\n",
    "- `groupByKey()` → **Transformación (wide)**. Agrupa todos los valores de una misma clave en un iterable (menos eficiente que `reduceByKey` para contar).\n",
    "- `join(otroRDD)` → **Transformación (wide)**. Une por clave: para cada palabra común devuelve `(palabra, (freq_en_RDD1, freq_en_RDD2))`.\n",
    "- `take(n)` / `takeOrdered(n, key=…)` → **Acciones**. Traen a driver los primeros/los mejor ordenados `n` elementos.\n",
    "\n",
    "**Qué hace la celda anterior**\n",
    "1) Limpia y tokeniza dos libros (Quijote I y II) y crea `words`, `words2` como pares `(palabra,1)`.\n",
    "2) `frequencies`, `frequencies2` cuentan ocurrencias por palabra en cada libro con `reduceByKey`.\n",
    "3) Muestra las palabras más frecuentes con `takeOrdered(…, key=lambda a: -a[1])`.\n",
    "4) `groupByKey()` ejemplifica cómo agrupar valores por palabra (se ven `ResultIterable`).\n",
    "5) `joinFreq = frequencies.join(frequencies2)` alinea las frecuencias de cada palabra común en ambos libros.\n",
    "6) Calcula un **índice de asimetría** por palabra: `(f1−f2)/(f1+f2)` y con `takeOrdered` lista:\n",
    "   - las más **características del Quijote I** (valores cercanos a +1),\n",
    "   - y las más **características del Quijote II** (valores cercanos a −1).\n",
    "\n"
   ]
  },
  {
   "cell_type": "markdown",
   "metadata": {
    "id": "fsA_SOG9xVnS"
   },
   "source": [
    "------"
   ]
  },
  {
   "cell_type": "code",
   "execution_count": 22,
   "metadata": {
    "colab": {
     "base_uri": "https://localhost:8080/"
    },
    "id": "KUQKg6N1j3oP",
    "outputId": "efc9247a-07f6-424a-c322-a27ed3ea606c"
   },
   "outputs": [
    {
     "name": "stderr",
     "output_type": "stream",
     "text": [
      "                                                                                "
     ]
    },
    {
     "data": {
      "text/plain": [
       "([('bacía', 0.9393939393939394),\n",
       "  ('venia', 0.9230769230769231),\n",
       "  ('hermandad', 0.9),\n",
       "  ('micomicona', 0.8823529411764706),\n",
       "  ('peña', 0.8823529411764706),\n",
       "  ('andrés', 0.8823529411764706),\n",
       "  ('barca', 0.875),\n",
       "  ('yerme', 0.875),\n",
       "  ('novela', 0.875),\n",
       "  ('digno', 0.8666666666666667)],\n",
       " [('teresa', -0.9767441860465116),\n",
       "  ('roque', -0.96),\n",
       "  ('refranes', -0.9375),\n",
       "  ('condesa', -0.9333333333333333),\n",
       "  ('leones', -0.9333333333333333),\n",
       "  ('gobernadores', -0.9166666666666666),\n",
       "  ('lacayo', -0.9166666666666666),\n",
       "  ('visorrey', -0.9130434782608695),\n",
       "  ('antonio', -0.9076923076923077),\n",
       "  ('zaragoza', -0.9047619047619048)])"
      ]
     },
     "execution_count": 22,
     "metadata": {},
     "output_type": "execute_result"
    }
   ],
   "source": [
    "joinFreq.map(lambda e: (e[0], (e[1][0] - e[1][1])/(e[1][0] + e[1][1]))).takeOrdered(10, lambda v: -v[1]), joinFreq.map(lambda e: (e[0], (e[1][0] - e[1][1])/(e[1][0] + e[1][1]))).takeOrdered(10, lambda v: +v[1])"
   ]
  },
  {
   "cell_type": "code",
   "execution_count": 23,
   "metadata": {
    "colab": {
     "base_uri": "https://localhost:8080/"
    },
    "id": "Z5nUgb1upWN_",
    "outputId": "ebc5d14b-8fee-4f23-ed31-5c861fff90d4"
   },
   "outputs": [
    {
     "name": "stderr",
     "output_type": "stream",
     "text": [
      "                                                                                "
     ]
    },
    {
     "data": {
      "text/plain": [
       "([('bacía', 0.9393939393939394),\n",
       "  ('venia', 0.9230769230769231),\n",
       "  ('hermandad', 0.9),\n",
       "  ('micomicona', 0.8823529411764706),\n",
       "  ('peña', 0.8823529411764706),\n",
       "  ('andrés', 0.8823529411764706),\n",
       "  ('barca', 0.875),\n",
       "  ('yerme', 0.875),\n",
       "  ('novela', 0.875),\n",
       "  ('digno', 0.8666666666666667)],\n",
       " [('teresa', -0.9767441860465116),\n",
       "  ('roque', -0.96),\n",
       "  ('refranes', -0.9375),\n",
       "  ('condesa', -0.9333333333333333),\n",
       "  ('leones', -0.9333333333333333),\n",
       "  ('gobernadores', -0.9166666666666666),\n",
       "  ('lacayo', -0.9166666666666666),\n",
       "  ('visorrey', -0.9130434782608695),\n",
       "  ('antonio', -0.9076923076923077),\n",
       "  ('zaragoza', -0.9047619047619048)])"
      ]
     },
     "execution_count": 23,
     "metadata": {},
     "output_type": "execute_result"
    }
   ],
   "source": [
    "result = joinFreq.map(lambda e: (e[0], (e[1][0] - e[1][1])/(e[1][0] + e[1][1])))\n",
    "result.takeOrdered(10, lambda v: -v[1]), result.takeOrdered(10, lambda v: +v[1])"
   ]
  },
  {
   "cell_type": "markdown",
   "metadata": {
    "id": "tjSaV5TfpfB7"
   },
   "source": [
    "## Optimizaciones y notas finales de RDDs"
   ]
  },
  {
   "cell_type": "markdown",
   "metadata": {
    "id": "0RK3ZSpPprED"
   },
   "source": [
    "### Movimientos de datos\n",
    "\n",
    "Uno de los principales problemas podría ser que, si los datos después de una operación no están balanceados, es posible que no estemos utilizando el clúster de forma adecuada.  \n",
    "Para ese propósito, disponemos de dos operaciones.\n",
    "\n"
   ]
  },
  {
   "cell_type": "code",
   "execution_count": 24,
   "metadata": {
    "colab": {
     "base_uri": "https://localhost:8080/"
    },
    "id": "L4Fdsd5_ppXn",
    "outputId": "3333a170-a7cb-4637-8913-83375d9c6384"
   },
   "outputs": [],
   "source": [
    "coalesced_result = result.coalesce(numPartitions=2) # Avoids the data movement, so it tries to balance inside each machine\n",
    "repartitioned_result = result.repartition(numPartitions=2) # We don't care about data movement, this balance the whole thing to ensure all machines are used"
   ]
  },
  {
   "cell_type": "markdown",
   "metadata": {
    "id": "pEbSml87qdoj"
   },
   "source": [
    "### Persistencia\n",
    "A diferencia de Hadoop, los RDDs intermedios no se preservan;  \n",
    "cada vez que usamos una acción/reducción, toda el DAG se ejecuta desde las fuentes de datos.  \n",
    "Para evitar esto, podemos usar `cache`o `persist` en puntos intermedios del grafo.\n",
    "\n"
   ]
  },
  {
   "cell_type": "code",
   "execution_count": 25,
   "metadata": {
    "colab": {
     "base_uri": "https://localhost:8080/"
    },
    "id": "eMkUY2p9qwWQ",
    "outputId": "151d36c7-339d-4ff5-82ca-be4631e2fd2a"
   },
   "outputs": [
    {
     "data": {
      "text/plain": [
       "PythonRDD[58] at RDD at PythonRDD.scala:56"
      ]
     },
     "execution_count": 25,
     "metadata": {},
     "output_type": "execute_result"
    }
   ],
   "source": [
    "words = allWords.cache() # Best effort, le decimos a Spark que intente guardar este resultado intermedio con mayor prioridad.\n",
    "words.map(lambda e: (e,1))\n",
    "words.map(lambda e: (e,-1))"
   ]
  },
  {
   "cell_type": "code",
   "execution_count": 26,
   "metadata": {
    "colab": {
     "base_uri": "https://localhost:8080/"
    },
    "id": "4nF1CW9gqa_V",
    "outputId": "8d474a85-012c-4bc2-b467-4f5274971f6b"
   },
   "outputs": [
    {
     "data": {
      "text/plain": [
       "PythonRDD[59] at RDD at PythonRDD.scala:56"
      ]
     },
     "execution_count": 26,
     "metadata": {},
     "output_type": "execute_result"
    }
   ],
   "source": [
    "from pyspark import StorageLevel\n",
    "# https://spark.apache.org/docs/4.0.0/rdd-programming-guide.html#rdd-persistence\n",
    "allWords2.persist(StorageLevel.MEMORY_AND_DISK) # Añadimos la persistencia en disco"
   ]
  },
  {
   "cell_type": "markdown",
   "metadata": {
    "id": "iRf4Hc4KyG1n"
   },
   "source": [
    "----"
   ]
  },
  {
   "cell_type": "markdown",
   "metadata": {
    "id": "gBWm4rKRskyA"
   },
   "source": [
    "### Variables globales\n",
    "\n",
    "There are two kind of global variables, read-only and write-only.There are two kind of global variables, read-only and write-only."
   ]
  },
  {
   "cell_type": "code",
   "execution_count": 27,
   "metadata": {
    "colab": {
     "base_uri": "https://localhost:8080/"
    },
    "id": "wJSe0N3VstFe",
    "outputId": "b26a2e9d-4539-465e-ef69-ac698f4b9557"
   },
   "outputs": [
    {
     "data": {
      "text/plain": [
       "['el', 'la']"
      ]
     },
     "execution_count": 27,
     "metadata": {},
     "output_type": "execute_result"
    }
   ],
   "source": [
    "articles = sc.broadcast([\"el\", \"la\"])\n",
    "articles.value"
   ]
  },
  {
   "cell_type": "markdown",
   "metadata": {
    "id": "p5ZDbRk2s3MP"
   },
   "source": [
    "Las variables *broadcast* son de solo lectura.  \n",
    "Nos ayudan a evitar que las variables locales de los *closures*\n",
    "(las funciones que usamos dentro de `map`, `reduce`, ...)  \n",
    "se transfieran en cada operación de Spark.  \n",
    "De esta manera, se transfieren **solo una vez**.\n"
   ]
  },
  {
   "cell_type": "code",
   "execution_count": 28,
   "metadata": {
    "colab": {
     "base_uri": "https://localhost:8080/"
    },
    "id": "G2TVy19mtRge",
    "outputId": "41ac628e-7070-4069-c4fd-ca901f65cb24"
   },
   "outputs": [
    {
     "name": "stderr",
     "output_type": "stream",
     "text": [
      "                                                                                "
     ]
    },
    {
     "data": {
      "text/plain": [
       "Accumulator<id=0, value=187045>"
      ]
     },
     "execution_count": 28,
     "metadata": {},
     "output_type": "execute_result"
    }
   ],
   "source": [
    "acc = sc.accumulator(0)\n",
    "def incrementar(x):\n",
    "  global acc\n",
    "  acc += x\n",
    "\n",
    "allWords.map(lambda l:1).foreach(incrementar)\n",
    "acc"
   ]
  },
  {
   "cell_type": "markdown",
   "metadata": {
    "id": "Ls4WrkUytl_k"
   },
   "source": [
    "Las variables de solo escritura también pueden declararse e inicializarse,  \n",
    "pero no pueden ser leídas, ya que leerlas forzaría una **sincronización completa** del clúster.  \n"
   ]
  },
  {
   "cell_type": "markdown",
   "metadata": {
    "id": "N0iNSLIItyNO"
   },
   "source": [
    "# API de alto nivel: Spark SQL\n",
    "\n",
    "Ahora veremos el API de alto nivel, de DataFrames, de Apache Spark."
   ]
  },
  {
   "cell_type": "code",
   "execution_count": 29,
   "metadata": {
    "id": "77zln_ugudxx"
   },
   "outputs": [],
   "source": [
    "df = spark.read.parquet(\"hdfs://listener-simple-hdfs-namenode-default-0.hdfs.svc.cluster.local/reddit_02_2016.parquet\")"
   ]
  },
  {
   "cell_type": "code",
   "execution_count": 30,
   "metadata": {},
   "outputs": [
    {
     "name": "stderr",
     "output_type": "stream",
     "text": [
      "[Stage 46:>                                                         (0 + 1) / 1]"
     ]
    },
    {
     "name": "stdout",
     "output_type": "stream",
     "text": [
      "+------------------+-----------+--------------------+--------------------+--------------------+-------+\n",
      "|            author|created_utc|               title|           subreddit|            selftext|over_18|\n",
      "+------------------+-----------+--------------------+--------------------+--------------------+-------+\n",
      "|BlairTheWiseViking| 1454326164|(24M) with a DB p...|         deadbedroom|This post will be...|  false|\n",
      "|        DAVIDSPZGZ| 1454326165|EAL: Rebajas Sony...|     ElAndroideLibre|                    |  false|\n",
      "|      chasdave1981| 1454326165|  Ms Juicy (retired)|            bigasses|                    |   true|\n",
      "|         [deleted]| 1454326165|[H] ST MW Aquamar...|GlobalOffensiveTrade|           [deleted]|   true|\n",
      "|       SableArgyle| 1454326166|Something might h...|            OnePiece|So waaaaaaaay bac...|   true|\n",
      "|      nilimajaveri| 1454326166|Buy queen bed mat...| InternetIsBeautiful|                    |  false|\n",
      "|         [deleted]| 1454326166|      Grand entrance|                gifs|           [deleted]|  false|\n",
      "|     a2zlifestyles| 1454326167|9 Cool Indian Hai...|           HairStyle|                    |  false|\n",
      "|        dingdong89| 1454326169|Robert Leslie - I...|       BinauralMusic|                    |  false|\n",
      "|      sleepyechoes| 1454326170|Presidential Foot...|                 CFB|I put together th...|  false|\n",
      "|       rotoreuters| 1454326171|David Frost son d...|          betternews|                    |  false|\n",
      "|       rotoreuters| 1454326171|Syria: former UK ...|          betternews|                    |  false|\n",
      "|       rotoreuters| 1454326171|The forgotten sto...|          betternews|                    |  false|\n",
      "|       rotoreuters| 1454326172|British woman con...|          betternews|                    |  false|\n",
      "|         kaizoku99| 1454326172|Income sharing ag...|         studyAbroad|           [removed]|  false|\n",
      "|       rotoreuters| 1454326173|Russian Foreign M...|          betternews|                    |  false|\n",
      "|         Tectonic_| 1454326173|The most depressi...|     GlobalOffensive|                    |  false|\n",
      "|       rotoreuters| 1454326173|Russian lawmaker ...|          betternews|                    |  false|\n",
      "|       rotoreuters| 1454326174|Australia's only ...|          betternews|                    |  false|\n",
      "|       rotoreuters| 1454326174|Thor 3: Ragnarok ...|          betternews|                    |  false|\n",
      "+------------------+-----------+--------------------+--------------------+--------------------+-------+\n",
      "only showing top 20 rows\n"
     ]
    },
    {
     "name": "stderr",
     "output_type": "stream",
     "text": [
      "                                                                                "
     ]
    }
   ],
   "source": [
    "df.show()"
   ]
  },
  {
   "cell_type": "markdown",
   "metadata": {
    "id": "Cf_LJhRlPFRw"
   },
   "source": [
    "## Operaciones básicas"
   ]
  },
  {
   "cell_type": "code",
   "execution_count": 31,
   "metadata": {
    "colab": {
     "base_uri": "https://localhost:8080/"
    },
    "id": "gf5-2gBcwGCe",
    "outputId": "713019bc-a608-4a39-e7c8-4f19e957d5cc",
    "scrolled": true
   },
   "outputs": [
    {
     "name": "stderr",
     "output_type": "stream",
     "text": [
      "[Stage 47:>                                                         (0 + 1) / 1]"
     ]
    },
    {
     "name": "stdout",
     "output_type": "stream",
     "text": [
      "+------------------+-----------+--------------------+--------------------+--------------------+-------+\n",
      "|            author|created_utc|               title|           subreddit|            selftext|over_18|\n",
      "+------------------+-----------+--------------------+--------------------+--------------------+-------+\n",
      "|BlairTheWiseViking| 1454326164|(24M) with a DB p...|         deadbedroom|This post will be...|  false|\n",
      "|        DAVIDSPZGZ| 1454326165|EAL: Rebajas Sony...|     ElAndroideLibre|                    |  false|\n",
      "|      chasdave1981| 1454326165|  Ms Juicy (retired)|            bigasses|                    |   true|\n",
      "|         [deleted]| 1454326165|[H] ST MW Aquamar...|GlobalOffensiveTrade|           [deleted]|   true|\n",
      "|       SableArgyle| 1454326166|Something might h...|            OnePiece|So waaaaaaaay bac...|   true|\n",
      "|      nilimajaveri| 1454326166|Buy queen bed mat...| InternetIsBeautiful|                    |  false|\n",
      "|         [deleted]| 1454326166|      Grand entrance|                gifs|           [deleted]|  false|\n",
      "|     a2zlifestyles| 1454326167|9 Cool Indian Hai...|           HairStyle|                    |  false|\n",
      "|        dingdong89| 1454326169|Robert Leslie - I...|       BinauralMusic|                    |  false|\n",
      "|      sleepyechoes| 1454326170|Presidential Foot...|                 CFB|I put together th...|  false|\n",
      "|       rotoreuters| 1454326171|David Frost son d...|          betternews|                    |  false|\n",
      "|       rotoreuters| 1454326171|Syria: former UK ...|          betternews|                    |  false|\n",
      "|       rotoreuters| 1454326171|The forgotten sto...|          betternews|                    |  false|\n",
      "|       rotoreuters| 1454326172|British woman con...|          betternews|                    |  false|\n",
      "|         kaizoku99| 1454326172|Income sharing ag...|         studyAbroad|           [removed]|  false|\n",
      "|       rotoreuters| 1454326173|Russian Foreign M...|          betternews|                    |  false|\n",
      "|         Tectonic_| 1454326173|The most depressi...|     GlobalOffensive|                    |  false|\n",
      "|       rotoreuters| 1454326173|Russian lawmaker ...|          betternews|                    |  false|\n",
      "|       rotoreuters| 1454326174|Australia's only ...|          betternews|                    |  false|\n",
      "|       rotoreuters| 1454326174|Thor 3: Ragnarok ...|          betternews|                    |  false|\n",
      "+------------------+-----------+--------------------+--------------------+--------------------+-------+\n",
      "only showing top 20 rows\n"
     ]
    },
    {
     "name": "stderr",
     "output_type": "stream",
     "text": [
      "                                                                                "
     ]
    }
   ],
   "source": [
    "df = df.withColumn(\"over_18tmp\", df.over_18.try_cast(\"boolean\")) \\\n",
    "    .drop(\"over_18\") \\\n",
    "    .withColumnRenamed(\"over_18tmp\", \"over_18\")\n",
    "df = df.cache()\n",
    "df.show()"
   ]
  },
  {
   "cell_type": "markdown",
   "metadata": {
    "id": "ALRm1VdnT8W8"
   },
   "source": [
    "### Filtrado"
   ]
  },
  {
   "cell_type": "code",
   "execution_count": 32,
   "metadata": {
    "colab": {
     "base_uri": "https://localhost:8080/"
    },
    "id": "EVJKXQBvRWFy",
    "outputId": "aad80d58-0182-41ce-b3d5-9980865ecbd3"
   },
   "outputs": [
    {
     "name": "stdout",
     "output_type": "stream",
     "text": [
      "+------------------+-----------+--------------------+-------------------+--------------------+-------+\n",
      "|            author|created_utc|               title|          subreddit|            selftext|over_18|\n",
      "+------------------+-----------+--------------------+-------------------+--------------------+-------+\n",
      "|BlairTheWiseViking| 1454326164|(24M) with a DB p...|        deadbedroom|This post will be...|  false|\n",
      "|        DAVIDSPZGZ| 1454326165|EAL: Rebajas Sony...|    ElAndroideLibre|                    |  false|\n",
      "|      nilimajaveri| 1454326166|Buy queen bed mat...|InternetIsBeautiful|                    |  false|\n",
      "|         [deleted]| 1454326166|      Grand entrance|               gifs|           [deleted]|  false|\n",
      "|     a2zlifestyles| 1454326167|9 Cool Indian Hai...|          HairStyle|                    |  false|\n",
      "|        dingdong89| 1454326169|Robert Leslie - I...|      BinauralMusic|                    |  false|\n",
      "|      sleepyechoes| 1454326170|Presidential Foot...|                CFB|I put together th...|  false|\n",
      "|       rotoreuters| 1454326171|David Frost son d...|         betternews|                    |  false|\n",
      "|       rotoreuters| 1454326171|Syria: former UK ...|         betternews|                    |  false|\n",
      "|       rotoreuters| 1454326171|The forgotten sto...|         betternews|                    |  false|\n",
      "|       rotoreuters| 1454326172|British woman con...|         betternews|                    |  false|\n",
      "|         kaizoku99| 1454326172|Income sharing ag...|        studyAbroad|           [removed]|  false|\n",
      "|       rotoreuters| 1454326173|Russian Foreign M...|         betternews|                    |  false|\n",
      "|         Tectonic_| 1454326173|The most depressi...|    GlobalOffensive|                    |  false|\n",
      "|       rotoreuters| 1454326173|Russian lawmaker ...|         betternews|                    |  false|\n",
      "|       rotoreuters| 1454326174|Australia's only ...|         betternews|                    |  false|\n",
      "|       rotoreuters| 1454326174|Thor 3: Ragnarok ...|         betternews|                    |  false|\n",
      "|       rotoreuters| 1454326174|Ofcom warns O2 ta...|         betternews|                    |  false|\n",
      "|       rotoreuters| 1454326174|Indian police hun...|         betternews|                    |  false|\n",
      "|        jumanji112| 1454326174|The need for psyc...|  Social_Psychology|           [removed]|  false|\n",
      "+------------------+-----------+--------------------+-------------------+--------------------+-------+\n",
      "only showing top 20 rows\n"
     ]
    }
   ],
   "source": [
    "df.filter(~df.over_18).show()"
   ]
  },
  {
   "cell_type": "code",
   "execution_count": 33,
   "metadata": {
    "colab": {
     "base_uri": "https://localhost:8080/"
    },
    "id": "4WCIDfgtTwGx",
    "outputId": "2cbd8110-b2b6-43d4-b5c9-751db84056ea"
   },
   "outputs": [
    {
     "name": "stdout",
     "output_type": "stream",
     "text": [
      "+------------------+-----------+--------------------+-------------------+--------------------+-------+\n",
      "|            author|created_utc|               title|          subreddit|            selftext|over_18|\n",
      "+------------------+-----------+--------------------+-------------------+--------------------+-------+\n",
      "|BlairTheWiseViking| 1454326164|(24M) with a DB p...|        deadbedroom|This post will be...|  false|\n",
      "|        DAVIDSPZGZ| 1454326165|EAL: Rebajas Sony...|    ElAndroideLibre|                    |  false|\n",
      "|      nilimajaveri| 1454326166|Buy queen bed mat...|InternetIsBeautiful|                    |  false|\n",
      "|         [deleted]| 1454326166|      Grand entrance|               gifs|           [deleted]|  false|\n",
      "|     a2zlifestyles| 1454326167|9 Cool Indian Hai...|          HairStyle|                    |  false|\n",
      "|        dingdong89| 1454326169|Robert Leslie - I...|      BinauralMusic|                    |  false|\n",
      "|      sleepyechoes| 1454326170|Presidential Foot...|                CFB|I put together th...|  false|\n",
      "|       rotoreuters| 1454326171|David Frost son d...|         betternews|                    |  false|\n",
      "|       rotoreuters| 1454326171|Syria: former UK ...|         betternews|                    |  false|\n",
      "|       rotoreuters| 1454326171|The forgotten sto...|         betternews|                    |  false|\n",
      "|       rotoreuters| 1454326172|British woman con...|         betternews|                    |  false|\n",
      "|         kaizoku99| 1454326172|Income sharing ag...|        studyAbroad|           [removed]|  false|\n",
      "|       rotoreuters| 1454326173|Russian Foreign M...|         betternews|                    |  false|\n",
      "|         Tectonic_| 1454326173|The most depressi...|    GlobalOffensive|                    |  false|\n",
      "|       rotoreuters| 1454326173|Russian lawmaker ...|         betternews|                    |  false|\n",
      "|       rotoreuters| 1454326174|Australia's only ...|         betternews|                    |  false|\n",
      "|       rotoreuters| 1454326174|Thor 3: Ragnarok ...|         betternews|                    |  false|\n",
      "|       rotoreuters| 1454326174|Ofcom warns O2 ta...|         betternews|                    |  false|\n",
      "|       rotoreuters| 1454326174|Indian police hun...|         betternews|                    |  false|\n",
      "|        jumanji112| 1454326174|The need for psyc...|  Social_Psychology|           [removed]|  false|\n",
      "+------------------+-----------+--------------------+-------------------+--------------------+-------+\n",
      "only showing top 20 rows\n"
     ]
    }
   ],
   "source": [
    "df.where(~df.over_18).show()"
   ]
  },
  {
   "cell_type": "code",
   "execution_count": 34,
   "metadata": {
    "colab": {
     "base_uri": "https://localhost:8080/"
    },
    "id": "uqhyhwhrTzX7",
    "outputId": "6e9a85f8-7d86-4d73-ed34-1765cbd1f92f"
   },
   "outputs": [
    {
     "name": "stdout",
     "output_type": "stream",
     "text": [
      "+------------------+-----------+--------------------+-------------------+--------------------+-------+\n",
      "|            author|created_utc|               title|          subreddit|            selftext|over_18|\n",
      "+------------------+-----------+--------------------+-------------------+--------------------+-------+\n",
      "|BlairTheWiseViking| 1454326164|(24M) with a DB p...|        deadbedroom|This post will be...|  false|\n",
      "|        DAVIDSPZGZ| 1454326165|EAL: Rebajas Sony...|    ElAndroideLibre|                    |  false|\n",
      "|      nilimajaveri| 1454326166|Buy queen bed mat...|InternetIsBeautiful|                    |  false|\n",
      "|         [deleted]| 1454326166|      Grand entrance|               gifs|           [deleted]|  false|\n",
      "|     a2zlifestyles| 1454326167|9 Cool Indian Hai...|          HairStyle|                    |  false|\n",
      "|        dingdong89| 1454326169|Robert Leslie - I...|      BinauralMusic|                    |  false|\n",
      "|      sleepyechoes| 1454326170|Presidential Foot...|                CFB|I put together th...|  false|\n",
      "|       rotoreuters| 1454326171|David Frost son d...|         betternews|                    |  false|\n",
      "|       rotoreuters| 1454326171|Syria: former UK ...|         betternews|                    |  false|\n",
      "|       rotoreuters| 1454326171|The forgotten sto...|         betternews|                    |  false|\n",
      "|       rotoreuters| 1454326172|British woman con...|         betternews|                    |  false|\n",
      "|         kaizoku99| 1454326172|Income sharing ag...|        studyAbroad|           [removed]|  false|\n",
      "|       rotoreuters| 1454326173|Russian Foreign M...|         betternews|                    |  false|\n",
      "|         Tectonic_| 1454326173|The most depressi...|    GlobalOffensive|                    |  false|\n",
      "|       rotoreuters| 1454326173|Russian lawmaker ...|         betternews|                    |  false|\n",
      "|       rotoreuters| 1454326174|Australia's only ...|         betternews|                    |  false|\n",
      "|       rotoreuters| 1454326174|Thor 3: Ragnarok ...|         betternews|                    |  false|\n",
      "|       rotoreuters| 1454326174|Ofcom warns O2 ta...|         betternews|                    |  false|\n",
      "|       rotoreuters| 1454326174|Indian police hun...|         betternews|                    |  false|\n",
      "|        jumanji112| 1454326174|The need for psyc...|  Social_Psychology|           [removed]|  false|\n",
      "+------------------+-----------+--------------------+-------------------+--------------------+-------+\n",
      "only showing top 20 rows\n"
     ]
    }
   ],
   "source": [
    "df.where(\"not over_18\").show() # SQL syntax"
   ]
  },
  {
   "cell_type": "markdown",
   "metadata": {
    "id": "MK3Yq-pCT_Li"
   },
   "source": [
    "### Operaciones\n",
    "\n"
   ]
  },
  {
   "cell_type": "code",
   "execution_count": 35,
   "metadata": {
    "colab": {
     "base_uri": "https://localhost:8080/"
    },
    "id": "7LttXKpzUSK1",
    "outputId": "d9ae4e49-6393-4b57-856b-d68129bb00ab"
   },
   "outputs": [
    {
     "name": "stdout",
     "output_type": "stream",
     "text": [
      "+-----------------+\n",
      "|(created_utc * 2)|\n",
      "+-----------------+\n",
      "|       2908652328|\n",
      "|       2908652330|\n",
      "|       2908652330|\n",
      "|       2908652330|\n",
      "|       2908652332|\n",
      "|       2908652332|\n",
      "|       2908652332|\n",
      "|       2908652334|\n",
      "|       2908652338|\n",
      "|       2908652340|\n",
      "|       2908652342|\n",
      "|       2908652342|\n",
      "|       2908652342|\n",
      "|       2908652344|\n",
      "|       2908652344|\n",
      "|       2908652346|\n",
      "|       2908652346|\n",
      "|       2908652346|\n",
      "|       2908652348|\n",
      "|       2908652348|\n",
      "+-----------------+\n",
      "only showing top 20 rows\n"
     ]
    }
   ],
   "source": [
    "df.select(df.created_utc * 2).show()"
   ]
  },
  {
   "cell_type": "code",
   "execution_count": 36,
   "metadata": {
    "colab": {
     "base_uri": "https://localhost:8080/"
    },
    "id": "sBuGYfz2Ueky",
    "outputId": "6bade5bc-f1e5-4f32-ec7f-592624f29fa0"
   },
   "outputs": [
    {
     "name": "stdout",
     "output_type": "stream",
     "text": [
      "+---------------------+\n",
      "|ln((created_utc * 2))|\n",
      "+---------------------+\n",
      "|      21.790955693332|\n",
      "|     21.7909556940196|\n",
      "|     21.7909556940196|\n",
      "|     21.7909556940196|\n",
      "|   21.790955694707204|\n",
      "|   21.790955694707204|\n",
      "|   21.790955694707204|\n",
      "|   21.790955695394807|\n",
      "|   21.790955696770016|\n",
      "|    21.79095569745762|\n",
      "|   21.790955698145222|\n",
      "|   21.790955698145222|\n",
      "|   21.790955698145222|\n",
      "|   21.790955698832825|\n",
      "|   21.790955698832825|\n",
      "|    21.79095569952043|\n",
      "|    21.79095569952043|\n",
      "|    21.79095569952043|\n",
      "|   21.790955700208034|\n",
      "|   21.790955700208034|\n",
      "+---------------------+\n",
      "only showing top 20 rows\n"
     ]
    }
   ],
   "source": [
    "from pyspark.sql.functions import log\n",
    "df.select(log(df.created_utc * 2)).show()"
   ]
  },
  {
   "cell_type": "markdown",
   "metadata": {
    "id": "7DykNMbpUzrN"
   },
   "source": [
    "### Agregaciones\n",
    "\n"
   ]
  },
  {
   "cell_type": "code",
   "execution_count": 37,
   "metadata": {
    "colab": {
     "base_uri": "https://localhost:8080/",
     "height": 423
    },
    "id": "MJ_Q6df9U4Lw",
    "outputId": "89843925-fc6f-4e57-d624-0db5508a0b04",
    "scrolled": true
   },
   "outputs": [
    {
     "name": "stderr",
     "output_type": "stream",
     "text": [
      "[Stage 54:=============================>                            (1 + 1) / 2]"
     ]
    },
    {
     "name": "stdout",
     "output_type": "stream",
     "text": [
      "+-----------------+--------------------+-----+\n",
      "|           author|           subreddit|count|\n",
      "+-----------------+--------------------+-----+\n",
      "|   truthfulcoffee|    AndroidQuestions|    1|\n",
      "|     SuperSaguaro|   10cloverfieldlane|    1|\n",
      "|        [deleted]|                 CFB|   14|\n",
      "|       rafamorgan|          airconsole|    1|\n",
      "|         jsntz007|fastloanunemployedau|    1|\n",
      "|    AutoModerator|           madisonwi|    1|\n",
      "|  KarthikVishwash|          technology|    1|\n",
      "|  thecaptaincltch|     Thecaptaincltch|    1|\n",
      "|       Born-Hater|             Sverige|    1|\n",
      "|        [deleted]|              QuestU|    1|\n",
      "|  jitendragroup01|            business|    2|\n",
      "|AutonomyForbidden|              MURICA|    1|\n",
      "|totalitarianghost|      AskProgramming|    1|\n",
      "|  Gamesfreak13563|    totallynotrobots|    1|\n",
      "|       fusyanasan|               otoge|    1|\n",
      "|        [deleted]|                 WC3|    2|\n",
      "|     Moonkaman227|     leagueoflegends|    1|\n",
      "|        [deleted]|                GMAT|    1|\n",
      "|          bundors|            popnable|    5|\n",
      "|        [deleted]|               botil|    1|\n",
      "+-----------------+--------------------+-----+\n",
      "only showing top 20 rows\n"
     ]
    },
    {
     "name": "stderr",
     "output_type": "stream",
     "text": [
      "                                                                                "
     ]
    }
   ],
   "source": [
    "df.where(\"not over_18\").groupby([\"author\", df.subreddit]).count().show()"
   ]
  },
  {
   "cell_type": "markdown",
   "metadata": {
    "id": "G_Wb3JOMYToZ"
   },
   "source": [
    "### Funciones definidas por el usuario (UDFs)"
   ]
  },
  {
   "cell_type": "code",
   "execution_count": 38,
   "metadata": {
    "colab": {
     "base_uri": "https://localhost:8080/",
     "height": 1000
    },
    "id": "3jEQlhtwVbkB",
    "outputId": "3f1b0447-91f0-4ff3-fe84-05d83e75cef2"
   },
   "outputs": [
    {
     "data": {
      "text/html": [
       "<div>\n",
       "<style scoped>\n",
       "    .dataframe tbody tr th:only-of-type {\n",
       "        vertical-align: middle;\n",
       "    }\n",
       "\n",
       "    .dataframe tbody tr th {\n",
       "        vertical-align: top;\n",
       "    }\n",
       "\n",
       "    .dataframe thead th {\n",
       "        text-align: right;\n",
       "    }\n",
       "</style>\n",
       "<table border=\"1\" class=\"dataframe\">\n",
       "  <thead>\n",
       "    <tr style=\"text-align: right;\">\n",
       "      <th></th>\n",
       "      <th>author</th>\n",
       "      <th>created_utc</th>\n",
       "      <th>title</th>\n",
       "      <th>subreddit</th>\n",
       "      <th>selftext</th>\n",
       "      <th>over_18</th>\n",
       "      <th>length</th>\n",
       "    </tr>\n",
       "  </thead>\n",
       "  <tbody>\n",
       "    <tr>\n",
       "      <th>0</th>\n",
       "      <td>BlairTheWiseViking</td>\n",
       "      <td>1454326164</td>\n",
       "      <td>(24M) with a DB problem that's going on three ...</td>\n",
       "      <td>deadbedroom</td>\n",
       "      <td>This post will be long as to give detail about...</td>\n",
       "      <td>False</td>\n",
       "      <td>3872</td>\n",
       "    </tr>\n",
       "    <tr>\n",
       "      <th>1</th>\n",
       "      <td>sleepyechoes</td>\n",
       "      <td>1454326170</td>\n",
       "      <td>Presidential Football Poll Results</td>\n",
       "      <td>CFB</td>\n",
       "      <td>I put together the results in probably the lea...</td>\n",
       "      <td>False</td>\n",
       "      <td>7831</td>\n",
       "    </tr>\n",
       "    <tr>\n",
       "      <th>2</th>\n",
       "      <td>Daedin_</td>\n",
       "      <td>1454326175</td>\n",
       "      <td>Looking for 3-4 rank 14-18 players to progress...</td>\n",
       "      <td>hearthstone</td>\n",
       "      <td>Hey reddit! Glad to meet you all :)\\n\\nI'm osc...</td>\n",
       "      <td>False</td>\n",
       "      <td>1669</td>\n",
       "    </tr>\n",
       "    <tr>\n",
       "      <th>3</th>\n",
       "      <td>Holo_of_Yoitsu</td>\n",
       "      <td>1454326188</td>\n",
       "      <td>[Spoilers] Diamond no Ace: Second Season - Epi...</td>\n",
       "      <td>anime</td>\n",
       "      <td>**Episode title:** To This Side  \\n**Episode d...</td>\n",
       "      <td>False</td>\n",
       "      <td>3278</td>\n",
       "    </tr>\n",
       "    <tr>\n",
       "      <th>4</th>\n",
       "      <td>SmellyFbuttface</td>\n",
       "      <td>1454326190</td>\n",
       "      <td>Why doesn't challenge mode change?</td>\n",
       "      <td>DestinyTheGame</td>\n",
       "      <td>I like that they integrated challenge mode.  G...</td>\n",
       "      <td>False</td>\n",
       "      <td>1043</td>\n",
       "    </tr>\n",
       "    <tr>\n",
       "      <th>...</th>\n",
       "      <td>...</td>\n",
       "      <td>...</td>\n",
       "      <td>...</td>\n",
       "      <td>...</td>\n",
       "      <td>...</td>\n",
       "      <td>...</td>\n",
       "      <td>...</td>\n",
       "    </tr>\n",
       "    <tr>\n",
       "      <th>9809</th>\n",
       "      <td>-Boman-</td>\n",
       "      <td>1454326072</td>\n",
       "      <td>Warwick The Fast Ticket Out Of Bronze and Silv...</td>\n",
       "      <td>summonerschool</td>\n",
       "      <td>Hello my name is Boman and today i would like ...</td>\n",
       "      <td>False</td>\n",
       "      <td>3409</td>\n",
       "    </tr>\n",
       "    <tr>\n",
       "      <th>9810</th>\n",
       "      <td>GoldenJermbag</td>\n",
       "      <td>1454326080</td>\n",
       "      <td>I've finally had my first true high sodium mom...</td>\n",
       "      <td>DestinyTheGame</td>\n",
       "      <td>Before I go tell my woeful tale I will say I l...</td>\n",
       "      <td>False</td>\n",
       "      <td>1767</td>\n",
       "    </tr>\n",
       "    <tr>\n",
       "      <th>9811</th>\n",
       "      <td>BhiQ</td>\n",
       "      <td>1454326085</td>\n",
       "      <td>FtMs - your thoughts on the male gender role/s...</td>\n",
       "      <td>asktransgender</td>\n",
       "      <td>Hey guys, I'll try to be as respectful as I ca...</td>\n",
       "      <td>False</td>\n",
       "      <td>1984</td>\n",
       "    </tr>\n",
       "    <tr>\n",
       "      <th>9812</th>\n",
       "      <td>SpaceyMoogle</td>\n",
       "      <td>1454326087</td>\n",
       "      <td>Freaking out a little about possible risk of p...</td>\n",
       "      <td>TwoXChromosomes</td>\n",
       "      <td>Not really sure if this is the right place. \\n...</td>\n",
       "      <td>False</td>\n",
       "      <td>1196</td>\n",
       "    </tr>\n",
       "    <tr>\n",
       "      <th>9813</th>\n",
       "      <td>PamelaBreivik</td>\n",
       "      <td>1454326125</td>\n",
       "      <td>[ALL SPOILERS] If there is any character that ...</td>\n",
       "      <td>gameofthrones</td>\n",
       "      <td>I understand that I'm probably posting too muc...</td>\n",
       "      <td>False</td>\n",
       "      <td>2374</td>\n",
       "    </tr>\n",
       "  </tbody>\n",
       "</table>\n",
       "<p>9814 rows × 7 columns</p>\n",
       "</div>"
      ],
      "text/plain": [
       "                  author  created_utc  \\\n",
       "0     BlairTheWiseViking   1454326164   \n",
       "1           sleepyechoes   1454326170   \n",
       "2                Daedin_   1454326175   \n",
       "3         Holo_of_Yoitsu   1454326188   \n",
       "4        SmellyFbuttface   1454326190   \n",
       "...                  ...          ...   \n",
       "9809             -Boman-   1454326072   \n",
       "9810       GoldenJermbag   1454326080   \n",
       "9811                BhiQ   1454326085   \n",
       "9812        SpaceyMoogle   1454326087   \n",
       "9813       PamelaBreivik   1454326125   \n",
       "\n",
       "                                                  title        subreddit  \\\n",
       "0     (24M) with a DB problem that's going on three ...      deadbedroom   \n",
       "1                    Presidential Football Poll Results              CFB   \n",
       "2     Looking for 3-4 rank 14-18 players to progress...      hearthstone   \n",
       "3     [Spoilers] Diamond no Ace: Second Season - Epi...            anime   \n",
       "4                    Why doesn't challenge mode change?   DestinyTheGame   \n",
       "...                                                 ...              ...   \n",
       "9809  Warwick The Fast Ticket Out Of Bronze and Silv...   summonerschool   \n",
       "9810  I've finally had my first true high sodium mom...   DestinyTheGame   \n",
       "9811  FtMs - your thoughts on the male gender role/s...   asktransgender   \n",
       "9812  Freaking out a little about possible risk of p...  TwoXChromosomes   \n",
       "9813  [ALL SPOILERS] If there is any character that ...    gameofthrones   \n",
       "\n",
       "                                               selftext  over_18  length  \n",
       "0     This post will be long as to give detail about...    False    3872  \n",
       "1     I put together the results in probably the lea...    False    7831  \n",
       "2     Hey reddit! Glad to meet you all :)\\n\\nI'm osc...    False    1669  \n",
       "3     **Episode title:** To This Side  \\n**Episode d...    False    3278  \n",
       "4     I like that they integrated challenge mode.  G...    False    1043  \n",
       "...                                                 ...      ...     ...  \n",
       "9809  Hello my name is Boman and today i would like ...    False    3409  \n",
       "9810  Before I go tell my woeful tale I will say I l...    False    1767  \n",
       "9811  Hey guys, I'll try to be as respectful as I ca...    False    1984  \n",
       "9812  Not really sure if this is the right place. \\n...    False    1196  \n",
       "9813  I understand that I'm probably posting too muc...    False    2374  \n",
       "\n",
       "[9814 rows x 7 columns]"
      ]
     },
     "execution_count": 38,
     "metadata": {},
     "output_type": "execute_result"
    }
   ],
   "source": [
    "from pyspark.sql.functions import length\n",
    "\n",
    "df = df.withColumn(\"length\", length(df.selftext)) # This adds a column\n",
    "\n",
    "df.where(\"length > 1000\").toPandas()"
   ]
  },
  {
   "cell_type": "code",
   "execution_count": 39,
   "metadata": {
    "colab": {
     "base_uri": "https://localhost:8080/"
    },
    "id": "Q2T9m26TXwou",
    "outputId": "4f9f08ab-efae-46b5-c7a9-f1854f84c502"
   },
   "outputs": [
    {
     "name": "stderr",
     "output_type": "stream",
     "text": [
      "[Stage 58:>                                                         (0 + 1) / 1]"
     ]
    },
    {
     "name": "stdout",
     "output_type": "stream",
     "text": [
      "+--------------------+\n",
      "|splitWords(selftext)|\n",
      "+--------------------+\n",
      "|[This, post, will...|\n",
      "|                    |\n",
      "|                    |\n",
      "|         [[deleted]]|\n",
      "|[So, waaaaaaaay, ...|\n",
      "|                    |\n",
      "|         [[deleted]]|\n",
      "|                    |\n",
      "|                    |\n",
      "|[I, put, together...|\n",
      "|                    |\n",
      "|                    |\n",
      "|                    |\n",
      "|                    |\n",
      "|         [[removed]]|\n",
      "|                    |\n",
      "|                    |\n",
      "|                    |\n",
      "|                    |\n",
      "|                    |\n",
      "+--------------------+\n",
      "only showing top 20 rows\n"
     ]
    },
    {
     "name": "stderr",
     "output_type": "stream",
     "text": [
      "                                                                                "
     ]
    }
   ],
   "source": [
    "from pyspark.sql.functions import udf\n",
    "\n",
    "def splitWords(e):\n",
    "  return e.split(\" \") if e else e\n",
    "\n",
    "splitWords = udf(splitWords)\n",
    "df.select(splitWords(df.selftext)).show()"
   ]
  },
  {
   "cell_type": "markdown",
   "metadata": {
    "id": "pjzfM9GNynlT"
   },
   "source": [
    "-----"
   ]
  },
  {
   "cell_type": "markdown",
   "metadata": {
    "id": "JYw2OCoKXgiV"
   },
   "source": [
    "## SQL"
   ]
  },
  {
   "cell_type": "markdown",
   "metadata": {
    "id": "EXFw_7RIYotq"
   },
   "source": [
    "### Como declarar vistas de Dataframes"
   ]
  },
  {
   "cell_type": "markdown",
   "metadata": {},
   "source": [
    "Todo dataframe puede ser usado como una tabla SQL y una sintaxis similar a la usada en otras asignaturas de bases de datos. De hecho, esta es la base del proyecto Apache Hive."
   ]
  },
  {
   "cell_type": "code",
   "execution_count": 40,
   "metadata": {
    "id": "t3xUrC8xXja1"
   },
   "outputs": [],
   "source": [
    "df.createOrReplaceTempView(\"reddit\")"
   ]
  },
  {
   "cell_type": "code",
   "execution_count": 41,
   "metadata": {
    "colab": {
     "base_uri": "https://localhost:8080/"
    },
    "id": "F4xEgHQxYyle",
    "outputId": "66d7e226-6fc6-4f5e-d220-a09ab8ca391c"
   },
   "outputs": [
    {
     "name": "stdout",
     "output_type": "stream",
     "text": [
      "+------------------+-----------+--------------------+--------------------+--------------------+-------+------+\n",
      "|            author|created_utc|               title|           subreddit|            selftext|over_18|length|\n",
      "+------------------+-----------+--------------------+--------------------+--------------------+-------+------+\n",
      "|BlairTheWiseViking| 1454326164|(24M) with a DB p...|         deadbedroom|This post will be...|  false|  3872|\n",
      "|        DAVIDSPZGZ| 1454326165|EAL: Rebajas Sony...|     ElAndroideLibre|                    |  false|     0|\n",
      "|      chasdave1981| 1454326165|  Ms Juicy (retired)|            bigasses|                    |   true|     0|\n",
      "|         [deleted]| 1454326165|[H] ST MW Aquamar...|GlobalOffensiveTrade|           [deleted]|   true|     9|\n",
      "|       SableArgyle| 1454326166|Something might h...|            OnePiece|So waaaaaaaay bac...|   true|   650|\n",
      "|      nilimajaveri| 1454326166|Buy queen bed mat...| InternetIsBeautiful|                    |  false|     0|\n",
      "|         [deleted]| 1454326166|      Grand entrance|                gifs|           [deleted]|  false|     9|\n",
      "|     a2zlifestyles| 1454326167|9 Cool Indian Hai...|           HairStyle|                    |  false|     0|\n",
      "|        dingdong89| 1454326169|Robert Leslie - I...|       BinauralMusic|                    |  false|     0|\n",
      "|      sleepyechoes| 1454326170|Presidential Foot...|                 CFB|I put together th...|  false|  7831|\n",
      "+------------------+-----------+--------------------+--------------------+--------------------+-------+------+\n",
      "\n"
     ]
    }
   ],
   "source": [
    "spark.sql(\"select * from reddit limit 10\").show()"
   ]
  },
  {
   "cell_type": "markdown",
   "metadata": {
    "id": "p2C2IMYEy1xG"
   },
   "source": [
    "----"
   ]
  },
  {
   "cell_type": "code",
   "execution_count": 42,
   "metadata": {
    "scrolled": true
   },
   "outputs": [
    {
     "data": {
      "text/html": [
       "<div>\n",
       "<style scoped>\n",
       "    .dataframe tbody tr th:only-of-type {\n",
       "        vertical-align: middle;\n",
       "    }\n",
       "\n",
       "    .dataframe tbody tr th {\n",
       "        vertical-align: top;\n",
       "    }\n",
       "\n",
       "    .dataframe thead th {\n",
       "        text-align: right;\n",
       "    }\n",
       "</style>\n",
       "<table border=\"1\" class=\"dataframe\">\n",
       "  <thead>\n",
       "    <tr style=\"text-align: right;\">\n",
       "      <th></th>\n",
       "      <th>author</th>\n",
       "      <th>c</th>\n",
       "    </tr>\n",
       "  </thead>\n",
       "  <tbody>\n",
       "    <tr>\n",
       "      <th>0</th>\n",
       "      <td>[deleted]</td>\n",
       "      <td>37035</td>\n",
       "    </tr>\n",
       "    <tr>\n",
       "      <th>1</th>\n",
       "      <td>rotoreuters</td>\n",
       "      <td>1017</td>\n",
       "    </tr>\n",
       "    <tr>\n",
       "      <th>2</th>\n",
       "      <td>ImaBlue</td>\n",
       "      <td>989</td>\n",
       "    </tr>\n",
       "    <tr>\n",
       "      <th>3</th>\n",
       "      <td>AutoModerator</td>\n",
       "      <td>773</td>\n",
       "    </tr>\n",
       "    <tr>\n",
       "      <th>4</th>\n",
       "      <td>RPBot</td>\n",
       "      <td>663</td>\n",
       "    </tr>\n",
       "    <tr>\n",
       "      <th>...</th>\n",
       "      <td>...</td>\n",
       "      <td>...</td>\n",
       "    </tr>\n",
       "    <tr>\n",
       "      <th>105391</th>\n",
       "      <td>aero2146</td>\n",
       "      <td>1</td>\n",
       "    </tr>\n",
       "    <tr>\n",
       "      <th>105392</th>\n",
       "      <td>Rezurektme</td>\n",
       "      <td>1</td>\n",
       "    </tr>\n",
       "    <tr>\n",
       "      <th>105393</th>\n",
       "      <td>bcseismail</td>\n",
       "      <td>1</td>\n",
       "    </tr>\n",
       "    <tr>\n",
       "      <th>105394</th>\n",
       "      <td>PM_ME_FOR_POTATO_PIC</td>\n",
       "      <td>1</td>\n",
       "    </tr>\n",
       "    <tr>\n",
       "      <th>105395</th>\n",
       "      <td>cartlardena</td>\n",
       "      <td>1</td>\n",
       "    </tr>\n",
       "  </tbody>\n",
       "</table>\n",
       "<p>105396 rows × 2 columns</p>\n",
       "</div>"
      ],
      "text/plain": [
       "                      author      c\n",
       "0                  [deleted]  37035\n",
       "1                rotoreuters   1017\n",
       "2                    ImaBlue    989\n",
       "3              AutoModerator    773\n",
       "4                      RPBot    663\n",
       "...                      ...    ...\n",
       "105391              aero2146      1\n",
       "105392            Rezurektme      1\n",
       "105393            bcseismail      1\n",
       "105394  PM_ME_FOR_POTATO_PIC      1\n",
       "105395           cartlardena      1\n",
       "\n",
       "[105396 rows x 2 columns]"
      ]
     },
     "execution_count": 42,
     "metadata": {},
     "output_type": "execute_result"
    }
   ],
   "source": [
    "spark.sql(\"select author, count(*) as c from reddit group by author order by c desc\").toPandas()"
   ]
  },
  {
   "cell_type": "markdown",
   "metadata": {
    "id": "bPMXmWxuZAmN"
   },
   "source": [
    "--------\n",
    "\n",
    "\n",
    "<font size=10 color=red>Ejercicio</font>\n",
    "\n",
    "Obten los usuarios que han subido a reddit más de 10 posts de más de 100 carácteres.\n",
    "\n",
    "--------\n",
    "Respuesta:"
   ]
  },
  {
   "cell_type": "code",
   "execution_count": 43,
   "metadata": {},
   "outputs": [
    {
     "data": {
      "text/html": [
       "<div>\n",
       "<style scoped>\n",
       "    .dataframe tbody tr th:only-of-type {\n",
       "        vertical-align: middle;\n",
       "    }\n",
       "\n",
       "    .dataframe tbody tr th {\n",
       "        vertical-align: top;\n",
       "    }\n",
       "\n",
       "    .dataframe thead th {\n",
       "        text-align: right;\n",
       "    }\n",
       "</style>\n",
       "<table border=\"1\" class=\"dataframe\">\n",
       "  <thead>\n",
       "    <tr style=\"text-align: right;\">\n",
       "      <th></th>\n",
       "      <th>author</th>\n",
       "      <th>num_posts</th>\n",
       "    </tr>\n",
       "  </thead>\n",
       "  <tbody>\n",
       "    <tr>\n",
       "      <th>0</th>\n",
       "      <td>boardgamerecommender</td>\n",
       "      <td>12</td>\n",
       "    </tr>\n",
       "    <tr>\n",
       "      <th>1</th>\n",
       "      <td>dota2matchbot</td>\n",
       "      <td>230</td>\n",
       "    </tr>\n",
       "    <tr>\n",
       "      <th>2</th>\n",
       "      <td>[deleted]</td>\n",
       "      <td>529</td>\n",
       "    </tr>\n",
       "    <tr>\n",
       "      <th>3</th>\n",
       "      <td>JmodTracker</td>\n",
       "      <td>11</td>\n",
       "    </tr>\n",
       "    <tr>\n",
       "      <th>4</th>\n",
       "      <td>lolretkj</td>\n",
       "      <td>12</td>\n",
       "    </tr>\n",
       "    <tr>\n",
       "      <th>5</th>\n",
       "      <td>gyfaglover4</td>\n",
       "      <td>242</td>\n",
       "    </tr>\n",
       "    <tr>\n",
       "      <th>6</th>\n",
       "      <td>AutoModerator</td>\n",
       "      <td>616</td>\n",
       "    </tr>\n",
       "    <tr>\n",
       "      <th>7</th>\n",
       "      <td>Jesupekka</td>\n",
       "      <td>21</td>\n",
       "    </tr>\n",
       "    <tr>\n",
       "      <th>8</th>\n",
       "      <td>autotldr</td>\n",
       "      <td>221</td>\n",
       "    </tr>\n",
       "    <tr>\n",
       "      <th>9</th>\n",
       "      <td>Chabombs</td>\n",
       "      <td>13</td>\n",
       "    </tr>\n",
       "    <tr>\n",
       "      <th>10</th>\n",
       "      <td>removalbot</td>\n",
       "      <td>305</td>\n",
       "    </tr>\n",
       "    <tr>\n",
       "      <th>11</th>\n",
       "      <td>unityrufa</td>\n",
       "      <td>11</td>\n",
       "    </tr>\n",
       "    <tr>\n",
       "      <th>12</th>\n",
       "      <td>ShitSeattleSays</td>\n",
       "      <td>11</td>\n",
       "    </tr>\n",
       "    <tr>\n",
       "      <th>13</th>\n",
       "      <td>ccmanga</td>\n",
       "      <td>57</td>\n",
       "    </tr>\n",
       "    <tr>\n",
       "      <th>14</th>\n",
       "      <td>MartyMcfly6</td>\n",
       "      <td>15</td>\n",
       "    </tr>\n",
       "    <tr>\n",
       "      <th>15</th>\n",
       "      <td>james4398</td>\n",
       "      <td>15</td>\n",
       "    </tr>\n",
       "    <tr>\n",
       "      <th>16</th>\n",
       "      <td>asamale</td>\n",
       "      <td>12</td>\n",
       "    </tr>\n",
       "    <tr>\n",
       "      <th>17</th>\n",
       "      <td>victorantos2</td>\n",
       "      <td>12</td>\n",
       "    </tr>\n",
       "    <tr>\n",
       "      <th>18</th>\n",
       "      <td>Kmoore75801</td>\n",
       "      <td>54</td>\n",
       "    </tr>\n",
       "    <tr>\n",
       "      <th>19</th>\n",
       "      <td>scamcop</td>\n",
       "      <td>18</td>\n",
       "    </tr>\n",
       "    <tr>\n",
       "      <th>20</th>\n",
       "      <td>fiplefip</td>\n",
       "      <td>193</td>\n",
       "    </tr>\n",
       "    <tr>\n",
       "      <th>21</th>\n",
       "      <td>NHLStreamsBot</td>\n",
       "      <td>34</td>\n",
       "    </tr>\n",
       "    <tr>\n",
       "      <th>22</th>\n",
       "      <td>albedrio</td>\n",
       "      <td>12</td>\n",
       "    </tr>\n",
       "    <tr>\n",
       "      <th>23</th>\n",
       "      <td>Ulimit200</td>\n",
       "      <td>24</td>\n",
       "    </tr>\n",
       "    <tr>\n",
       "      <th>24</th>\n",
       "      <td>FFBot</td>\n",
       "      <td>14</td>\n",
       "    </tr>\n",
       "    <tr>\n",
       "      <th>25</th>\n",
       "      <td>soneo143</td>\n",
       "      <td>14</td>\n",
       "    </tr>\n",
       "    <tr>\n",
       "      <th>26</th>\n",
       "      <td>cruyff8</td>\n",
       "      <td>83</td>\n",
       "    </tr>\n",
       "    <tr>\n",
       "      <th>27</th>\n",
       "      <td>leaopeng</td>\n",
       "      <td>102</td>\n",
       "    </tr>\n",
       "    <tr>\n",
       "      <th>28</th>\n",
       "      <td>stephini</td>\n",
       "      <td>23</td>\n",
       "    </tr>\n",
       "    <tr>\n",
       "      <th>29</th>\n",
       "      <td>juriah121</td>\n",
       "      <td>102</td>\n",
       "    </tr>\n",
       "    <tr>\n",
       "      <th>30</th>\n",
       "      <td>skdgldgajdgkj</td>\n",
       "      <td>11</td>\n",
       "    </tr>\n",
       "  </tbody>\n",
       "</table>\n",
       "</div>"
      ],
      "text/plain": [
       "                  author  num_posts\n",
       "0   boardgamerecommender         12\n",
       "1          dota2matchbot        230\n",
       "2              [deleted]        529\n",
       "3            JmodTracker         11\n",
       "4               lolretkj         12\n",
       "5            gyfaglover4        242\n",
       "6          AutoModerator        616\n",
       "7              Jesupekka         21\n",
       "8               autotldr        221\n",
       "9               Chabombs         13\n",
       "10            removalbot        305\n",
       "11             unityrufa         11\n",
       "12       ShitSeattleSays         11\n",
       "13               ccmanga         57\n",
       "14           MartyMcfly6         15\n",
       "15             james4398         15\n",
       "16               asamale         12\n",
       "17          victorantos2         12\n",
       "18           Kmoore75801         54\n",
       "19               scamcop         18\n",
       "20              fiplefip        193\n",
       "21         NHLStreamsBot         34\n",
       "22              albedrio         12\n",
       "23             Ulimit200         24\n",
       "24                 FFBot         14\n",
       "25              soneo143         14\n",
       "26               cruyff8         83\n",
       "27              leaopeng        102\n",
       "28              stephini         23\n",
       "29             juriah121        102\n",
       "30         skdgldgajdgkj         11"
      ]
     },
     "execution_count": 43,
     "metadata": {},
     "output_type": "execute_result"
    }
   ],
   "source": [
    "spark.sql(\"\"\"\n",
    "    SELECT author, COUNT(*) AS num_posts\n",
    "    FROM reddit\n",
    "    WHERE length > 100\n",
    "    GROUP BY author\n",
    "    HAVING COUNT(*) > 10\n",
    "\"\"\").toPandas()\n"
   ]
  },
  {
   "cell_type": "markdown",
   "metadata": {},
   "source": [
    "Ejemplo de comprobación de homogeneidad:\n"
   ]
  },
  {
   "cell_type": "code",
   "execution_count": 48,
   "metadata": {
    "scrolled": true
   },
   "outputs": [
    {
     "name": "stdout",
     "output_type": "stream",
     "text": [
      "(True, [<class 'int'>])\n",
      "(False, [<class 'int'>, <class 'str'>, <class 'float'>])\n"
     ]
    }
   ],
   "source": [
    "import math\n",
    "def rdd_is_homogeneous(rdd):\n",
    "    tipos = rdd.map(lambda x: type(x)).distinct().collect()\n",
    "    return len(tipos) == 1, tipos\n",
    "\n",
    "r1 = sc.parallelize([1, 2, 3])\n",
    "r2 = sc.parallelize([1, \"dos\", 3.0])\n",
    "\n",
    "print(rdd_is_homogeneous(r1))\n",
    "print(rdd_is_homogeneous(r2))\n"
   ]
  },
  {
   "cell_type": "code",
   "execution_count": 55,
   "metadata": {},
   "outputs": [
    {
     "data": {
      "text/plain": [
       "2"
      ]
     },
     "execution_count": 55,
     "metadata": {},
     "output_type": "execute_result"
    }
   ],
   "source": [
    "r1.getNumPartitions()\n"
   ]
  },
  {
   "cell_type": "code",
   "execution_count": 56,
   "metadata": {},
   "outputs": [
    {
     "data": {
      "text/plain": [
       "[1, 2]"
      ]
     },
     "execution_count": 56,
     "metadata": {},
     "output_type": "execute_result"
    }
   ],
   "source": [
    "r1.mapPartitions(lambda it: [sum(1 for _ in it)]).collect()\n"
   ]
  },
  {
   "cell_type": "code",
   "execution_count": 65,
   "metadata": {},
   "outputs": [
    {
     "name": "stdout",
     "output_type": "stream",
     "text": [
      "particiones: 8\n"
     ]
    },
    {
     "data": {
      "text/plain": [
       "([12500, 12500, 12500, 12500, 12500, 12500, 12500, 12500],\n",
       " [2000, 0, 0, 0, 0, 0, 0, 0])"
      ]
     },
     "execution_count": 65,
     "metadata": {},
     "output_type": "execute_result"
    }
   ],
   "source": [
    "base = sc.parallelize(range(100_000), 8)\n",
    "print(\"particiones:\", base.getNumPartitions())\n",
    "\n",
    "desbalanceado = base.filter(lambda x: x < 2_000)\n",
    "\n",
    "base_dist  = base.mapPartitions(lambda it: [sum(1 for _ in it)]).collect()\n",
    "desbalanceado_dist  = desbalanceado.mapPartitions(lambda it: [sum(1 for _ in it)]).collect()\n",
    "base_dist, desbalanceado_dist\n",
    "\n"
   ]
  }
 ],
 "metadata": {
  "colab": {
   "provenance": [],
   "toc_visible": true
  },
  "kernelspec": {
   "display_name": "Python 3 (ipykernel)",
   "language": "python",
   "name": "python3"
  },
  "language_info": {
   "codemirror_mode": {
    "name": "ipython",
    "version": 3
   },
   "file_extension": ".py",
   "mimetype": "text/x-python",
   "name": "python",
   "nbconvert_exporter": "python",
   "pygments_lexer": "ipython3",
   "version": "3.12.11"
  }
 },
 "nbformat": 4,
 "nbformat_minor": 4
}
