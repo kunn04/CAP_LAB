{
  "cells": [
    {
      "cell_type": "markdown",
      "metadata": {
        "id": "iiZ0mu0M4SQ4"
      },
      "source": [
        "## Comprobar HW y SW instalado\n",
        "\n",
        "\n",
        "\n",
        "\n",
        "\n",
        "\n"
      ]
    },
    {
      "cell_type": "code",
      "execution_count": 30,
      "metadata": {
        "colab": {
          "base_uri": "https://localhost:8080/"
        },
        "id": "2HMKkmKLCh43",
        "outputId": "5fbe62d3-d674-443c-b613-e5f52498fd88"
      },
      "outputs": [
        {
          "name": "stdout",
          "output_type": "stream",
          "text": [
            "Architecture:                x86_64\n",
            "  CPU op-mode(s):            32-bit, 64-bit\n",
            "  Address sizes:             46 bits physical, 48 bits virtual\n",
            "  Byte Order:                Little Endian\n",
            "CPU(s):                      2\n",
            "  On-line CPU(s) list:       0,1\n",
            "Vendor ID:                   GenuineIntel\n",
            "  Model name:                Intel(R) Xeon(R) CPU @ 2.00GHz\n",
            "    CPU family:              6\n",
            "    Model:                   85\n",
            "    Thread(s) per core:      2\n",
            "    Core(s) per socket:      1\n",
            "    Socket(s):               1\n",
            "    Stepping:                3\n",
            "    BogoMIPS:                4000.29\n",
            "    Flags:                   fpu vme de pse tsc msr pae mce cx8 apic sep mtrr pg\n",
            "                             e mca cmov pat pse36 clflush mmx fxsr sse sse2 ss h\n",
            "                             t syscall nx pdpe1gb rdtscp lm constant_tsc rep_goo\n",
            "                             d nopl xtopology nonstop_tsc cpuid tsc_known_freq p\n",
            "                             ni pclmulqdq ssse3 fma cx16 pcid sse4_1 sse4_2 x2ap\n",
            "                             ic movbe popcnt aes xsave avx f16c rdrand hyperviso\n",
            "                             r lahf_lm abm 3dnowprefetch ssbd ibrs ibpb stibp fs\n",
            "                             gsbase tsc_adjust bmi1 hle avx2 smep bmi2 erms invp\n",
            "                             cid rtm mpx avx512f avx512dq rdseed adx smap clflus\n",
            "                             hopt clwb avx512cd avx512bw avx512vl xsaveopt xsave\n",
            "                             c xgetbv1 xsaves arat md_clear arch_capabilities\n",
            "Virtualization features:     \n",
            "  Hypervisor vendor:         KVM\n",
            "  Virtualization type:       full\n",
            "Caches (sum of all):         \n",
            "  L1d:                       32 KiB (1 instance)\n",
            "  L1i:                       32 KiB (1 instance)\n",
            "  L2:                        1 MiB (1 instance)\n",
            "  L3:                        38.5 MiB (1 instance)\n",
            "NUMA:                        \n",
            "  NUMA node(s):              1\n",
            "  NUMA node0 CPU(s):         0,1\n",
            "Vulnerabilities:             \n",
            "  Gather data sampling:      Not affected\n",
            "  Indirect target selection: Vulnerable\n",
            "  Itlb multihit:             Not affected\n",
            "  L1tf:                      Mitigation; PTE Inversion\n",
            "  Mds:                       Vulnerable; SMT Host state unknown\n",
            "  Meltdown:                  Vulnerable\n",
            "  Mmio stale data:           Vulnerable\n",
            "  Reg file data sampling:    Not affected\n",
            "  Retbleed:                  Vulnerable\n",
            "  Spec rstack overflow:      Not affected\n",
            "  Spec store bypass:         Vulnerable\n",
            "  Spectre v1:                Vulnerable: __user pointer sanitization and usercop\n",
            "                             y barriers only; no swapgs barriers\n",
            "  Spectre v2:                Vulnerable; IBPB: disabled; STIBP: disabled; PBRSB-\n",
            "                             eIBRS: Not affected; BHI: Vulnerable\n",
            "  Srbds:                     Not affected\n",
            "  Tsa:                       Not affected\n",
            "  Tsx async abort:           Vulnerable\n"
          ]
        }
      ],
      "source": [
        "!lscpu"
      ]
    },
    {
      "cell_type": "code",
      "execution_count": 31,
      "metadata": {
        "colab": {
          "base_uri": "https://localhost:8080/"
        },
        "id": "re6wntSW4GpU",
        "outputId": "1cd28a70-d101-4ab4-cc76-fa93b6f735e0"
      },
      "outputs": [
        {
          "name": "stdout",
          "output_type": "stream",
          "text": [
            "nvcc: NVIDIA (R) Cuda compiler driver\n",
            "Copyright (c) 2005-2024 NVIDIA Corporation\n",
            "Built on Thu_Jun__6_02:18:23_PDT_2024\n",
            "Cuda compilation tools, release 12.5, V12.5.82\n",
            "Build cuda_12.5.r12.5/compiler.34385749_0\n"
          ]
        }
      ],
      "source": [
        "!nvcc --version"
      ]
    },
    {
      "cell_type": "code",
      "execution_count": 32,
      "metadata": {
        "colab": {
          "base_uri": "https://localhost:8080/"
        },
        "id": "ttSpDHvptOVn",
        "outputId": "6b550c61-0f8c-4975-ce21-e3c83f7cf3d1"
      },
      "outputs": [
        {
          "name": "stdout",
          "output_type": "stream",
          "text": [
            "Sat Nov  1 19:52:30 2025       \n",
            "+-----------------------------------------------------------------------------------------+\n",
            "| NVIDIA-SMI 550.54.15              Driver Version: 550.54.15      CUDA Version: 12.4     |\n",
            "|-----------------------------------------+------------------------+----------------------+\n",
            "| GPU  Name                 Persistence-M | Bus-Id          Disp.A | Volatile Uncorr. ECC |\n",
            "| Fan  Temp   Perf          Pwr:Usage/Cap |           Memory-Usage | GPU-Util  Compute M. |\n",
            "|                                         |                        |               MIG M. |\n",
            "|=========================================+========================+======================|\n",
            "|   0  Tesla T4                       Off |   00000000:00:04.0 Off |                    0 |\n",
            "| N/A   38C    P8              9W /   70W |       0MiB /  15360MiB |      0%      Default |\n",
            "|                                         |                        |                  N/A |\n",
            "+-----------------------------------------+------------------------+----------------------+\n",
            "                                                                                         \n",
            "+-----------------------------------------------------------------------------------------+\n",
            "| Processes:                                                                              |\n",
            "|  GPU   GI   CI        PID   Type   Process name                              GPU Memory |\n",
            "|        ID   ID                                                               Usage      |\n",
            "|=========================================================================================|\n",
            "|  No running processes found                                                             |\n",
            "+-----------------------------------------------------------------------------------------+\n"
          ]
        }
      ],
      "source": [
        "!nvidia-smi"
      ]
    },
    {
      "cell_type": "markdown",
      "metadata": {
        "id": "qzoggfoq4YiF"
      },
      "source": [
        "## Tutorial: Multiplicación de matrices en GPU\n",
        "\n"
      ]
    },
    {
      "cell_type": "markdown",
      "metadata": {
        "id": "UFzEOc1kDxUY"
      },
      "source": [
        "Adaptación de los ejemplos disponibles en los siguientes enlaces:\n",
        "*  https://medium.com/@harsh20111997/cuda-programming-2d-matrix-multiplication-1aa774b8d703\n",
        "* https://www.quantstart.com/articles/Matrix-Matrix-Multiplication-on-the-GPU-with-Nvidia-CUDA/"
      ]
    },
    {
      "cell_type": "code",
      "execution_count": 33,
      "metadata": {
        "colab": {
          "base_uri": "https://localhost:8080/"
        },
        "id": "p8l5dW0-hJcY",
        "outputId": "1fdacb97-88d9-4b1a-a996-07b59bdf834b"
      },
      "outputs": [
        {
          "name": "stdout",
          "output_type": "stream",
          "text": [
            "mkdir: cannot create directory ‘cuda’: File exists\n"
          ]
        }
      ],
      "source": [
        "! mkdir cuda"
      ]
    },
    {
      "cell_type": "code",
      "execution_count": 34,
      "metadata": {
        "colab": {
          "base_uri": "https://localhost:8080/"
        },
        "id": "4_WYQ2UU4TiM",
        "outputId": "4489b293-9cb9-4a95-d0fa-1da4cf87b16e"
      },
      "outputs": [
        {
          "name": "stdout",
          "output_type": "stream",
          "text": [
            "Overwriting cuda/MatMult.cu\n"
          ]
        }
      ],
      "source": [
        "%%writefile cuda/MatMult.cu\n",
        "\n",
        "#include <stdio.h>\n",
        "#include <cuda.h>\n",
        "#include <cuda_runtime.h>\n",
        "\n",
        "#define N 3\n",
        "\n",
        "__global__ void matrix_mul(int *a, int *b, int *c, int n) {\n",
        "    int i = blockIdx.x * blockDim.x + threadIdx.x;\n",
        "    int j = blockIdx.y * blockDim.y + threadIdx.y;\n",
        "    int sum = 0;\n",
        "    if (i < n && j < n) {\n",
        "        for (int k = 0; k < n; k++)\n",
        "            sum += a[i * n + k] * b[k * n + j];\n",
        "        c[i * n + j] = sum;\n",
        "    }\n",
        "}\n",
        "\n",
        "void printMat( int *mm, char *nombre, int n){\n",
        "   for (int i = 0; i < n; i++) {\n",
        "        for (int j = 0; j < n; j++)\n",
        "\t\t\t\t\tprintf(\" %c[%d][%d] = %d \",nombre[0] ,i, j, mm[i * n + j]);\n",
        "        printf(\"\\n\");\n",
        "    }\n",
        "}\n",
        "\n",
        "int main() {\n",
        "    int n = N;\n",
        "    int *a, *b, *c;\n",
        "    int *d_a, *d_b, *d_c;\n",
        "    int size = n * n * sizeof(int);\n",
        "\t\tchar matA[]= \"A\";\n",
        "\t\tchar matB[]= \"B\";\n",
        "\t\tchar matC[]= \"C\";\n",
        "\n",
        "    a = (int *)malloc(size);\n",
        "    b = (int *)malloc(size);\n",
        "    c = (int *)malloc(size);\n",
        "\n",
        "\t\t// Inicializacion de valores\n",
        "    for (int i = 0; i < n; i++)\n",
        "        for (int j = 0; j < n; j++) {\n",
        "            a[i * n + j] = i + j;\n",
        "            b[i * n + j] = i * j;\n",
        "        }\n",
        "\n",
        "    cudaMalloc((void **)&d_a, size);\n",
        "    cudaMalloc((void **)&d_b, size);\n",
        "    cudaMalloc((void **)&d_c, size);\n",
        "\n",
        "    cudaMemcpy(d_a, a, size, cudaMemcpyHostToDevice);\n",
        "    cudaMemcpy(d_b, b, size, cudaMemcpyHostToDevice);\n",
        "\n",
        "    dim3 blockSize(N, N);\n",
        "    dim3 gridSize((n + N - 1) / N, (n + N - 1) / N);\n",
        "    matrix_mul<<<gridSize, blockSize>>>(d_a, d_b, d_c, n);\n",
        "\n",
        "    cudaMemcpy(c, d_c, size, cudaMemcpyDeviceToHost);\n",
        "\n",
        "    printMat( a, matA, n); printf(\"\\n\");\n",
        "    printMat( b, matB, n); printf(\"\\n\");\n",
        "\t\tprintMat( c, matC, n);\n",
        "\n",
        "\t\t/* for (int i = 0; i < n; i++) {\n",
        "        for (int j = 0; j < n; j++)\n",
        "\t\t\t\t\tprintf(\" c[ %d ][ %d ] = %d \", i, j, c[i * n + j]);\n",
        "        printf(\"\\n\");\n",
        "    }\n",
        "\t\t*/\n",
        "\n",
        "    cudaFree(d_a);\n",
        "    cudaFree(d_b);\n",
        "    cudaFree(d_c);\n",
        "    free(a);\n",
        "    free(b);\n",
        "    free(c);\n",
        "\n",
        "    return 0;\n",
        "}"
      ]
    },
    {
      "cell_type": "code",
      "execution_count": 35,
      "metadata": {
        "colab": {
          "base_uri": "https://localhost:8080/"
        },
        "id": "uX_maQqhiVVc",
        "outputId": "efc80a93-2086-4ebf-d44d-3f390e31b56b"
      },
      "outputs": [
        {
          "name": "stdout",
          "output_type": "stream",
          "text": [
            "total 2984\n",
            "drwxr-xr-x 2 root root    4096 Nov  1 19:52 .\n",
            "drwxr-xr-x 1 root root    4096 Nov  1 19:49 ..\n",
            "-rwxr-xr-x 1 root root 1007464 Nov  1 19:52 MatMult\n",
            "-rwxr-xr-x 1 root root 1006456 Nov  1 19:48 MatMult1D\n",
            "-rw-r--r-- 1 root root    1838 Nov  1 19:48 MatMult1D.cu\n",
            "-rw-r--r-- 1 root root    1852 Nov  1 19:52 MatMult.cu\n",
            "-rwxr-xr-x 1 root root 1007912 Nov  1 19:48 MatMultF\n",
            "-rw-r--r-- 1 root root    3620 Nov  1 19:48 MatMultF.cu\n",
            "-rw-r--r-- 1 root root    3880 Nov  1 19:48 MatMultF_e2e.cu\n",
            "-rw-r--r-- 1 root root     655 Nov  1 19:49 MaxNProbe.cu\n"
          ]
        }
      ],
      "source": [
        "!nvcc cuda/MatMult.cu -o cuda/MatMult\n",
        "!ls -la cuda"
      ]
    },
    {
      "cell_type": "code",
      "execution_count": 36,
      "metadata": {
        "colab": {
          "base_uri": "https://localhost:8080/"
        },
        "id": "fmyKUKpLipOW",
        "outputId": "d75c99d2-4511-4849-8410-c75c7e1a9834"
      },
      "outputs": [
        {
          "name": "stdout",
          "output_type": "stream",
          "text": [
            " A[0][0] = 0  A[0][1] = 1  A[0][2] = 2 \n",
            " A[1][0] = 1  A[1][1] = 2  A[1][2] = 3 \n",
            " A[2][0] = 2  A[2][1] = 3  A[2][2] = 4 \n",
            "\n",
            " B[0][0] = 0  B[0][1] = 0  B[0][2] = 0 \n",
            " B[1][0] = 0  B[1][1] = 1  B[1][2] = 2 \n",
            " B[2][0] = 0  B[2][1] = 2  B[2][2] = 4 \n",
            "\n",
            " C[0][0] = 0  C[0][1] = 0  C[0][2] = 0 \n",
            " C[1][0] = 0  C[1][1] = 0  C[1][2] = 0 \n",
            " C[2][0] = 0  C[2][1] = 0  C[2][2] = 0 \n"
          ]
        }
      ],
      "source": [
        "!./cuda/MatMult"
      ]
    },
    {
      "cell_type": "markdown",
      "metadata": {
        "id": "i2pwuSAdmsS6"
      },
      "source": [
        "### Ejercicio T1:\n",
        "En el ejercicio anterior se utiliza un grid de bloques 2D y en cada bloque una distribución de hilos también 2D.\n",
        "* Realice una version 1D tanto para el lanzamiento de bloques, como para la distribución de hilos dentro del bloque.\n",
        "* ¿Que versión es más eficiente? Justifique los resultados.\n"
      ]
    },
    {
      "cell_type": "markdown",
      "metadata": {
        "id": "0sdqBIXO-nB2"
      },
      "source": [
        "### Respuesta Ejercicio 2.1 – Versión 1D \n",
        "- Versión 1D: usamos grid 1D y bloques 1D; cada hilo calcula un elemento C[row,col] a partir de un índice lineal id → (row=id/N, col=id%N).\n",
        "- Corrección: produce exactamente el mismo resultado que la versión 2D (se verifica imprimiendo matrices).\n",
        "- Eficiencia:\n",
        "  - 2D suele mapear mejor la geometría de la matriz (p. ej., bloques 32×32), favoreciendo coalescencia y ocupación equilibrada; para N grandes, el kernel 2D tiende a ser ligeramente más rápido.\n",
        "  - 1D simplifica el mapeo y puede rendir de forma similar si los accesos siguen siendo coalescentes; para tamaños pequeños la diferencia es marginal y domina el coste de lanzamiento.\n",
        "  - Conclusión práctica: ambas son válidas; en entornos docentes 2D suele tener una ligera ventaja en kernel para N grandes, pero 1D es más simple y suficientemente eficiente."
      ]
    },
    {
      "cell_type": "code",
      "execution_count": 37,
      "metadata": {
        "colab": {
          "base_uri": "https://localhost:8080/"
        },
        "id": "_isEyp5S-nB2",
        "outputId": "11ab7dd4-b16d-4990-f2f5-4bab6bb92c4d"
      },
      "outputs": [
        {
          "name": "stdout",
          "output_type": "stream",
          "text": [
            "Overwriting cuda/MatMult1D.cu\n"
          ]
        }
      ],
      "source": [
        "%%writefile cuda/MatMult1D.cu\n",
        "\n",
        "#include <stdio.h>\n",
        "#include <cuda.h>\n",
        "#include <cuda_runtime.h>\n",
        "\n",
        "#define N 3\n",
        "\n",
        "__global__ void matrix_mul_1d(const int *a, const int *b, int *c, int n) {\n",
        "    int id = blockIdx.x * blockDim.x + threadIdx.x;\n",
        "    int total = n * n;\n",
        "    if (id < total) {\n",
        "        int row = id / n;\n",
        "        int col = id % n;\n",
        "        int sum = 0;\n",
        "        for (int k = 0; k < n; k++) {\n",
        "            sum += a[row * n + k] * b[k * n + col];\n",
        "        }\n",
        "        c[row * n + col] = sum;\n",
        "    }\n",
        "}\n",
        "\n",
        "void printMat(const int *mm, const char *nombre, int n){\n",
        "   for (int i = 0; i < n; i++) {\n",
        "        for (int j = 0; j < n; j++)\n",
        "            printf(\" %c[%d][%d] = %d \",nombre[0] ,i, j, mm[i * n + j]);\n",
        "        printf(\"\\n\");\n",
        "    }\n",
        "}\n",
        "\n",
        "int main() {\n",
        "    int n = N;\n",
        "    int *a, *b, *c;\n",
        "    int *d_a, *d_b, *d_c;\n",
        "    int size = n * n * sizeof(int);\n",
        "    char matA[]= \"A\";\n",
        "    char matB[]= \"B\";\n",
        "    char matC[]= \"C\";\n",
        "\n",
        "    a = (int *)malloc(size);\n",
        "    b = (int *)malloc(size);\n",
        "    c = (int *)malloc(size);\n",
        "\n",
        "    // Inicializacion de valores\n",
        "    for (int i = 0; i < n; i++)\n",
        "        for (int j = 0; j < n; j++) {\n",
        "            a[i * n + j] = i + j;\n",
        "            b[i * n + j] = i * j;\n",
        "        }\n",
        "\n",
        "    cudaMalloc((void **)&d_a, size);\n",
        "    cudaMalloc((void **)&d_b, size);\n",
        "    cudaMalloc((void **)&d_c, size);\n",
        "\n",
        "    cudaMemcpy(d_a, a, size, cudaMemcpyHostToDevice);\n",
        "    cudaMemcpy(d_b, b, size, cudaMemcpyHostToDevice);\n",
        "\n",
        "    int total = n*n;\n",
        "    int threadsPerBlock = 128;\n",
        "    int blocksPerGrid = (total + threadsPerBlock - 1) / threadsPerBlock;\n",
        "    matrix_mul_1d<<<blocksPerGrid, threadsPerBlock>>>(d_a, d_b, d_c, n);\n",
        "\n",
        "    cudaMemcpy(c, d_c, size, cudaMemcpyDeviceToHost);\n",
        "\n",
        "    printMat( a, matA, n); printf(\"\\n\");\n",
        "    printMat( b, matB, n); printf(\"\\n\");\n",
        "    printMat( c, matC, n);\n",
        "\n",
        "    cudaFree(d_a);\n",
        "    cudaFree(d_b);\n",
        "    cudaFree(d_c);\n",
        "    free(a);\n",
        "    free(b);\n",
        "    free(c);\n",
        "\n",
        "    return 0;\n",
        "}"
      ]
    },
    {
      "cell_type": "code",
      "execution_count": 38,
      "metadata": {
        "colab": {
          "base_uri": "https://localhost:8080/"
        },
        "id": "oLssJQjq-nB3",
        "outputId": "f58bd68e-b4ac-4e64-92af-665d73864d93"
      },
      "outputs": [
        {
          "name": "stdout",
          "output_type": "stream",
          "text": [
            " A[0][0] = 0  A[0][1] = 1  A[0][2] = 2 \n",
            " A[1][0] = 1  A[1][1] = 2  A[1][2] = 3 \n",
            " A[2][0] = 2  A[2][1] = 3  A[2][2] = 4 \n",
            "\n",
            " B[0][0] = 0  B[0][1] = 0  B[0][2] = 0 \n",
            " B[1][0] = 0  B[1][1] = 1  B[1][2] = 2 \n",
            " B[2][0] = 0  B[2][1] = 2  B[2][2] = 4 \n",
            "\n",
            " C[0][0] = 0  C[0][1] = 0  C[0][2] = 0 \n",
            " C[1][0] = 0  C[1][1] = 0  C[1][2] = 0 \n",
            " C[2][0] = 0  C[2][1] = 0  C[2][2] = 0 \n"
          ]
        }
      ],
      "source": [
        "!nvcc -O3 cuda/MatMult1D.cu -o cuda/MatMult1D\n",
        "!./cuda/MatMult1D"
      ]
    },
    {
      "cell_type": "code",
      "execution_count": 39,
      "metadata": {
        "colab": {
          "base_uri": "https://localhost:8080/"
        },
        "id": "rKPX1JSQE9DD",
        "outputId": "2b281773-7aca-4261-edf4-4993760f0b8a"
      },
      "outputs": [
        {
          "name": "stdout",
          "output_type": "stream",
          "text": [
            "-rwxr-xr-x 1 root root 1007464 Nov  1 19:52 cuda/MatMult\n",
            "-rwxr-xr-x 1 root root 1006456 Nov  1 19:52 cuda/MatMult1D\n",
            "-rw-r--r-- 1 root root    1838 Nov  1 19:52 cuda/MatMult1D.cu\n",
            "-rw-r--r-- 1 root root    1852 Nov  1 19:52 cuda/MatMult.cu\n",
            "-rwxr-xr-x 1 root root 1007912 Nov  1 19:48 cuda/MatMultF\n",
            "-rw-r--r-- 1 root root    3620 Nov  1 19:48 cuda/MatMultF.cu\n",
            "-rw-r--r-- 1 root root    3880 Nov  1 19:48 cuda/MatMultF_e2e.cu\n",
            "-rw-r--r-- 1 root root     655 Nov  1 19:49 cuda/MaxNProbe.cu\n"
          ]
        }
      ],
      "source": [
        "!ls -la cuda/*"
      ]
    },
    {
      "cell_type": "code",
      "execution_count": 40,
      "metadata": {
        "colab": {
          "base_uri": "https://localhost:8080/"
        },
        "id": "sKlmzacPkgEl",
        "outputId": "1d90fbed-2d26-4a5a-d271-a04af9e34c74"
      },
      "outputs": [
        {
          "name": "stdout",
          "output_type": "stream",
          "text": [
            "==1891== NVPROF is profiling process 1891, command: cuda/MatMult\n",
            " A[0][0] = 0  A[0][1] = 1  A[0][2] = 2 \n",
            " A[1][0] = 1  A[1][1] = 2  A[1][2] = 3 \n",
            " A[2][0] = 2  A[2][1] = 3  A[2][2] = 4 \n",
            "\n",
            " B[0][0] = 0  B[0][1] = 0  B[0][2] = 0 \n",
            " B[1][0] = 0  B[1][1] = 1  B[1][2] = 2 \n",
            " B[2][0] = 0  B[2][1] = 2  B[2][2] = 4 \n",
            "\n",
            " C[0][0] = 0  C[0][1] = 0  C[0][2] = 0 \n",
            " C[1][0] = 0  C[1][1] = 0  C[1][2] = 0 \n",
            " C[2][0] = 0  C[2][1] = 0  C[2][2] = 0 \n",
            "==1891== Profiling application: cuda/MatMult\n",
            "==1891== Profiling result:\n",
            "            Type  Time(%)      Time     Calls       Avg       Min       Max  Name\n",
            " GPU activities:   54.74%  2.4000us         1  2.4000us  2.4000us  2.4000us  [CUDA memcpy DtoH]\n",
            "                   45.26%  1.9840us         2     992ns     704ns  1.2800us  [CUDA memcpy HtoD]\n",
            "      API calls:   91.46%  81.410ms         3  27.137ms  4.3850us  81.400ms  cudaMalloc\n",
            "                    8.11%  7.2227ms         1  7.2227ms  7.2227ms  7.2227ms  cudaLaunchKernel\n",
            "                    0.17%  154.78us       114  1.3570us     101ns  68.691us  cuDeviceGetAttribute\n",
            "                    0.16%  141.40us         3  47.133us  5.7690us  121.16us  cudaFree\n",
            "                    0.06%  57.292us         3  19.097us  6.9470us  31.832us  cudaMemcpy\n",
            "                    0.02%  17.195us         1  17.195us  17.195us  17.195us  cuDeviceGetName\n",
            "                    0.01%  6.1810us         1  6.1810us  6.1810us  6.1810us  cuDeviceGetPCIBusId\n",
            "                    0.00%  2.5210us         3     840ns     128ns  2.1860us  cuDeviceGetCount\n",
            "                    0.00%     732ns         2     366ns     175ns     557ns  cuDeviceGet\n",
            "                    0.00%     666ns         1     666ns     666ns     666ns  cuDeviceTotalMem\n",
            "                    0.00%     502ns         1     502ns     502ns     502ns  cuModuleGetLoadingMode\n",
            "                    0.00%     282ns         1     282ns     282ns     282ns  cuDeviceGetUuid\n"
          ]
        }
      ],
      "source": [
        "!nvprof cuda/MatMult"
      ]
    },
    {
      "cell_type": "code",
      "execution_count": 41,
      "metadata": {
        "colab": {
          "base_uri": "https://localhost:8080/"
        },
        "id": "qpPptPl7UBaG",
        "outputId": "821b8951-40e7-4a29-80fb-e02563555dd0"
      },
      "outputs": [
        {
          "name": "stdout",
          "output_type": "stream",
          "text": [
            "Overwriting cuda/MatMultF.cu\n"
          ]
        }
      ],
      "source": [
        "%%writefile cuda/MatMultF.cu\n",
        "\n",
        "#include <stdio.h>\n",
        "#include <math.h>\n",
        "#include <time.h>\n",
        "#include <sys/time.h>\n",
        "#include <cuda.h>\n",
        "#include <cuda_runtime.h>\n",
        "\n",
        "__global__ void matrixMultiplicationKernel(float* A, float* B, float* C, int N) {\n",
        "\n",
        "    int ROW = blockIdx.y*blockDim.y+threadIdx.y;\n",
        "    int COL = blockIdx.x*blockDim.x+threadIdx.x;\n",
        "\n",
        "    float tmpSum = 0;\n",
        "\n",
        "    if (ROW < N && COL < N) {\n",
        "        // each thread computes one element of the block sub-matrix\n",
        "        for (int i = 0; i < N; i++) {\n",
        "            tmpSum += A[ROW * N + i] * B[i * N + COL];\n",
        "        }\n",
        "    }\n",
        "    C[ROW * N + COL] = tmpSum;\n",
        "}\n",
        "\n",
        "// programa principal\n",
        "\n",
        "int main(int argc, char *argv[])\n",
        "{\n",
        "\n",
        "    if(argc!=2) {\n",
        "      printf(\"Ha olvidado el valor de N, NxN.\\n\");\n",
        "      exit(1);\n",
        "    }\n",
        "    int N = atoi(argv[1]);\n",
        "    printf(\"tamaño= %d x %d \\n\", N,N);\n",
        "\n",
        "    struct timeval fin,ini;\n",
        "    long int tiempoGPU,tiempoCPU;\n",
        "\n",
        "//    int N = 16;\n",
        "    float *h_a, *h_b, *h_c;\n",
        "    float *d_a, *d_b, *d_c;\n",
        "    int size = N * N * sizeof(float);\n",
        "\n",
        "    // reserva de memoria en el host\n",
        "    h_a = (float *)malloc(size);\n",
        "    h_b = (float *)malloc(size);\n",
        "    h_c = (float *)malloc(size);\n",
        "\n",
        "\t\t// Inicializacion de valores en la CPU (host)\n",
        "    for (int i=0; i<N; i++){\n",
        "        for (int j=0; j<N; j++){\n",
        "            h_a[i*N+j] = sin(i);\n",
        "            h_b[i*N+j] = cos(j);\n",
        "        }\n",
        "    }\n",
        "\n",
        "    // reserva de memoria en la GPU\n",
        "    cudaMalloc((void **)&d_a, size);\n",
        "    cudaMalloc((void **)&d_b, size);\n",
        "    cudaMalloc((void **)&d_c, size);\n",
        "\n",
        "    // copia de valores a la memoria de la GPU\n",
        "    cudaMemcpy(d_a, h_a, size, cudaMemcpyHostToDevice);\n",
        "    cudaMemcpy(d_b, h_b, size, cudaMemcpyHostToDevice);\n",
        "\n",
        "\n",
        "    // dimensionar el numero de hilos ajustandolo al tamaño de la matriz\n",
        "    dim3 threadsPerBlock(N, N);\n",
        "    dim3 blocksPerGrid(1, 1);\n",
        "        if (N*N > 1024){\n",
        "            threadsPerBlock.x = 32;\n",
        "            threadsPerBlock.y = 32;\n",
        "            blocksPerGrid.x = ceil(double(N)/double(threadsPerBlock.x));\n",
        "            blocksPerGrid.y = ceil(double(N)/double(threadsPerBlock.y));\n",
        "        }\n",
        "    printf(\"threadsPerBlock.x= %d  y threadsPerBlock.y= %d \\n\", threadsPerBlock.x,threadsPerBlock.y);\n",
        "    printf(\"blocksPerGrid.x= %d  y blocksPerGrid.y= %d \\n\", blocksPerGrid.x,blocksPerGrid.y);\n",
        "\n",
        "    gettimeofday(&ini,NULL);\n",
        "\n",
        "    // Llamada al Kernel a ejecutar en la GPU\n",
        "    matrixMultiplicationKernel<<<blocksPerGrid,threadsPerBlock>>>(d_a, d_b, d_c, N);\n",
        "\n",
        "    cudaDeviceSynchronize();\n",
        "    gettimeofday(&fin,NULL);\n",
        "\n",
        "    tiempoGPU=(fin.tv_sec*1000000+fin.tv_usec)-(ini.tv_sec*1000000+ini.tv_usec);\n",
        "    printf(\"tiempo GPU: %ld us. \\n\",tiempoGPU);\n",
        "\n",
        "   // copia de resultados a la memoria de la CPU\n",
        "    cudaMemcpy(h_c, d_c, size, cudaMemcpyDeviceToHost);\n",
        "\n",
        "    float *cpu_C;\n",
        "    cpu_C = (float *)malloc(size);\n",
        "\n",
        "     gettimeofday(&ini,NULL);\n",
        "    // Now do the matrix multiplication on the CPU\n",
        "    float sum;\n",
        "    for (int row=0; row<N; row++){\n",
        "        for (int col=0; col<N; col++){\n",
        "            sum = 0.f;\n",
        "            for (int n=0; n<N; n++){\n",
        "                sum += h_a[row*N+n]*h_b[n*N+col];\n",
        "            }\n",
        "            cpu_C[row*N+col] = sum;\n",
        "        }\n",
        "    }\n",
        "\n",
        "    gettimeofday(&fin,NULL);\n",
        "    tiempoCPU=(fin.tv_sec*1000000+fin.tv_usec)-(ini.tv_sec*1000000+ini.tv_usec);\n",
        "    printf(\"tiempo CPU: %ld us. \\n\",tiempoCPU);\n",
        "\n",
        "\n",
        "    double err = 0;\n",
        "    // Check the result and make sure it is correct\n",
        "    for (int ROW=0; ROW < N; ROW++){\n",
        "        for (int COL=0; COL < N; COL++){\n",
        "            err += cpu_C[ROW * N + COL] - h_c[ROW * N + COL];\n",
        "        }\n",
        "    }\n",
        "\n",
        "    printf (\"Error = %f \", err);printf(\"\\n\");\n",
        "\n",
        "// liberar memoria\n",
        "\n",
        "    cudaFree(d_a);\n",
        "    cudaFree(d_b);\n",
        "    cudaFree(d_c);\n",
        "    free(h_a);\n",
        "    free(h_b);\n",
        "    free(h_c);\n",
        "\n",
        "    return 0;\n",
        "}\n"
      ]
    },
    {
      "cell_type": "code",
      "execution_count": 42,
      "metadata": {
        "colab": {
          "base_uri": "https://localhost:8080/"
        },
        "id": "UjUeKHxGg9ip",
        "outputId": "9dd29636-1598-4d46-a108-f20c00c44d2d"
      },
      "outputs": [
        {
          "name": "stdout",
          "output_type": "stream",
          "text": [
            "total 2984\n",
            "drwxr-xr-x 2 root root    4096 Nov  1 19:52 .\n",
            "drwxr-xr-x 1 root root    4096 Nov  1 19:49 ..\n",
            "-rwxr-xr-x 1 root root 1007464 Nov  1 19:52 MatMult\n",
            "-rwxr-xr-x 1 root root 1006456 Nov  1 19:52 MatMult1D\n",
            "-rw-r--r-- 1 root root    1838 Nov  1 19:52 MatMult1D.cu\n",
            "-rw-r--r-- 1 root root    1852 Nov  1 19:52 MatMult.cu\n",
            "-rwxr-xr-x 1 root root 1007912 Nov  1 19:52 MatMultF\n",
            "-rw-r--r-- 1 root root    3620 Nov  1 19:52 MatMultF.cu\n",
            "-rw-r--r-- 1 root root    3880 Nov  1 19:48 MatMultF_e2e.cu\n",
            "-rw-r--r-- 1 root root     655 Nov  1 19:49 MaxNProbe.cu\n"
          ]
        }
      ],
      "source": [
        "!nvcc cuda/MatMultF.cu -o cuda/MatMultF\n",
        "!ls -la cuda"
      ]
    },
    {
      "cell_type": "code",
      "execution_count": 43,
      "metadata": {
        "colab": {
          "base_uri": "https://localhost:8080/"
        },
        "id": "cXDhhoXdh-G7",
        "outputId": "591187af-3f10-4e24-aecf-47c18e12d5e2"
      },
      "outputs": [
        {
          "name": "stdout",
          "output_type": "stream",
          "text": [
            "tamaño= 32 x 32 \n",
            "threadsPerBlock.x= 32  y threadsPerBlock.y= 32 \n",
            "blocksPerGrid.x= 1  y blocksPerGrid.y= 1 \n",
            "tiempo GPU: 7172 us. \n",
            "tiempo CPU: 110 us. \n",
            "Error = -2.331345 \n"
          ]
        }
      ],
      "source": [
        "!./cuda/MatMultF 32"
      ]
    },
    {
      "cell_type": "markdown",
      "metadata": {
        "id": "qs07AunzF94b"
      },
      "source": [
        "Para interpretar correctamente los resultados, es importante diferenciar la ejecución de la primera vez que se utiliza la GPU al resto veces, y descartar esa primera vez por inicialización de la GPU."
      ]
    },
    {
      "cell_type": "markdown",
      "metadata": {
        "id": "nuLoVHBhIK46"
      },
      "source": [
        "## Comprobar los resultados con diferentes valores de N (tamaño de matriz NxN)"
      ]
    },
    {
      "cell_type": "code",
      "execution_count": 44,
      "metadata": {
        "colab": {
          "base_uri": "https://localhost:8080/"
        },
        "id": "pTV9NMtbF550",
        "outputId": "db0bd83d-e19e-4abe-f598-d3e52a0ef36c"
      },
      "outputs": [
        {
          "name": "stdout",
          "output_type": "stream",
          "text": [
            "tamaño= 16 x 16 \n",
            "threadsPerBlock.x= 16  y threadsPerBlock.y= 16 \n",
            "blocksPerGrid.x= 1  y blocksPerGrid.y= 1 \n",
            "tiempo GPU: 7160 us. \n",
            "tiempo CPU: 22 us. \n",
            "Error = 22.154406 \n"
          ]
        }
      ],
      "source": [
        "!./cuda/MatMultF 16"
      ]
    },
    {
      "cell_type": "code",
      "execution_count": 45,
      "metadata": {
        "colab": {
          "base_uri": "https://localhost:8080/"
        },
        "id": "1j5oJfDktfop",
        "outputId": "042221b5-ea27-4245-e62e-d05cbbc09583"
      },
      "outputs": [
        {
          "name": "stdout",
          "output_type": "stream",
          "text": [
            "tamaño= 16 x 16 \n",
            "==1951== NVPROF is profiling process 1951, command: cuda/MatMultF 16\n",
            "threadsPerBlock.x= 16  y threadsPerBlock.y= 16 \n",
            "blocksPerGrid.x= 1  y blocksPerGrid.y= 1 \n",
            "tiempo GPU: 7149 us. \n",
            "tiempo CPU: 19 us. \n",
            "Error = 22.154406 \n",
            "==1951== Profiling application: cuda/MatMultF 16\n",
            "==1951== Profiling result:\n",
            "            Type  Time(%)      Time     Calls       Avg       Min       Max  Name\n",
            " GPU activities:   54.41%  2.3680us         1  2.3680us  2.3680us  2.3680us  [CUDA memcpy DtoH]\n",
            "                   45.59%  1.9840us         2     992ns     768ns  1.2160us  [CUDA memcpy HtoD]\n",
            "      API calls:   91.29%  78.692ms         3  26.231ms  1.9660us  78.687ms  cudaMalloc\n",
            "                    8.28%  7.1372ms         1  7.1372ms  7.1372ms  7.1372ms  cudaLaunchKernel\n",
            "                    0.17%  144.43us       114  1.2660us     100ns  59.890us  cuDeviceGetAttribute\n",
            "                    0.15%  132.41us         3  44.135us  9.9500us  110.38us  cudaFree\n",
            "                    0.07%  58.375us         3  19.458us  6.7700us  32.777us  cudaMemcpy\n",
            "                    0.02%  14.625us         1  14.625us  14.625us  14.625us  cuDeviceGetName\n",
            "                    0.01%  7.8980us         1  7.8980us  7.8980us  7.8980us  cudaDeviceSynchronize\n",
            "                    0.01%  5.1090us         1  5.1090us  5.1090us  5.1090us  cuDeviceGetPCIBusId\n",
            "                    0.00%  2.7290us         3     909ns     222ns  1.4870us  cuDeviceGetCount\n",
            "                    0.00%  1.5650us         2     782ns     248ns  1.3170us  cuDeviceGet\n",
            "                    0.00%     493ns         1     493ns     493ns     493ns  cuDeviceTotalMem\n",
            "                    0.00%     433ns         1     433ns     433ns     433ns  cuModuleGetLoadingMode\n",
            "                    0.00%     234ns         1     234ns     234ns     234ns  cuDeviceGetUuid\n"
          ]
        }
      ],
      "source": [
        "!nvprof cuda/MatMultF 16"
      ]
    },
    {
      "cell_type": "code",
      "execution_count": 46,
      "metadata": {
        "colab": {
          "base_uri": "https://localhost:8080/"
        },
        "id": "GSzAjfYHL0OL",
        "outputId": "c4c5ec28-d3ab-4292-d29c-602a8ded0354"
      },
      "outputs": [
        {
          "name": "stdout",
          "output_type": "stream",
          "text": [
            "tamaño= 1024 x 1024 \n",
            "threadsPerBlock.x= 32  y threadsPerBlock.y= 32 \n",
            "blocksPerGrid.x= 32  y blocksPerGrid.y= 32 \n",
            "tiempo GPU: 7455 us. \n",
            "tiempo CPU: 7806507 us. \n",
            "Error = -13.104964 \n"
          ]
        }
      ],
      "source": [
        "!./cuda/MatMultF 1024"
      ]
    },
    {
      "cell_type": "code",
      "execution_count": 47,
      "metadata": {
        "colab": {
          "base_uri": "https://localhost:8080/"
        },
        "id": "lNMdYFJEL4LK",
        "outputId": "00ac9df6-c7d4-4842-f8bd-a03e6af4dd0f"
      },
      "outputs": [
        {
          "name": "stdout",
          "output_type": "stream",
          "text": [
            "tamaño= 1024 x 1024 \n",
            "==2001== NVPROF is profiling process 2001, command: cuda/MatMultF 1024\n",
            "threadsPerBlock.x= 32  y threadsPerBlock.y= 32 \n",
            "blocksPerGrid.x= 32  y blocksPerGrid.y= 32 \n",
            "tiempo GPU: 10735 us. \n",
            "tiempo CPU: 7740777 us. \n",
            "Error = -13.104964 \n",
            "==2001== Profiling application: cuda/MatMultF 1024\n",
            "==2001== Profiling result:\n",
            "            Type  Time(%)      Time     Calls       Avg       Min       Max  Name\n",
            " GPU activities:   50.38%  1.7167ms         2  858.34us  817.08us  899.61us  [CUDA memcpy HtoD]\n",
            "                   49.62%  1.6909ms         1  1.6909ms  1.6909ms  1.6909ms  [CUDA memcpy DtoH]\n",
            "      API calls:   88.17%  125.98ms         3  41.993ms  90.071us  125.80ms  cudaMalloc\n",
            "                    7.50%  10.719ms         1  10.719ms  10.719ms  10.719ms  cudaLaunchKernel\n",
            "                    3.73%  5.3290ms         3  1.7763ms  1.0567ms  3.1928ms  cudaMemcpy\n",
            "                    0.45%  640.85us         3  213.62us  203.85us  228.24us  cudaFree\n",
            "                    0.13%  184.70us       114  1.6200us     200ns  72.331us  cuDeviceGetAttribute\n",
            "                    0.01%  11.757us         1  11.757us  11.757us  11.757us  cuDeviceGetName\n",
            "                    0.01%  10.128us         1  10.128us  10.128us  10.128us  cudaDeviceSynchronize\n",
            "                    0.00%  6.4890us         1  6.4890us  6.4890us  6.4890us  cuDeviceGetPCIBusId\n",
            "                    0.00%  1.9850us         3     661ns     260ns  1.4520us  cuDeviceGetCount\n",
            "                    0.00%     761ns         2     380ns     224ns     537ns  cuDeviceGet\n",
            "                    0.00%     450ns         1     450ns     450ns     450ns  cuModuleGetLoadingMode\n",
            "                    0.00%     443ns         1     443ns     443ns     443ns  cuDeviceTotalMem\n",
            "                    0.00%     400ns         1     400ns     400ns     400ns  cuDeviceGetUuid\n"
          ]
        }
      ],
      "source": [
        "!nvprof cuda/MatMultF 1024"
      ]
    },
    {
      "cell_type": "code",
      "execution_count": 48,
      "metadata": {
        "colab": {
          "base_uri": "https://localhost:8080/"
        },
        "id": "svDm4e63L1xB",
        "outputId": "3662784e-ead2-405a-95ce-82868acd764c"
      },
      "outputs": [
        {
          "name": "stdout",
          "output_type": "stream",
          "text": [
            "tamaño= 64 x 64 \n",
            "threadsPerBlock.x= 32  y threadsPerBlock.y= 32 \n",
            "blocksPerGrid.x= 2  y blocksPerGrid.y= 2 \n",
            "tiempo GPU: 7315 us. \n",
            "tiempo CPU: 782 us. \n",
            "Error = 7.084532 \n"
          ]
        }
      ],
      "source": [
        "!./cuda/MatMultF 64"
      ]
    },
    {
      "cell_type": "code",
      "execution_count": 49,
      "metadata": {
        "colab": {
          "base_uri": "https://localhost:8080/"
        },
        "id": "MHi1yUBhMIDo",
        "outputId": "f2f37a23-9b91-4fa8-f139-be4c973fd556"
      },
      "outputs": [
        {
          "name": "stdout",
          "output_type": "stream",
          "text": [
            "tamaño= 64 x 64 \n",
            "==2053== NVPROF is profiling process 2053, command: cuda/MatMultF 64\n",
            "threadsPerBlock.x= 32  y threadsPerBlock.y= 32 \n",
            "blocksPerGrid.x= 2  y blocksPerGrid.y= 2 \n",
            "tiempo GPU: 7302 us. \n",
            "tiempo CPU: 793 us. \n",
            "Error = 7.084532 \n",
            "==2053== Profiling application: cuda/MatMultF 64\n",
            "==2053== Profiling result:\n",
            "            Type  Time(%)      Time     Calls       Avg       Min       Max  Name\n",
            " GPU activities:   65.71%  6.6240us         2  3.3120us  3.1680us  3.4560us  [CUDA memcpy HtoD]\n",
            "                   34.29%  3.4560us         1  3.4560us  3.4560us  3.4560us  [CUDA memcpy DtoH]\n",
            "      API calls:   90.08%  69.849ms         3  23.283ms  2.0240us  69.843ms  cudaMalloc\n",
            "                    9.40%  7.2901ms         1  7.2901ms  7.2901ms  7.2901ms  cudaLaunchKernel\n",
            "                    0.19%  149.00us       114  1.3070us     110ns  66.256us  cuDeviceGetAttribute\n",
            "                    0.17%  131.20us         3  43.733us  4.2450us  113.63us  cudaFree\n",
            "                    0.12%  89.746us         3  29.915us  15.779us  50.649us  cudaMemcpy\n",
            "                    0.02%  13.557us         1  13.557us  13.557us  13.557us  cuDeviceGetName\n",
            "                    0.01%  8.0420us         1  8.0420us  8.0420us  8.0420us  cudaDeviceSynchronize\n",
            "                    0.01%  5.1120us         1  5.1120us  5.1120us  5.1120us  cuDeviceGetPCIBusId\n",
            "                    0.00%  1.9160us         3     638ns     142ns  1.4870us  cuDeviceGetCount\n",
            "                    0.00%     932ns         2     466ns     193ns     739ns  cuDeviceGet\n",
            "                    0.00%     667ns         1     667ns     667ns     667ns  cuDeviceTotalMem\n",
            "                    0.00%     369ns         1     369ns     369ns     369ns  cuDeviceGetUuid\n",
            "                    0.00%     344ns         1     344ns     344ns     344ns  cuModuleGetLoadingMode\n"
          ]
        }
      ],
      "source": [
        "!nvprof cuda/MatMultF 64"
      ]
    },
    {
      "cell_type": "code",
      "execution_count": 50,
      "metadata": {
        "colab": {
          "base_uri": "https://localhost:8080/"
        },
        "id": "Ah9GQclcL1M5",
        "outputId": "752baa04-9820-4ea1-d0bb-623a648bd299"
      },
      "outputs": [
        {
          "name": "stdout",
          "output_type": "stream",
          "text": [
            "tamaño= 128 x 128 \n",
            "threadsPerBlock.x= 32  y threadsPerBlock.y= 32 \n",
            "blocksPerGrid.x= 4  y blocksPerGrid.y= 4 \n",
            "tiempo GPU: 7508 us. \n",
            "tiempo CPU: 7117 us. \n",
            "Error = 229.242694 \n"
          ]
        }
      ],
      "source": [
        "!./cuda/MatMultF 128"
      ]
    },
    {
      "cell_type": "code",
      "execution_count": 51,
      "metadata": {
        "colab": {
          "base_uri": "https://localhost:8080/"
        },
        "id": "q0fSVsCVMKUC",
        "outputId": "f89499ca-c925-4e65-827b-2b33c6849496"
      },
      "outputs": [
        {
          "name": "stdout",
          "output_type": "stream",
          "text": [
            "tamaño= 128 x 128 \n",
            "==2071== NVPROF is profiling process 2071, command: cuda/MatMultF 128\n",
            "threadsPerBlock.x= 32  y threadsPerBlock.y= 32 \n",
            "blocksPerGrid.x= 4  y blocksPerGrid.y= 4 \n",
            "tiempo GPU: 10913 us. \n",
            "tiempo CPU: 10144 us. \n",
            "Error = 229.242694 \n",
            "==2071== Profiling application: cuda/MatMultF 128\n",
            "==2071== Profiling result:\n",
            "            Type  Time(%)      Time     Calls       Avg       Min       Max  Name\n",
            " GPU activities:   71.77%  19.199us         2  9.5990us  9.2150us  9.9840us  [CUDA memcpy HtoD]\n",
            "                   28.23%  7.5520us         1  7.5520us  7.5520us  7.5520us  [CUDA memcpy DtoH]\n",
            "      API calls:   86.43%  72.644ms         3  24.215ms  5.3400us  72.632ms  cudaMalloc\n",
            "                   12.96%  10.895ms         1  10.895ms  10.895ms  10.895ms  cudaLaunchKernel\n",
            "                    0.21%  180.56us         3  60.185us  41.630us  91.619us  cudaMemcpy\n",
            "                    0.20%  172.05us       114  1.5090us     104ns  87.613us  cuDeviceGetAttribute\n",
            "                    0.15%  125.21us         3  41.737us  4.3420us  103.32us  cudaFree\n",
            "                    0.02%  13.444us         1  13.444us  13.444us  13.444us  cuDeviceGetName\n",
            "                    0.01%  8.9550us         1  8.9550us  8.9550us  8.9550us  cudaDeviceSynchronize\n",
            "                    0.01%  4.3010us         1  4.3010us  4.3010us  4.3010us  cuDeviceGetPCIBusId\n",
            "                    0.00%  1.5070us         3     502ns     148ns  1.0910us  cuDeviceGetCount\n",
            "                    0.00%     767ns         2     383ns     176ns     591ns  cuDeviceGet\n",
            "                    0.00%     670ns         1     670ns     670ns     670ns  cuDeviceTotalMem\n",
            "                    0.00%     325ns         1     325ns     325ns     325ns  cuModuleGetLoadingMode\n",
            "                    0.00%     306ns         1     306ns     306ns     306ns  cuDeviceGetUuid\n"
          ]
        }
      ],
      "source": [
        "!nvprof cuda/MatMultF 128"
      ]
    },
    {
      "cell_type": "markdown",
      "metadata": {
        "id": "zyefPtPn8HHu"
      },
      "source": [
        "### Ejercicio T2: Estudie el rendimiento del programa en función de N.\n",
        "\n",
        " Para guiarle en este estudio, se plantean a continuación diferentes cuestiones a responder:\n",
        "- ¿Qué valor de N obtiene Tgpu=Tcpu? ¿Qué pasa antes y después de este N? ¿Por qué?\n",
        "- ¿Cuál es el máximo valor de N que logra ejecutarse en la GPU? ¿Por qué?\n",
        "- ¿Qué coste extra en las operaciones de memoria tiene la GPU frente a la CPU? ¿Qué consideraría “justo” añadir para comparar con la CPU?\n"
      ]
    },
    {
      "cell_type": "markdown",
      "metadata": {
        "id": "09b6F6bt-nB4"
      },
      "source": [
        "## Ejercicio 2.2 – Estudio de rendimiento (MatMultF)\n",
        "- Vamos a medir tiempos en función de N para la versión float del tutorial.\n",
        "- Reportaremos: GPU (solo kernel), GPU end-to-end (H2D+kernel+D2H) y CPU.\n",
        "- Calcularemos el punto de cruce donde Tgpu_e2e ≈ Tcpu y probaremos el máximo N que logra ejecutarse."
      ]
    },
    {
      "cell_type": "code",
      "execution_count": 52,
      "metadata": {
        "colab": {
          "base_uri": "https://localhost:8080/"
        },
        "id": "uSQacPbF-nB4",
        "outputId": "ac52bac0-3a6f-4e25-a7e0-ebe1092df26b"
      },
      "outputs": [
        {
          "name": "stdout",
          "output_type": "stream",
          "text": [
            "Overwriting cuda/MatMultF_e2e.cu\n"
          ]
        }
      ],
      "source": [
        "%%writefile cuda/MatMultF_e2e.cu\n",
        "\n",
        "#include <stdio.h>\n",
        "#include <math.h>\n",
        "#include <time.h>\n",
        "#include <sys/time.h>\n",
        "#include <cuda.h>\n",
        "#include <cuda_runtime.h>\n",
        "\n",
        "__global__ void matrixMultiplicationKernel(float* A, float* B, float* C, int N) {\n",
        "    int ROW = blockIdx.y*blockDim.y+threadIdx.y;\n",
        "    int COL = blockIdx.x*blockDim.x+threadIdx.x;\n",
        "    float tmpSum = 0.0f;\n",
        "    if (ROW < N && COL < N) {\n",
        "        for (int i = 0; i < N; i++) {\n",
        "            tmpSum += A[ROW * N + i] * B[i * N + COL];\n",
        "        }\n",
        "        C[ROW * N + COL] = tmpSum;\n",
        "    }\n",
        "}\n",
        "\n",
        "int main(int argc, char *argv[]){\n",
        "    if(argc!=2) {\n",
        "      printf(\"Ha olvidado el valor de N, NxN.\\n\");\n",
        "      return 1;\n",
        "    }\n",
        "    int N = atoi(argv[1]);\n",
        "    printf(\"tamaño= %d x %d \\n\", N,N);\n",
        "\n",
        "    // Warm-up contexto para estabilizar la primera medida\n",
        "    cudaFree(0);\n",
        "\n",
        "    struct timeval fin,ini;\n",
        "    long int tiempoGPU_kernel=0, tiempoGPU_e2e=0, tiempoCPU=0;\n",
        "\n",
        "    size_t size = (size_t)N * (size_t)N * sizeof(float);\n",
        "    float *h_a = (float *)malloc(size);\n",
        "    float *h_b = (float *)malloc(size);\n",
        "    float *h_c = (float *)malloc(size);\n",
        "    if (!h_a || !h_b || !h_c) {\n",
        "        printf(\"Fallo reservando memoria en host.\\n\");\n",
        "        return 1;\n",
        "    }\n",
        "\n",
        "    for (int i=0; i<N; i++){\n",
        "        for (int j=0; j<N; j++){\n",
        "            h_a[i*N+j] = sinf((float)i);\n",
        "            h_b[i*N+j] = cosf((float)j);\n",
        "        }\n",
        "    }\n",
        "\n",
        "    float *d_a, *d_b, *d_c;\n",
        "    if (cudaMalloc((void **)&d_a, size) != cudaSuccess) { printf(\"cudaMalloc d_a fallo\\n\"); return 1; }\n",
        "    if (cudaMalloc((void **)&d_b, size) != cudaSuccess) { printf(\"cudaMalloc d_b fallo\\n\"); return 1; }\n",
        "    if (cudaMalloc((void **)&d_c, size) != cudaSuccess) { printf(\"cudaMalloc d_c fallo\\n\"); return 1; }\n",
        "\n",
        "    dim3 threadsPerBlock(N, N);\n",
        "    dim3 blocksPerGrid(1, 1);\n",
        "    if ((long long)N*(long long)N > 1024){\n",
        "        threadsPerBlock.x = 32;\n",
        "        threadsPerBlock.y = 32;\n",
        "        blocksPerGrid.x = (int)ceil((double)N/(double)threadsPerBlock.x);\n",
        "        blocksPerGrid.y = (int)ceil((double)N/(double)threadsPerBlock.y);\n",
        "    }\n",
        "    printf(\"threadsPerBlock.x= %d  y threadsPerBlock.y= %d \\n\", threadsPerBlock.x,threadsPerBlock.y);\n",
        "    printf(\"blocksPerGrid.x= %d  y blocksPerGrid.y= %d \\n\", blocksPerGrid.x,blocksPerGrid.y);\n",
        "\n",
        "    // E2E: H2D + kernel + D2H\n",
        "    gettimeofday(&ini,NULL);\n",
        "    cudaMemcpy(d_a, h_a, size, cudaMemcpyHostToDevice);\n",
        "    cudaMemcpy(d_b, h_b, size, cudaMemcpyHostToDevice);\n",
        "    matrixMultiplicationKernel<<<blocksPerGrid,threadsPerBlock>>>(d_a, d_b, d_c, N);\n",
        "    cudaDeviceSynchronize();\n",
        "    cudaMemcpy(h_c, d_c, size, cudaMemcpyDeviceToHost);\n",
        "    gettimeofday(&fin,NULL);\n",
        "    tiempoGPU_e2e=(fin.tv_sec*1000000LL+fin.tv_usec)-(ini.tv_sec*1000000LL+ini.tv_usec);\n",
        "    printf(\"tiempo GPU (e2e H2D+kernel+D2H): %ld us.\\n\", tiempoGPU_e2e);\n",
        "\n",
        "    // Solo kernel (datos ya en device)\n",
        "    gettimeofday(&ini,NULL);\n",
        "    matrixMultiplicationKernel<<<blocksPerGrid,threadsPerBlock>>>(d_a, d_b, d_c, N);\n",
        "    cudaDeviceSynchronize();\n",
        "    gettimeofday(&fin,NULL);\n",
        "    tiempoGPU_kernel=(fin.tv_sec*1000000LL+fin.tv_usec)-(ini.tv_sec*1000000LL+ini.tv_usec);\n",
        "    printf(\"tiempo GPU (solo kernel): %ld us.\\n\", tiempoGPU_kernel);\n",
        "\n",
        "    // CPU de referencia\n",
        "    float *cpu_C = (float *)malloc(size);\n",
        "    gettimeofday(&ini,NULL);\n",
        "    for (int row=0; row<N; row++){\n",
        "        for (int col=0; col<N; col++){\n",
        "            float sum = 0.f;\n",
        "            for (int n=0; n<N; n++){\n",
        "                sum += h_a[row*N+n]*h_b[n*N+col];\n",
        "            }\n",
        "            cpu_C[row*N+col] = sum;\n",
        "        }\n",
        "    }\n",
        "    gettimeofday(&fin,NULL);\n",
        "    tiempoCPU=(fin.tv_sec*1000000LL+fin.tv_usec)-(ini.tv_sec*1000000LL+ini.tv_usec);\n",
        "    printf(\"tiempo CPU: %ld us.\\n\", tiempoCPU);\n",
        "\n",
        "    // Comprobación de error\n",
        "    double err = 0.0;\n",
        "    for (int i=0; i<N*N; ++i) err += fabs((double)cpu_C[i] - (double)h_c[i]);\n",
        "    printf(\"Error = %f\\n\", err);\n",
        "\n",
        "    cudaFree(d_a); cudaFree(d_b); cudaFree(d_c);\n",
        "    free(h_a); free(h_b); free(h_c); free(cpu_C);\n",
        "    return 0;\n",
        "}"
      ]
    },
    {
      "cell_type": "code",
      "execution_count": 53,
      "metadata": {
        "colab": {
          "base_uri": "https://localhost:8080/"
        },
        "id": "ELR_xUWJ-nB5",
        "outputId": "2c007045-2944-483e-9a22-2595982da49b"
      },
      "outputs": [
        {
          "name": "stdout",
          "output_type": "stream",
          "text": [
            "Compilado bin/MatMultF_e2e\n"
          ]
        }
      ],
      "source": [
        "%%bash\n",
        "set -euo pipefail\n",
        "mkdir -p bin cuda\n",
        "nvcc -O2 cuda/MatMultF_e2e.cu -o bin/MatMultF_e2e\n",
        "echo \"Compilado bin/MatMultF_e2e\""
      ]
    },
    {
      "cell_type": "code",
      "execution_count": 54,
      "metadata": {
        "colab": {
          "base_uri": "https://localhost:8080/"
        },
        "id": "sF69VGA5-nB5",
        "outputId": "00f314de-933f-4274-da01-5d6660046efb"
      },
      "outputs": [
        {
          "name": "stdout",
          "output_type": "stream",
          "text": [
            "N\tgpu_kernel_us\tgpu_e2e_us\tcpu_us\textra_us (e2e-kernel)\n",
            "16\t2\t7311\t2\t7309\n",
            "32\t3\t10613\t41\t10610\n",
            "64\t3\t10880\t313\t10877\n",
            "96\t4\t11077\t1126\t11073\n",
            "128\t4\t11189\t2724\t11185\n",
            "160\t4\t10774\t5513\t10770\n",
            "192\t3\t7526\t8333\t7523\n",
            "224\t3\t7727\t13037\t7724\n",
            "256\t3\t7802\t20041\t7799\n",
            "320\t3\t7917\t39717\t7914\n",
            "384\t4\t7916\t70804\t7912\n",
            "448\t4\t8272\t114727\t8268\n",
            "512\t6\t8712\t295400\t8706\n",
            "640\t5\t9520\t356030\t9515\n",
            "768\t6\t10094\t1283009\t10088\n",
            "896\t7\t11220\t1073715\t11213\n",
            "1024\t6\t11985\t3351366\t11979\n",
            "\n",
            "Crossover N (gpu_e2e <= cpu): 192\n",
            "Resultados guardados en MatMultF_results.json\n"
          ]
        }
      ],
      "source": [
        "import subprocess, re, json, shutil\n",
        "from statistics import median\n",
        "\n",
        "# N a evaluar (ajusta si tu GPU/CPU es lenta/lenta)\n",
        "Ns = [16, 32, 64, 96, 128, 160, 192, 224, 256, 320, 384, 448, 512, 640, 768, 896, 1024]\n",
        "re_kernel = re.compile(r\"tiempo GPU \\(solo kernel\\): (\\d+) us\\.\")\n",
        "re_e2e    = re.compile(r\"tiempo GPU \\(e2e .*\\): (\\d+) us\\.\")\n",
        "re_cpu    = re.compile(r\"tiempo CPU: (\\d+) us\\.\")\n",
        "\n",
        "bin_path = 'bin/MatMultF_e2e'\n",
        "if not shutil.which(bin_path):\n",
        "    raise SystemExit(\"Primero ejecute la celda de compilación del binario MatMultF_e2e.\")\n",
        "\n",
        "results = []\n",
        "reps = 3  # repeticiones para estabilizar\n",
        "for N in Ns:\n",
        "    kernel_times, e2e_times, cpu_times = [], [], []\n",
        "    for _ in range(reps):\n",
        "        run = subprocess.run([bin_path, str(N)], capture_output=True, text=True)\n",
        "        if run.returncode != 0:\n",
        "            print(f\"Ejecución falló para N={N}:\", run.stderr)\n",
        "            break\n",
        "        out = run.stdout\n",
        "        m_k = re_kernel.search(out)\n",
        "        m_e = re_e2e.search(out)\n",
        "        m_c = re_cpu.search(out)\n",
        "        if not (m_k and m_e and m_c):\n",
        "            print(\"No se pudo parsear la salida para N=\", N)\n",
        "            print(out)\n",
        "            break\n",
        "        kernel_times.append(int(m_k.group(1)))\n",
        "        e2e_times.append(int(m_e.group(1)))\n",
        "        cpu_times.append(int(m_c.group(1)))\n",
        "    else:\n",
        "        results.append({\n",
        "            'N': N,\n",
        "            'gpu_kernel_us': median(kernel_times),\n",
        "            'gpu_e2e_us': median(e2e_times),\n",
        "            'cpu_us': median(cpu_times),\n",
        "        })\n",
        "\n",
        "# Mostrar tabla\n",
        "print(\"N\\tgpu_kernel_us\\tgpu_e2e_us\\tcpu_us\\textra_us (e2e-kernel)\")\n",
        "for r in results:\n",
        "    extra = r['gpu_e2e_us'] - r['gpu_kernel_us']\n",
        "    print(f\"{r['N']}\\t{r['gpu_kernel_us']}\\t{r['gpu_e2e_us']}\\t{r['cpu_us']}\\t{extra}\")\n",
        "\n",
        "# Calcular N de cruce (gpu_e2e <= cpu)\n",
        "crossover = None\n",
        "for r in results:\n",
        "    if r['gpu_e2e_us'] <= r['cpu_us']:\n",
        "        crossover = r['N']\n",
        "        break\n",
        "\n",
        "print(\"\\nCrossover N (gpu_e2e <= cpu):\", crossover if crossover is not None else \"no encontrado en el rango probado\")\n",
        "\n",
        "# Guardar resultados para celdas posteriores (opcional)\n",
        "with open('MatMultF_results.json', 'w') as f:\n",
        "    json.dump(results, f, indent=2)\n",
        "print(\"Resultados guardados en MatMultF_results.json\")"
      ]
    },
    {
      "cell_type": "code",
      "execution_count": 55,
      "metadata": {
        "colab": {
          "base_uri": "https://localhost:8080/"
        },
        "id": "7K_lypDR-nB5",
        "outputId": "c3cb7a73-163f-464f-b917-c3d701a4d7f6"
      },
      "outputs": [
        {
          "name": "stdout",
          "output_type": "stream",
          "text": [
            "Overwriting cuda/MaxNProbe.cu\n"
          ]
        }
      ],
      "source": [
        "%%writefile cuda/MaxNProbe.cu\n",
        "\n",
        "#include <stdio.h>\n",
        "#include <cuda.h>\n",
        "#include <cuda_runtime.h>\n",
        "\n",
        "int main(){\n",
        "    size_t freeB=0, totalB=0;\n",
        "    cudaError_t st = cudaMemGetInfo(&freeB, &totalB);\n",
        "    if (st != cudaSuccess){\n",
        "        printf(\"cudaMemGetInfo fallo: %s\\n\", cudaGetErrorString(st));\n",
        "        return 1;\n",
        "    }\n",
        "    // Dejar margen de seguridad (80% de memoria libre)\n",
        "    double usable = freeB * 0.80;\n",
        "    // Necesitamos 3*N*N*sizeof(float)\n",
        "    double maxN = sqrt( usable / (3.0 * sizeof(float)) );\n",
        "    printf(\"Memoria GPU libre: %.2f MiB de %.2f MiB\\n\", freeB/1048576.0, totalB/1048576.0);\n",
        "    printf(\"Max N recomendado (aprox.): %d\\n\", (int)maxN);\n",
        "    return 0;\n",
        "}"
      ]
    },
    {
      "cell_type": "code",
      "execution_count": 56,
      "metadata": {
        "colab": {
          "base_uri": "https://localhost:8080/"
        },
        "id": "WtVrkLhJ-nB5",
        "outputId": "e7d43f01-fc8f-49e9-f7af-0d7d844cda56"
      },
      "outputs": [
        {
          "name": "stdout",
          "output_type": "stream",
          "text": [
            "Memoria GPU libre: 14992.12 MiB de 15095.06 MiB\n",
            "Max N recomendado (aprox.): 32373\n"
          ]
        }
      ],
      "source": [
        "%%bash\n",
        "set -euo pipefail\n",
        "nvcc -O2 cuda/MaxNProbe.cu -o bin/MaxNProbe\n",
        "bin/MaxNProbe"
      ]
    },
    {
      "cell_type": "markdown",
      "metadata": {
        "id": "eK_Y0Y4B-nB5"
      },
      "source": [
        "### Conclusiones 2.2 (rellenadas por tus medidas)\n",
        "\n",
        "- Crossover N: el tamaño mínimo donde GPU e2e <= CPU es el impreso por la celda anterior. \n",
        "- Coste extra por transferencias: observa `gpu_e2e_us - gpu_kernel_us` y su fracción sobre `gpu_e2e_us`; suele dominar en N pequeños y volverse marginal a N grandes.\n",
        "- Comparación “justa”: si los datos residen ya en GPU por varias iteraciones, compararíamos kernel vs CPU. Si movemos datos en cada ejecución (caso típico), la comparación justa es e2e.\n"
      ]
    },
    {
      "cell_type": "code",
      "execution_count": 57,
      "metadata": {
        "colab": {
          "base_uri": "https://localhost:8080/"
        },
        "id": "N1iTXj_R-nB5",
        "outputId": "87013300-7f3e-4a43-a6c5-9392e0d10467"
      },
      "outputs": [
        {
          "name": "stdout",
          "output_type": "stream",
          "text": [
            "Overwriting cuda/MaxNProbe.cu\n"
          ]
        }
      ],
      "source": [
        "%%writefile cuda/MaxNProbe.cu\n",
        "\n",
        "#include <stdio.h>\n",
        "#include <math.h>\n",
        "#include <cuda.h>\n",
        "#include <cuda_runtime.h>\n",
        "\n",
        "int main(){\n",
        "    size_t freeB=0, totalB=0;\n",
        "    cudaError_t st = cudaMemGetInfo(&freeB, &totalB);\n",
        "    if (st != cudaSuccess){\n",
        "        printf(\"cudaMemGetInfo fallo: %s\\n\", cudaGetErrorString(st));\n",
        "        return 1;\n",
        "    }\n",
        "    // Dejar margen de seguridad (80% de memoria libre)\n",
        "    double usable = freeB * 0.80;\n",
        "    // Necesitamos 3*N*N*sizeof(float)\n",
        "    double maxN = sqrt( usable / (3.0 * sizeof(float)) );\n",
        "    printf(\"Memoria GPU libre: %.2f MiB de %.2f MiB\\n\", freeB/1048576.0, totalB/1048576.0);\n",
        "    printf(\"Max N recomendado (aprox.): %d\\n\", (int)maxN);\n",
        "    return 0;\n",
        "}"
      ]
    },
    {
      "cell_type": "code",
      "execution_count": 58,
      "metadata": {
        "colab": {
          "base_uri": "https://localhost:8080/"
        },
        "id": "xw7m-V6V-nB5",
        "outputId": "a21e2954-3925-4637-cbd0-76920b75c598"
      },
      "outputs": [
        {
          "name": "stdout",
          "output_type": "stream",
          "text": [
            "Memoria GPU libre: 14992.12 MiB de 15095.06 MiB\n",
            "Max N recomendado (aprox.): 32373\n"
          ]
        }
      ],
      "source": [
        "%%bash\n",
        "set -euo pipefail\n",
        "nvcc -O2 cuda/MaxNProbe.cu -o bin/MaxNProbe\n",
        "bin/MaxNProbe"
      ]
    },
    {
      "cell_type": "markdown",
      "metadata": {
        "id": "2IrJ-Oq5-nB8"
      },
      "source": [
        "## Gráficas: tiempos y speedup\n",
        "\n",
        "A continuación se generan gráficas a partir de `MatMultF_results.json`:\n",
        "- Tiempos (CPU, GPU kernel, GPU end-to-end) vs N.\n",
        "- Speedup de CPU respecto a GPU (kernel y e2e)."
      ]
    },
    {
      "cell_type": "code",
      "execution_count": 59,
      "metadata": {
        "colab": {
          "base_uri": "https://localhost:8080/",
          "height": 507
        },
        "id": "n8SbDPTc-nB8",
        "outputId": "fc7238ce-801d-4a96-8c0b-44b1f13bce17"
      },
      "outputs": [
        {
          "data": {
            "image/png": "[encoded data removed]",
            "text/plain": [
              "<Figure size 800x500 with 1 Axes>"
            ]
          },
          "metadata": {},
          "output_type": "display_data"
        }
      ],
      "source": [
        "# Tiempos vs N (CPU, GPU kernel, GPU e2e)\n",
        "import json, os\n",
        "import matplotlib.pyplot as plt\n",
        "\n",
        "if not os.path.exists('MatMultF_results.json'):\n",
        "    raise SystemExit(\"No se encuentra MatMultF_results.json. Ejecuta antes la celda de barrido de N.\")\n",
        "\n",
        "with open('MatMultF_results.json') as f:\n",
        "    results = json.load(f)\n",
        "\n",
        "Ns = [r['N'] for r in results]\n",
        "T_cpu = [r['cpu_us'] for r in results]\n",
        "T_gpu_kernel = [r['gpu_kernel_us'] for r in results]\n",
        "T_gpu_e2e = [r['gpu_e2e_us'] for r in results]\n",
        "\n",
        "plt.figure(figsize=(8,5))\n",
        "plt.plot(Ns, T_cpu, label='CPU (us)', marker='o')\n",
        "plt.plot(Ns, T_gpu_kernel, label='GPU kernel (us)', marker='o')\n",
        "plt.plot(Ns, T_gpu_e2e, label='GPU e2e (us)', marker='o')\n",
        "plt.xlabel('N')\n",
        "plt.ylabel('Tiempo (us)')\n",
        "plt.title('Tiempos vs N')\n",
        "plt.grid(True, linestyle='--', alpha=0.4)\n",
        "plt.legend()\n",
        "plt.tight_layout()\n",
        "plt.show()"
      ]
    },
    {
      "cell_type": "code",
      "execution_count": 60,
      "metadata": {
        "colab": {
          "base_uri": "https://localhost:8080/",
          "height": 507
        },
        "id": "A1THmRXt-nB8",
        "outputId": "857549dc-09e2-4cc4-dc42-f5d7d6db26c2"
      },
      "outputs": [
        {
          "data": {
            "image/png": "[encoded data removed]",
            "text/plain": [
              "<Figure size 800x500 with 1 Axes>"
            ]
          },
          "metadata": {},
          "output_type": "display_data"
        }
      ],
      "source": [
        "# Speedup vs N (CPU / GPU)\n",
        "import json, os\n",
        "import matplotlib.pyplot as plt\n",
        "\n",
        "if not os.path.exists('MatMultF_results.json'):\n",
        "    raise SystemExit(\"No se encuentra MatMultF_results.json. Ejecuta antes la celda de barrido de N.\")\n",
        "\n",
        "with open('MatMultF_results.json') as f:\n",
        "    results = json.load(f)\n",
        "\n",
        "Ns = [r['N'] for r in results]\n",
        "T_cpu = [r['cpu_us'] for r in results]\n",
        "T_gpu_kernel = [r['gpu_kernel_us'] for r in results]\n",
        "T_gpu_e2e = [r['gpu_e2e_us'] for r in results]\n",
        "\n",
        "speedup_kernel = [c/g if g>0 else float('inf') for c,g in zip(T_cpu, T_gpu_kernel)]\n",
        "speedup_e2e    = [c/g if g>0 else float('inf') for c,g in zip(T_cpu, T_gpu_e2e)]\n",
        "\n",
        "plt.figure(figsize=(8,5))\n",
        "plt.plot(Ns, speedup_kernel, label='CPU / GPU kernel', marker='o')\n",
        "plt.plot(Ns, speedup_e2e, label='CPU / GPU e2e', marker='o')\n",
        "plt.axhline(1.0, color='gray', linestyle='--', linewidth=1)\n",
        "plt.xlabel('N')\n",
        "plt.ylabel('Speedup')\n",
        "plt.title('Speedup de CPU respecto a GPU')\n",
        "plt.grid(True, linestyle='--', alpha=0.4)\n",
        "plt.legend()\n",
        "plt.tight_layout()\n",
        "plt.show()"
      ]
    }
  ],
  "metadata": {
    "accelerator": "GPU",
    "colab": {
      "collapsed_sections": [
        "iiZ0mu0M4SQ4"
      ],
      "gpuType": "T4",
      "provenance": []
    },
    "kernelspec": {
      "display_name": "Python 3",
      "name": "python3"
    }
  },
  "nbformat": 4,
  "nbformat_minor": 0
}
