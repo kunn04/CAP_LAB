{
  "nbformat": 4,
  "nbformat_minor": 0,
  "metadata": {
    "colab": {
      "provenance": [],
      "gpuType": "T4"
    },
    "kernelspec": {
      "name": "python3",
      "display_name": "Python 3"
    },
    "accelerator": "GPU"
  },
  "cells": [
    {
      "cell_type": "markdown",
      "metadata": {
        "id": "iiZ0mu0M4SQ4"
      },
      "source": [
        "## Comprobar HW y SW instalado\n",
        "\n",
        "\n",
        "\n",
        "\n",
        "\n",
        "\n"
      ]
    },
    {
      "cell_type": "code",
      "metadata": {
        "id": "2HMKkmKLCh43",
        "colab": {
          "base_uri": "https://localhost:8080/"
        },
        "outputId": "480db8c0-984f-4e78-df68-c93f56593e22"
      },
      "source": [
        "!lscpu"
      ],
      "execution_count": 1,
      "outputs": [
        {
          "output_type": "stream",
          "name": "stdout",
          "text": [
            "Architecture:             x86_64\n",
            "  CPU op-mode(s):         32-bit, 64-bit\n",
            "  Address sizes:          46 bits physical, 48 bits virtual\n",
            "  Byte Order:             Little Endian\n",
            "CPU(s):                   2\n",
            "  On-line CPU(s) list:    0,1\n",
            "Vendor ID:                GenuineIntel\n",
            "  Model name:             Intel(R) Xeon(R) CPU @ 2.00GHz\n",
            "    CPU family:           6\n",
            "    Model:                85\n",
            "    Thread(s) per core:   2\n",
            "    Core(s) per socket:   1\n",
            "    Socket(s):            1\n",
            "    Stepping:             3\n",
            "    BogoMIPS:             4000.42\n",
            "    Flags:                fpu vme de pse tsc msr pae mce cx8 apic sep mtrr pge mca cmov pat pse36 cl\n",
            "                          flush mmx fxsr sse sse2 ss ht syscall nx pdpe1gb rdtscp lm constant_tsc re\n",
            "                          p_good nopl xtopology nonstop_tsc cpuid tsc_known_freq pni pclmulqdq ssse3\n",
            "                           fma cx16 pcid sse4_1 sse4_2 x2apic movbe popcnt aes xsave avx f16c rdrand\n",
            "                           hypervisor lahf_lm abm 3dnowprefetch invpcid_single ssbd ibrs ibpb stibp \n",
            "                          fsgsbase tsc_adjust bmi1 hle avx2 smep bmi2 erms invpcid rtm mpx avx512f a\n",
            "                          vx512dq rdseed adx smap clflushopt clwb avx512cd avx512bw avx512vl xsaveop\n",
            "                          t xsavec xgetbv1 xsaves arat md_clear arch_capabilities\n",
            "Virtualization features:  \n",
            "  Hypervisor vendor:      KVM\n",
            "  Virtualization type:    full\n",
            "Caches (sum of all):      \n",
            "  L1d:                    32 KiB (1 instance)\n",
            "  L1i:                    32 KiB (1 instance)\n",
            "  L2:                     1 MiB (1 instance)\n",
            "  L3:                     38.5 MiB (1 instance)\n",
            "NUMA:                     \n",
            "  NUMA node(s):           1\n",
            "  NUMA node0 CPU(s):      0,1\n",
            "Vulnerabilities:          \n",
            "  Gather data sampling:   Not affected\n",
            "  Itlb multihit:          Not affected\n",
            "  L1tf:                   Mitigation; PTE Inversion\n",
            "  Mds:                    Vulnerable; SMT Host state unknown\n",
            "  Meltdown:               Vulnerable\n",
            "  Mmio stale data:        Vulnerable\n",
            "  Reg file data sampling: Not affected\n",
            "  Retbleed:               Vulnerable\n",
            "  Spec rstack overflow:   Not affected\n",
            "  Spec store bypass:      Vulnerable\n",
            "  Spectre v1:             Vulnerable: __user pointer sanitization and usercopy barriers only; no swa\n",
            "                          pgs barriers\n",
            "  Spectre v2:             Vulnerable; IBPB: disabled; STIBP: disabled; PBRSB-eIBRS: Not affected; BH\n",
            "                          I: Vulnerable (Syscall hardening enabled)\n",
            "  Srbds:                  Not affected\n",
            "  Tsx async abort:        Vulnerable\n"
          ]
        }
      ]
    },
    {
      "cell_type": "code",
      "metadata": {
        "id": "re6wntSW4GpU",
        "colab": {
          "base_uri": "https://localhost:8080/"
        },
        "outputId": "7ed97f93-d521-4e2a-ffd9-6fa8ab549e9e"
      },
      "source": [
        "!nvcc --version"
      ],
      "execution_count": 2,
      "outputs": [
        {
          "output_type": "stream",
          "name": "stdout",
          "text": [
            "nvcc: NVIDIA (R) Cuda compiler driver\n",
            "Copyright (c) 2005-2023 NVIDIA Corporation\n",
            "Built on Tue_Aug_15_22:02:13_PDT_2023\n",
            "Cuda compilation tools, release 12.2, V12.2.140\n",
            "Build cuda_12.2.r12.2/compiler.33191640_0\n"
          ]
        }
      ]
    },
    {
      "cell_type": "code",
      "source": [
        "!nvidia-smi"
      ],
      "metadata": {
        "colab": {
          "base_uri": "https://localhost:8080/"
        },
        "id": "ttSpDHvptOVn",
        "outputId": "6e92d677-2f8f-4265-f069-faddf5c30d04"
      },
      "execution_count": 3,
      "outputs": [
        {
          "output_type": "stream",
          "name": "stdout",
          "text": [
            "Tue Oct  8 09:38:48 2024       \n",
            "+---------------------------------------------------------------------------------------+\n",
            "| NVIDIA-SMI 535.104.05             Driver Version: 535.104.05   CUDA Version: 12.2     |\n",
            "|-----------------------------------------+----------------------+----------------------+\n",
            "| GPU  Name                 Persistence-M | Bus-Id        Disp.A | Volatile Uncorr. ECC |\n",
            "| Fan  Temp   Perf          Pwr:Usage/Cap |         Memory-Usage | GPU-Util  Compute M. |\n",
            "|                                         |                      |               MIG M. |\n",
            "|=========================================+======================+======================|\n",
            "|   0  Tesla T4                       Off | 00000000:00:04.0 Off |                    0 |\n",
            "| N/A   51C    P8              10W /  70W |      0MiB / 15360MiB |      0%      Default |\n",
            "|                                         |                      |                  N/A |\n",
            "+-----------------------------------------+----------------------+----------------------+\n",
            "                                                                                         \n",
            "+---------------------------------------------------------------------------------------+\n",
            "| Processes:                                                                            |\n",
            "|  GPU   GI   CI        PID   Type   Process name                            GPU Memory |\n",
            "|        ID   ID                                                             Usage      |\n",
            "|=======================================================================================|\n",
            "|  No running processes found                                                           |\n",
            "+---------------------------------------------------------------------------------------+\n"
          ]
        }
      ]
    },
    {
      "cell_type": "markdown",
      "metadata": {
        "id": "qzoggfoq4YiF"
      },
      "source": [
        "## Compilar ejecutar un program (GoogleColab con GPUs)\n",
        "\n"
      ]
    },
    {
      "cell_type": "code",
      "source": [
        "! mkdir cuda"
      ],
      "metadata": {
        "id": "p8l5dW0-hJcY"
      },
      "execution_count": 5,
      "outputs": []
    },
    {
      "cell_type": "code",
      "metadata": {
        "id": "4_WYQ2UU4TiM",
        "colab": {
          "base_uri": "https://localhost:8080/"
        },
        "outputId": "187c2448-2866-40ec-9aed-b8249fcdd98f"
      },
      "source": [
        "%%writefile cuda/holamundo.cu\n",
        "\n",
        "#include <stdio.h>\n",
        "#include <cuda.h>\n",
        "#include <cuda_runtime.h>\n",
        "\n",
        "__global__ void mykernel(void) {\n",
        "\n",
        "}\n",
        "\n",
        "int main(void) {\n",
        "\t\tmykernel<<<1,1>>>();\n",
        "\t\tprintf(\"Hello world\\n\");\n",
        "\t\treturn 0;\n",
        "}"
      ],
      "execution_count": 6,
      "outputs": [
        {
          "output_type": "stream",
          "name": "stdout",
          "text": [
            "Writing cuda/holamundo.cu\n"
          ]
        }
      ]
    },
    {
      "cell_type": "code",
      "source": [
        "!ls\n"
      ],
      "metadata": {
        "colab": {
          "base_uri": "https://localhost:8080/"
        },
        "id": "R9ZRGojyhR9q",
        "outputId": "05b99b65-a555-4cdb-b8b1-c8decbb5e3df"
      },
      "execution_count": 7,
      "outputs": [
        {
          "output_type": "stream",
          "name": "stdout",
          "text": [
            "cuda  sample_data\n"
          ]
        }
      ]
    },
    {
      "cell_type": "code",
      "source": [
        "!nvcc cuda/holamundo.cu -o cuda/holamundo\n",
        "!ls -la cuda"
      ],
      "metadata": {
        "colab": {
          "base_uri": "https://localhost:8080/"
        },
        "id": "uX_maQqhiVVc",
        "outputId": "824124dd-ef0a-4823-c20f-2bcfa1ddede1"
      },
      "execution_count": 8,
      "outputs": [
        {
          "output_type": "stream",
          "name": "stdout",
          "text": [
            "total 960\n",
            "drwxr-xr-x 2 root root   4096 Oct  8 09:51 .\n",
            "drwxr-xr-x 1 root root   4096 Oct  8 09:45 ..\n",
            "-rwxr-xr-x 1 root root 967080 Oct  8 09:51 holamundo\n",
            "-rw-r--r-- 1 root root    183 Oct  8 09:45 holamundo.cu\n"
          ]
        }
      ]
    },
    {
      "cell_type": "code",
      "source": [
        "!./cuda/holamundo"
      ],
      "metadata": {
        "colab": {
          "base_uri": "https://localhost:8080/"
        },
        "id": "fmyKUKpLipOW",
        "outputId": "f421f8ac-9f7c-41c7-bee1-175fe0740df3"
      },
      "execution_count": 9,
      "outputs": [
        {
          "output_type": "stream",
          "name": "stdout",
          "text": [
            "Hello world\n"
          ]
        }
      ]
    },
    {
      "cell_type": "code",
      "source": [
        "%%writefile cuda/suma1d.cu\n",
        "#include <cuda.h>\n",
        "#include <cuda_runtime.h>\n",
        "#include <stdio.h>\n",
        "\n",
        "__global__ void add(int *a, int *b, int *c) {\n",
        "    *c = *a + *b;\n",
        "}\n",
        "\n",
        "int main(void) {\n",
        "    int a, b, c;\t\t\t\t    // host copies of a, b, c\n",
        "\t  int *d_a, *d_b, *d_c;\t\t// device copies of a, b, c\n",
        "\t  int size = sizeof(int);\n",
        "\n",
        "\t  // Allocate space for device copies of a, b, c\n",
        "\t  cudaMalloc((void **)&d_a, size);\n",
        "\t  cudaMalloc((void **)&d_b, size);\n",
        "\t  cudaMalloc((void **)&d_c, size);\n",
        "\n",
        "\t  // Setup input values\n",
        "\t  a = 2;\n",
        "\t  b = 7;\n",
        "\n",
        "\t  // Copy inputs to device\n",
        "\t  cudaMemcpy(d_a, &a, size, cudaMemcpyHostToDevice);\n",
        "\t  cudaMemcpy(d_b, &b, size, cudaMemcpyHostToDevice);\n",
        "\n",
        "\t  // Launch add() kernel on GPU\n",
        "\t  add<<<1,1>>>(d_a, d_b, d_c);\n",
        "\n",
        "\t  // Copy result back to host\n",
        "\t  cudaMemcpy(&c, d_c, size, cudaMemcpyDeviceToHost);\n",
        "\n",
        "\t  // Show result\n",
        "\t  printf(\"%d + %d = %d\", a, b, c);\n",
        "\n",
        "\t  // Cleanup\n",
        "\t  cudaFree(d_a); cudaFree(d_b); cudaFree(d_c);\n",
        "\t  return 0;\n",
        "}"
      ],
      "metadata": {
        "colab": {
          "base_uri": "https://localhost:8080/"
        },
        "id": "Xe4znE6Uczxx",
        "outputId": "7e948f25-3d75-466b-be73-cb3aaa7ab7d8"
      },
      "execution_count": 10,
      "outputs": [
        {
          "output_type": "stream",
          "name": "stdout",
          "text": [
            "Writing cuda/suma1d.cu\n"
          ]
        }
      ]
    },
    {
      "cell_type": "code",
      "source": [
        "!nvcc cuda/suma1d.cu -o cuda/suma1d\n",
        "!ls -la cuda"
      ],
      "metadata": {
        "colab": {
          "base_uri": "https://localhost:8080/"
        },
        "id": "LLnwNXcnjHq_",
        "outputId": "8f94f1ad-03f1-4550-e802-d40a92e753f2"
      },
      "execution_count": 11,
      "outputs": [
        {
          "output_type": "stream",
          "name": "stdout",
          "text": [
            "total 1912\n",
            "drwxr-xr-x 2 root root   4096 Oct  8 09:54 .\n",
            "drwxr-xr-x 1 root root   4096 Oct  8 09:45 ..\n",
            "-rwxr-xr-x 1 root root 967080 Oct  8 09:51 holamundo\n",
            "-rw-r--r-- 1 root root    183 Oct  8 09:45 holamundo.cu\n",
            "-rwxr-xr-x 1 root root 967072 Oct  8 09:54 suma1d\n",
            "-rw-r--r-- 1 root root    906 Oct  8 09:53 suma1d.cu\n"
          ]
        }
      ]
    },
    {
      "cell_type": "code",
      "source": [
        "!./cuda/suma1d"
      ],
      "metadata": {
        "colab": {
          "base_uri": "https://localhost:8080/"
        },
        "id": "Ha68WNZ5jSOY",
        "outputId": "b2badfbd-57f5-421d-b525-06815299b447"
      },
      "execution_count": 12,
      "outputs": [
        {
          "output_type": "stream",
          "name": "stdout",
          "text": [
            "2 + 7 = 9"
          ]
        }
      ]
    },
    {
      "cell_type": "markdown",
      "source": [
        "Comprobar perfil de ejecución"
      ],
      "metadata": {
        "id": "i2pwuSAdmsS6"
      }
    },
    {
      "cell_type": "code",
      "source": [
        "!nvprof cuda/suma1d"
      ],
      "metadata": {
        "colab": {
          "base_uri": "https://localhost:8080/"
        },
        "id": "sKlmzacPkgEl",
        "outputId": "2d1eae5d-bfae-427d-b8b1-8c4a128b8f99"
      },
      "execution_count": 30,
      "outputs": [
        {
          "output_type": "stream",
          "name": "stdout",
          "text": [
            "==8722== NVPROF is profiling process 8722, command: cuda/suma1d\n",
            "2 + 7 = 9==8722== Profiling application: cuda/suma1d\n",
            "==8722== Profiling result:\n",
            "            Type  Time(%)      Time     Calls       Avg       Min       Max  Name\n",
            " GPU activities:   45.81%  3.3280us         1  3.3280us  3.3280us  3.3280us  add(int*, int*, int*)\n",
            "                   29.07%  2.1120us         1  2.1120us  2.1120us  2.1120us  [CUDA memcpy DtoH]\n",
            "                   25.11%  1.8240us         2     912ns     672ns  1.1520us  [CUDA memcpy HtoD]\n",
            "      API calls:   99.49%  93.397ms         3  31.132ms  4.2520us  93.387ms  cudaMalloc\n",
            "                    0.19%  176.61us         1  176.61us  176.61us  176.61us  cudaLaunchKernel\n",
            "                    0.14%  136.10us       114  1.1930us     132ns  53.862us  cuDeviceGetAttribute\n",
            "                    0.10%  97.772us         3  32.590us  3.5840us  86.293us  cudaFree\n",
            "                    0.05%  48.434us         3  16.144us  7.1390us  21.053us  cudaMemcpy\n",
            "                    0.01%  10.798us         1  10.798us  10.798us  10.798us  cuDeviceGetName\n",
            "                    0.01%  5.1440us         1  5.1440us  5.1440us  5.1440us  cuDeviceGetPCIBusId\n",
            "                    0.00%  4.5660us         1  4.5660us  4.5660us  4.5660us  cuDeviceTotalMem\n",
            "                    0.00%  1.6310us         3     543ns     186ns  1.0290us  cuDeviceGetCount\n",
            "                    0.00%  1.1580us         2     579ns     234ns     924ns  cuDeviceGet\n",
            "                    0.00%     383ns         1     383ns     383ns     383ns  cuModuleGetLoadingMode\n",
            "                    0.00%     244ns         1     244ns     244ns     244ns  cuDeviceGetUuid\n"
          ]
        }
      ]
    },
    {
      "cell_type": "markdown",
      "metadata": {
        "id": "zyefPtPn8HHu"
      },
      "source": [
        "### Compilar y ejecutar un programa (code in multiple source files)"
      ]
    },
    {
      "cell_type": "code",
      "metadata": {
        "id": "FH4ptSTL5R9l",
        "colab": {
          "base_uri": "https://localhost:8080/"
        },
        "outputId": "13474d47-ebe9-4392-f47b-64ddb27c9b74"
      },
      "source": [
        "%%writefile cuda/kernel.cu\n",
        "#include <cuda.h>\n",
        "\n",
        "__global__ void add(int *a, int *b, int *c) {\n",
        "    *c = *a + *b;\n",
        "}"
      ],
      "execution_count": 14,
      "outputs": [
        {
          "output_type": "stream",
          "name": "stdout",
          "text": [
            "Writing cuda/kernel.cu\n"
          ]
        }
      ]
    },
    {
      "cell_type": "code",
      "metadata": {
        "id": "S0j_sS1_5csZ",
        "colab": {
          "base_uri": "https://localhost:8080/"
        },
        "outputId": "d1de8013-29bb-473d-ca9b-5a4c807f8b1c"
      },
      "source": [
        "%%writefile cuda/main.cu\n",
        "#include <cuda.h>\n",
        "#include <cuda_runtime.h>\n",
        "#include <stdio.h>\n",
        "\n",
        "__global__ void add(int *a, int *b, int *c);\n",
        "\n",
        "int main(void) {\n",
        "\tint a, b, c;\t\t\t\t    // host copies of a, b, c\n",
        "\tint *d_a, *d_b, *d_c;\t\t// device copies of a, b, c\n",
        "\tint size = sizeof(int);\n",
        "\n",
        "\t// Allocate space for device copies of a, b, c\n",
        "\tcudaMalloc((void **)&d_a, size);\n",
        "\tcudaMalloc((void **)&d_b, size);\n",
        "\tcudaMalloc((void **)&d_c, size);\n",
        "\n",
        "\t// Setup input values\n",
        "\ta = 2;\n",
        "\tb = 7;\n",
        "\n",
        "\t// Copy inputs to device\n",
        "\tcudaMemcpy(d_a, &a, size, cudaMemcpyHostToDevice);\n",
        "\tcudaMemcpy(d_b, &b, size, cudaMemcpyHostToDevice);\n",
        "\n",
        "\t// Launch add() kernel on GPU\n",
        "\tadd<<<1,1>>>(d_a, d_b, d_c);\n",
        "\n",
        "\t// Copy result back to host\n",
        "\tcudaMemcpy(&c, d_c, size, cudaMemcpyDeviceToHost);\n",
        "\n",
        "\t// Show result\n",
        "\tprintf(\"%d + %d = %d\", a, b, c);\n",
        "\n",
        "\t// Cleanup\n",
        "\tcudaFree(d_a); cudaFree(d_b); cudaFree(d_c);\n",
        "\treturn 0;\n",
        "}"
      ],
      "execution_count": 16,
      "outputs": [
        {
          "output_type": "stream",
          "name": "stdout",
          "text": [
            "Overwriting cuda/main.cu\n"
          ]
        }
      ]
    },
    {
      "cell_type": "code",
      "source": [
        "!nvcc cuda/kernel.cu cuda/main.cu -o cuda/program\n",
        "!ls -la cuda"
      ],
      "metadata": {
        "colab": {
          "base_uri": "https://localhost:8080/"
        },
        "id": "_J2haveLvT1n",
        "outputId": "13410aca-1775-429a-9413-bd72c2afef17"
      },
      "execution_count": 17,
      "outputs": [
        {
          "output_type": "stream",
          "name": "stdout",
          "text": [
            "total 2868\n",
            "drwxr-xr-x 2 root root   4096 Oct  8 09:56 .\n",
            "drwxr-xr-x 1 root root   4096 Oct  8 09:45 ..\n",
            "-rwxr-xr-x 1 root root 967080 Oct  8 09:51 holamundo\n",
            "-rw-r--r-- 1 root root    183 Oct  8 09:45 holamundo.cu\n",
            "-rw-r--r-- 1 root root     85 Oct  8 09:55 kernel.cu\n",
            "-rw-r--r-- 1 root root    840 Oct  8 09:56 main.cu\n",
            "-rwxr-xr-x 1 root root 967496 Oct  8 09:56 program\n",
            "-rwxr-xr-x 1 root root 967072 Oct  8 09:54 suma1d\n",
            "-rw-r--r-- 1 root root    906 Oct  8 09:53 suma1d.cu\n"
          ]
        }
      ]
    },
    {
      "cell_type": "code",
      "source": [
        "!./cuda/program"
      ],
      "metadata": {
        "colab": {
          "base_uri": "https://localhost:8080/"
        },
        "id": "CMbZnsHVvxwS",
        "outputId": "d7a13471-df0b-4b48-efd7-86ecc9f47c7d"
      },
      "execution_count": 18,
      "outputs": [
        {
          "output_type": "stream",
          "name": "stdout",
          "text": [
            "2 + 7 = 9"
          ]
        }
      ]
    },
    {
      "cell_type": "markdown",
      "source": [
        "## Mount your Google Drive"
      ],
      "metadata": {
        "id": "hUc4p4zo0ewr"
      }
    },
    {
      "cell_type": "code",
      "source": [
        "# Mount Google Drive\n",
        "from google.colab import drive\n",
        "#drive.flush_and_unmount()\n",
        "drive.mount('/content/gdrive')"
      ],
      "metadata": {
        "id": "ifFprXxt0bWB",
        "colab": {
          "base_uri": "https://localhost:8080/"
        },
        "outputId": "b14b9f59-2ca6-4f56-b7d4-1ee1b66f7889"
      },
      "execution_count": 19,
      "outputs": [
        {
          "output_type": "stream",
          "name": "stdout",
          "text": [
            "Mounted at /content/gdrive\n"
          ]
        }
      ]
    },
    {
      "cell_type": "code",
      "source": [
        "! ls -la gdrive/MyDrive/Colab\\ Notebooks"
      ],
      "metadata": {
        "id": "uhZlI7W6wBe6"
      },
      "execution_count": null,
      "outputs": []
    },
    {
      "cell_type": "code",
      "source": [
        "# Copy source code to your folder\n",
        "!cp /content/gdrive/MyDrive/XXX/* cuda/\n",
        "# Create soft links\n",
        "!ln -s /content/gdrive/MyDrive/XXXX cuda/XXXX\n",
        "# List folder\n",
        "!ls -la cuda/"
      ],
      "metadata": {
        "id": "dCxWSfeb0m9k"
      },
      "execution_count": null,
      "outputs": []
    },
    {
      "cell_type": "markdown",
      "source": [
        "## Compilar ejemplos de CUDA"
      ],
      "metadata": {
        "id": "FqVU-BHBn90f"
      }
    },
    {
      "cell_type": "code",
      "source": [
        "cd /content/cuda"
      ],
      "metadata": {
        "colab": {
          "base_uri": "https://localhost:8080/"
        },
        "id": "2G4KpTi6oLEg",
        "outputId": "5204f301-c173-421c-c926-f68e7940dc62"
      },
      "execution_count": 80,
      "outputs": [
        {
          "output_type": "stream",
          "name": "stdout",
          "text": [
            "/content/cuda\n"
          ]
        }
      ]
    },
    {
      "cell_type": "code",
      "source": [
        "!git clone https://github.com/NVIDIA/cuda-samples.git"
      ],
      "metadata": {
        "colab": {
          "base_uri": "https://localhost:8080/"
        },
        "id": "L33nLqXRoD2M",
        "outputId": "8e3bb981-b0f5-4e4f-cca2-2667d42d64bd"
      },
      "execution_count": 81,
      "outputs": [
        {
          "output_type": "stream",
          "name": "stdout",
          "text": [
            "Cloning into 'cuda-samples'...\n",
            "remote: Enumerating objects: 19507, done.\u001b[K\n",
            "remote: Counting objects: 100% (10080/10080), done.\u001b[K\n",
            "remote: Compressing objects: 100% (569/569), done.\u001b[K\n",
            "remote: Total 19507 (delta 9605), reused 9714 (delta 9511), pack-reused 9427 (from 1)\u001b[K\n",
            "Receiving objects: 100% (19507/19507), 133.56 MiB | 17.24 MiB/s, done.\n",
            "Resolving deltas: 100% (17060/17060), done.\n",
            "Updating files: 100% (4026/4026), done.\n"
          ]
        }
      ]
    },
    {
      "cell_type": "code",
      "source": [
        "ls /content/cuda/cuda-samples/Samples/*"
      ],
      "metadata": {
        "colab": {
          "base_uri": "https://localhost:8080/"
        },
        "id": "cyDF-Ak6ul-a",
        "outputId": "f39b3dab-f764-47b2-e143-55bb78e396a9"
      },
      "execution_count": 92,
      "outputs": [
        {
          "output_type": "stream",
          "name": "stdout",
          "text": [
            "/content/cuda/cuda-samples/Samples/0_Introduction:\n",
            "\u001b[0m\u001b[01;34masyncAPI\u001b[0m/                \u001b[01;34msimpleAtomicIntrinsics_nvrtc\u001b[0m/  \u001b[01;34msimpleSeparateCompilation\u001b[0m/\n",
            "\u001b[01;34mc++11_cuda\u001b[0m/              \u001b[01;34msimpleAttributes\u001b[0m/              \u001b[01;34msimpleStreams\u001b[0m/\n",
            "\u001b[01;34mclock\u001b[0m/                   \u001b[01;34msimpleAWBarrier\u001b[0m/               \u001b[01;34msimpleSurfaceWrite\u001b[0m/\n",
            "\u001b[01;34mclock_nvrtc\u001b[0m/             \u001b[01;34msimpleCallback\u001b[0m/                \u001b[01;34msimpleTemplates\u001b[0m/\n",
            "\u001b[01;34mconcurrentKernels\u001b[0m/       \u001b[01;34msimpleCooperativeGroups\u001b[0m/       \u001b[01;34msimpleTemplates_nvrtc\u001b[0m/\n",
            "\u001b[01;34mcppIntegration\u001b[0m/          \u001b[01;34msimpleCubemapTexture\u001b[0m/          \u001b[01;34msimpleTexture\u001b[0m/\n",
            "\u001b[01;34mcppOverload\u001b[0m/             \u001b[01;34msimpleCUDA2GL\u001b[0m/                 \u001b[01;34msimpleTexture3D\u001b[0m/\n",
            "\u001b[01;34mcudaOpenMP\u001b[0m/              \u001b[01;34msimpleDrvRuntime\u001b[0m/              \u001b[01;34msimpleTextureDrv\u001b[0m/\n",
            "\u001b[01;34mfp16ScalarProduct\u001b[0m/       \u001b[01;34msimpleHyperQ\u001b[0m/                  \u001b[01;34msimpleVoteIntrinsics\u001b[0m/\n",
            "\u001b[01;34mmatrixMul\u001b[0m/               \u001b[01;34msimpleIPC\u001b[0m/                     \u001b[01;34msimpleVoteIntrinsics_nvrtc\u001b[0m/\n",
            "\u001b[01;34mmatrixMulDrv\u001b[0m/            \u001b[01;34msimpleLayeredTexture\u001b[0m/          \u001b[01;34msimpleZeroCopy\u001b[0m/\n",
            "\u001b[01;34mmatrixMulDynlinkJIT\u001b[0m/     \u001b[01;34msimpleMPI\u001b[0m/                     \u001b[01;34msystemWideAtomics\u001b[0m/\n",
            "\u001b[01;34mmatrixMul_nvrtc\u001b[0m/         \u001b[01;34msimpleMultiCopy\u001b[0m/               \u001b[01;34mtemplate\u001b[0m/\n",
            "\u001b[01;34mmergeSort\u001b[0m/               \u001b[01;34msimpleMultiGPU\u001b[0m/                \u001b[01;34mUnifiedMemoryStreams\u001b[0m/\n",
            "README.md                \u001b[01;34msimpleOccupancy\u001b[0m/               \u001b[01;34mvectorAdd\u001b[0m/\n",
            "\u001b[01;34msimpleAssert\u001b[0m/            \u001b[01;34msimpleP2P\u001b[0m/                     \u001b[01;34mvectorAddDrv\u001b[0m/\n",
            "\u001b[01;34msimpleAssert_nvrtc\u001b[0m/      \u001b[01;34msimplePitchLinearTexture\u001b[0m/      \u001b[01;34mvectorAddMMAP\u001b[0m/\n",
            "\u001b[01;34msimpleAtomicIntrinsics\u001b[0m/  \u001b[01;34msimplePrintf\u001b[0m/                  \u001b[01;34mvectorAdd_nvrtc\u001b[0m/\n",
            "\n",
            "/content/cuda/cuda-samples/Samples/1_Utilities:\n",
            "\u001b[01;34mbandwidthTest\u001b[0m/  \u001b[01;34mdeviceQuery\u001b[0m/  \u001b[01;34mdeviceQueryDrv\u001b[0m/  README.md  \u001b[01;34mtopologyQuery\u001b[0m/\n",
            "\n",
            "/content/cuda/cuda-samples/Samples/2_Concepts_and_Techniques:\n",
            "\u001b[01;34mboxFilter\u001b[0m/                  \u001b[01;34minlinePTX\u001b[0m/              \u001b[01;34mreductionMultiBlockCG\u001b[0m/\n",
            "\u001b[01;34mconvolutionSeparable\u001b[0m/       \u001b[01;34minlinePTX_nvrtc\u001b[0m/        \u001b[01;34mscalarProd\u001b[0m/\n",
            "\u001b[01;34mconvolutionTexture\u001b[0m/         \u001b[01;34minterval\u001b[0m/               \u001b[01;34mscan\u001b[0m/\n",
            "\u001b[01;34mcuHook\u001b[0m/                     \u001b[01;34mMC_EstimatePiInlineP\u001b[0m/   \u001b[01;34msegmentationTreeThrust\u001b[0m/\n",
            "\u001b[01;34mdct8x8\u001b[0m/                     \u001b[01;34mMC_EstimatePiInlineQ\u001b[0m/   \u001b[01;34mshfl_scan\u001b[0m/\n",
            "\u001b[01;34mEGLStream_CUDA_CrossGPU\u001b[0m/    \u001b[01;34mMC_EstimatePiP\u001b[0m/         \u001b[01;34msortingNetworks\u001b[0m/\n",
            "\u001b[01;34mEGLStream_CUDA_Interop\u001b[0m/     \u001b[01;34mMC_EstimatePiQ\u001b[0m/         \u001b[01;34mstreamOrderedAllocation\u001b[0m/\n",
            "\u001b[01;34mEGLSync_CUDAEvent_Interop\u001b[0m/  \u001b[01;34mMC_SingleAsianOptionP\u001b[0m/  \u001b[01;34mstreamOrderedAllocationIPC\u001b[0m/\n",
            "\u001b[01;34meigenvalues\u001b[0m/                \u001b[01;34mparticles\u001b[0m/              \u001b[01;34mstreamOrderedAllocationP2P\u001b[0m/\n",
            "\u001b[01;34mFunctionPointers\u001b[0m/           \u001b[01;34mradixSortThrust\u001b[0m/        \u001b[01;34mthreadFenceReduction\u001b[0m/\n",
            "\u001b[01;34mhistogram\u001b[0m/                  README.md               \u001b[01;34mthreadMigration\u001b[0m/\n",
            "\u001b[01;34mimageDenoising\u001b[0m/             \u001b[01;34mreduction\u001b[0m/\n",
            "\n",
            "/content/cuda/cuda-samples/Samples/3_CUDA_Features:\n",
            "\u001b[01;34mbf16TensorCoreGemm\u001b[0m/     \u001b[01;34mcdpSimpleQuicksort\u001b[0m/      \u001b[01;34mgraphMemoryNodes\u001b[0m/    \u001b[01;34msimpleCudaGraphs\u001b[0m/\n",
            "\u001b[01;34mbinaryPartitionCG\u001b[0m/      \u001b[01;34mcudaCompressibleMemory\u001b[0m/  \u001b[01;34mimmaTensorCoreGemm\u001b[0m/  \u001b[01;34mStreamPriorities\u001b[0m/\n",
            "\u001b[01;34mbindlessTexture\u001b[0m/        \u001b[01;34mcudaTensorCoreGemm\u001b[0m/      \u001b[01;34mjacobiCudaGraphs\u001b[0m/    \u001b[01;34mtf32TensorCoreGemm\u001b[0m/\n",
            "\u001b[01;34mcdpAdvancedQuicksort\u001b[0m/   \u001b[01;34mdmmaTensorCoreGemm\u001b[0m/      \u001b[01;34mmemMapIPCDrv\u001b[0m/        \u001b[01;34mwarpAggregatedAtomicsCG\u001b[0m/\n",
            "\u001b[01;34mcdpBezierTessellation\u001b[0m/  \u001b[01;34mglobalToShmemAsyncCopy\u001b[0m/  \u001b[01;34mnewdelete\u001b[0m/\n",
            "\u001b[01;34mcdpQuadtree\u001b[0m/            \u001b[01;34mgraphConditionalNodes\u001b[0m/   \u001b[01;34mptxjit\u001b[0m/\n",
            "\u001b[01;34mcdpSimplePrint\u001b[0m/         \u001b[01;34mgraphMemoryFootprint\u001b[0m/    README.md\n",
            "\n",
            "/content/cuda/cuda-samples/Samples/4_CUDA_Libraries:\n",
            "\u001b[01;34mbatchCUBLAS\u001b[0m/                                \u001b[01;34mcuSolverSp_LowlevelQR\u001b[0m/\n",
            "\u001b[01;34mbatchedLabelMarkersAndLabelCompressionNPP\u001b[0m/  \u001b[01;34mFilterBorderControlNPP\u001b[0m/\n",
            "\u001b[01;34mboxFilterNPP\u001b[0m/                               \u001b[01;34mfreeImageInteropNPP\u001b[0m/\n",
            "\u001b[01;34mcannyEdgeDetectorNPP\u001b[0m/                       \u001b[01;34mhistEqualizationNPP\u001b[0m/\n",
            "\u001b[01;34mconjugateGradient\u001b[0m/                          \u001b[01;34mjitLto\u001b[0m/\n",
            "\u001b[01;34mconjugateGradientCudaGraphs\u001b[0m/                \u001b[01;34mlineOfSight\u001b[0m/\n",
            "\u001b[01;34mconjugateGradientMultiBlockCG\u001b[0m/              \u001b[01;34mmatrixMulCUBLAS\u001b[0m/\n",
            "\u001b[01;34mconjugateGradientMultiDeviceCG\u001b[0m/             \u001b[01;34mMersenneTwisterGP11213\u001b[0m/\n",
            "\u001b[01;34mconjugateGradientPrecond\u001b[0m/                   \u001b[01;34mnvJPEG\u001b[0m/\n",
            "\u001b[01;34mconjugateGradientUM\u001b[0m/                        \u001b[01;34mnvJPEG_encoder\u001b[0m/\n",
            "\u001b[01;34mcudaNvSci\u001b[0m/                                  \u001b[01;34moceanFFT\u001b[0m/\n",
            "\u001b[01;34mcudaNvSciNvMedia\u001b[0m/                           \u001b[01;34mrandomFog\u001b[0m/\n",
            "\u001b[01;34mcuDLAErrorReporting\u001b[0m/                        README.md\n",
            "\u001b[01;34mcuDLAHybridMode\u001b[0m/                            \u001b[01;34msimpleCUBLAS\u001b[0m/\n",
            "\u001b[01;34mcuDLALayerwiseStatsHybrid\u001b[0m/                  \u001b[01;34msimpleCUBLAS_LU\u001b[0m/\n",
            "\u001b[01;34mcuDLALayerwiseStatsStandalone\u001b[0m/              \u001b[01;34msimpleCUBLASXT\u001b[0m/\n",
            "\u001b[01;34mcuDLAStandaloneMode\u001b[0m/                        \u001b[01;34msimpleCUFFT\u001b[0m/\n",
            "\u001b[01;34mcuSolverDn_LinearSolver\u001b[0m/                    \u001b[01;34msimpleCUFFT_2d_MGPU\u001b[0m/\n",
            "\u001b[01;34mcuSolverRf\u001b[0m/                                 \u001b[01;34msimpleCUFFT_callback\u001b[0m/\n",
            "\u001b[01;34mcuSolverSp_LinearSolver\u001b[0m/                    \u001b[01;34msimpleCUFFT_MGPU\u001b[0m/\n",
            "\u001b[01;34mcuSolverSp_LowlevelCholesky\u001b[0m/                \u001b[01;34mwatershedSegmentationNPP\u001b[0m/\n",
            "\n",
            "/content/cuda/cuda-samples/Samples/5_Domain_Specific:\n",
            "\u001b[01;34mbicubicTexture\u001b[0m/         \u001b[01;34mfluidsGLES\u001b[0m/                  README.md                 \u001b[01;34msimpleGLES_screen\u001b[0m/\n",
            "\u001b[01;34mbilateralFilter\u001b[0m/        \u001b[01;34mHSOpticalFlow\u001b[0m/               \u001b[01;34mrecursiveGaussian\u001b[0m/        \u001b[01;34msimpleVulkan\u001b[0m/\n",
            "\u001b[01;34mbinomialOptions\u001b[0m/        \u001b[01;34mMandelbrot\u001b[0m/                  \u001b[01;34msimpleD3D10\u001b[0m/              \u001b[01;34msimpleVulkanMMAP\u001b[0m/\n",
            "\u001b[01;34mbinomialOptions_nvrtc\u001b[0m/  \u001b[01;34mmarchingCubes\u001b[0m/               \u001b[01;34msimpleD3D10RenderTarget\u001b[0m/  \u001b[01;34mSLID3D10Texture\u001b[0m/\n",
            "\u001b[01;34mBlackScholes\u001b[0m/           \u001b[01;34mMonteCarloMultiGPU\u001b[0m/          \u001b[01;34msimpleD3D10Texture\u001b[0m/       \u001b[01;34msmokeParticles\u001b[0m/\n",
            "\u001b[01;34mBlackScholes_nvrtc\u001b[0m/     \u001b[01;34mnbody\u001b[0m/                       \u001b[01;34msimpleD3D11\u001b[0m/              \u001b[01;34mSobelFilter\u001b[0m/\n",
            "\u001b[01;34mconvolutionFFT2D\u001b[0m/       \u001b[01;34mnbody_opengles\u001b[0m/              \u001b[01;34msimpleD3D11Texture\u001b[0m/       \u001b[01;34mSobolQRNG\u001b[0m/\n",
            "\u001b[01;34mdwtHaar1D\u001b[0m/              \u001b[01;34mnbody_screen\u001b[0m/                \u001b[01;34msimpleD3D12\u001b[0m/              \u001b[01;34mstereoDisparity\u001b[0m/\n",
            "\u001b[01;34mdxtc\u001b[0m/                   \u001b[01;34mNV12toBGRandResize\u001b[0m/          \u001b[01;34msimpleD3D9\u001b[0m/               \u001b[01;34mVFlockingD3D10\u001b[0m/\n",
            "\u001b[01;34mfastWalshTransform\u001b[0m/     \u001b[01;34mp2pBandwidthLatencyTest\u001b[0m/     \u001b[01;34msimpleD3D9Texture\u001b[0m/        \u001b[01;34mvolumeFiltering\u001b[0m/\n",
            "\u001b[01;34mFDTD3d\u001b[0m/                 \u001b[01;34mpostProcessGL\u001b[0m/               \u001b[01;34msimpleGL\u001b[0m/                 \u001b[01;34mvolumeRender\u001b[0m/\n",
            "\u001b[01;34mfluidsD3D9\u001b[0m/             \u001b[01;34mquasirandomGenerator\u001b[0m/        \u001b[01;34msimpleGLES\u001b[0m/               \u001b[01;34mvulkanImageCUDA\u001b[0m/\n",
            "\u001b[01;34mfluidsGL\u001b[0m/               \u001b[01;34mquasirandomGenerator_nvrtc\u001b[0m/  \u001b[01;34msimpleGLES_EGLOutput\u001b[0m/\n",
            "\n",
            "/content/cuda/cuda-samples/Samples/6_Performance:\n",
            "\u001b[01;34malignedTypes\u001b[0m/           \u001b[01;34mLargeKernelParameter\u001b[0m/  \u001b[01;34mtranspose\u001b[0m/\n",
            "\u001b[01;34mcudaGraphsPerfScaling\u001b[0m/  README.md              \u001b[01;34mUnifiedMemoryPerf\u001b[0m/\n",
            "\n",
            "/content/cuda/cuda-samples/Samples/7_libNVVM:\n",
            "CMakeLists.txt  \u001b[01;34mcuda-c-linking\u001b[0m/      \u001b[01;34mdevice-side-launch\u001b[0m/  \u001b[01;34mptxgen\u001b[0m/    \u001b[01;34msimple\u001b[0m/    \u001b[01;34mutils\u001b[0m/\n",
            "\u001b[01;34mcommon\u001b[0m/         \u001b[01;34mcuda-shared-memory\u001b[0m/  Makefile             README.md  \u001b[01;34msyscalls\u001b[0m/  \u001b[01;34muvmlite\u001b[0m/\n"
          ]
        }
      ]
    },
    {
      "cell_type": "code",
      "source": [
        "cd /content/cuda/cuda-samples/Samples/1_Utilities/deviceQuery"
      ],
      "metadata": {
        "colab": {
          "base_uri": "https://localhost:8080/"
        },
        "id": "35sMej-2ohE0",
        "outputId": "9998a03d-ef5d-4a12-b58c-eae753bb11a4"
      },
      "execution_count": 83,
      "outputs": [
        {
          "output_type": "stream",
          "name": "stdout",
          "text": [
            "/content/cuda/cuda-samples/Samples/1_Utilities/deviceQuery\n"
          ]
        }
      ]
    },
    {
      "cell_type": "code",
      "source": [
        "!ls -la"
      ],
      "metadata": {
        "colab": {
          "base_uri": "https://localhost:8080/"
        },
        "id": "nw-cdViQo9Z2",
        "outputId": "a75a0dcc-d82b-47e8-bded-8c241aeff23a"
      },
      "execution_count": 84,
      "outputs": [
        {
          "output_type": "stream",
          "name": "stdout",
          "text": [
            "total 88\n",
            "drwxr-xr-x 3 root root  4096 Oct  8 10:38 .\n",
            "drwxr-xr-x 6 root root  4096 Oct  8 10:38 ..\n",
            "-rw-r--r-- 1 root root 13921 Oct  8 10:38 deviceQuery.cpp\n",
            "-rw-r--r-- 1 root root   851 Oct  8 10:38 deviceQuery_vs2017.sln\n",
            "-rw-r--r-- 1 root root  5199 Oct  8 10:38 deviceQuery_vs2017.vcxproj\n",
            "-rw-r--r-- 1 root root   851 Oct  8 10:38 deviceQuery_vs2019.sln\n",
            "-rw-r--r-- 1 root root  4784 Oct  8 10:38 deviceQuery_vs2019.vcxproj\n",
            "-rw-r--r-- 1 root root   851 Oct  8 10:38 deviceQuery_vs2022.sln\n",
            "-rw-r--r-- 1 root root  4784 Oct  8 10:38 deviceQuery_vs2022.vcxproj\n",
            "-rw-r--r-- 1 root root 12973 Oct  8 10:38 Makefile\n",
            "-rw-r--r-- 1 root root  2154 Oct  8 10:38 NsightEclipse.xml\n",
            "-rw-r--r-- 1 root root  3639 Oct  8 10:38 README.md\n",
            "drwxr-xr-x 2 root root  4096 Oct  8 10:38 .vscode\n"
          ]
        }
      ]
    },
    {
      "cell_type": "code",
      "source": [
        "!make"
      ],
      "metadata": {
        "colab": {
          "base_uri": "https://localhost:8080/"
        },
        "id": "y3enUq-7p6WA",
        "outputId": "94c7fc80-eb8f-458c-94df-0dc06c2041a2"
      },
      "execution_count": 85,
      "outputs": [
        {
          "output_type": "stream",
          "name": "stdout",
          "text": [
            "/usr/local/cuda/bin/nvcc -ccbin g++ -I../../../Common -m64 --threads 0 --std=c++11 -gencode arch=compute_50,code=sm_50 -gencode arch=compute_52,code=sm_52 -gencode arch=compute_60,code=sm_60 -gencode arch=compute_61,code=sm_61 -gencode arch=compute_70,code=sm_70 -gencode arch=compute_75,code=sm_75 -gencode arch=compute_80,code=sm_80 -gencode arch=compute_86,code=sm_86 -gencode arch=compute_89,code=sm_89 -gencode arch=compute_90,code=sm_90 -gencode arch=compute_90,code=compute_90 -o deviceQuery.o -c deviceQuery.cpp\n",
            "/usr/local/cuda/bin/nvcc -ccbin g++ -m64 -gencode arch=compute_50,code=sm_50 -gencode arch=compute_52,code=sm_52 -gencode arch=compute_60,code=sm_60 -gencode arch=compute_61,code=sm_61 -gencode arch=compute_70,code=sm_70 -gencode arch=compute_75,code=sm_75 -gencode arch=compute_80,code=sm_80 -gencode arch=compute_86,code=sm_86 -gencode arch=compute_89,code=sm_89 -gencode arch=compute_90,code=sm_90 -gencode arch=compute_90,code=compute_90 -o deviceQuery deviceQuery.o \n",
            "mkdir -p ../../../bin/x86_64/linux/release\n",
            "cp deviceQuery ../../../bin/x86_64/linux/release\n"
          ]
        }
      ]
    },
    {
      "cell_type": "code",
      "source": [
        "!./deviceQuery"
      ],
      "metadata": {
        "colab": {
          "base_uri": "https://localhost:8080/"
        },
        "id": "glpclqbJqDtR",
        "outputId": "1402367f-6195-4e50-a0fc-ba7413f82e02"
      },
      "execution_count": 86,
      "outputs": [
        {
          "output_type": "stream",
          "name": "stdout",
          "text": [
            "./deviceQuery Starting...\n",
            "\n",
            " CUDA Device Query (Runtime API) version (CUDART static linking)\n",
            "\n",
            "Detected 1 CUDA Capable device(s)\n",
            "\n",
            "Device 0: \"Tesla T4\"\n",
            "  CUDA Driver Version / Runtime Version          12.2 / 12.2\n",
            "  CUDA Capability Major/Minor version number:    7.5\n",
            "  Total amount of global memory:                 15102 MBytes (15835660288 bytes)\n",
            "  (040) Multiprocessors, (064) CUDA Cores/MP:    2560 CUDA Cores\n",
            "  GPU Max Clock rate:                            1590 MHz (1.59 GHz)\n",
            "  Memory Clock rate:                             5001 Mhz\n",
            "  Memory Bus Width:                              256-bit\n",
            "  L2 Cache Size:                                 4194304 bytes\n",
            "  Maximum Texture Dimension Size (x,y,z)         1D=(131072), 2D=(131072, 65536), 3D=(16384, 16384, 16384)\n",
            "  Maximum Layered 1D Texture Size, (num) layers  1D=(32768), 2048 layers\n",
            "  Maximum Layered 2D Texture Size, (num) layers  2D=(32768, 32768), 2048 layers\n",
            "  Total amount of constant memory:               65536 bytes\n",
            "  Total amount of shared memory per block:       49152 bytes\n",
            "  Total shared memory per multiprocessor:        65536 bytes\n",
            "  Total number of registers available per block: 65536\n",
            "  Warp size:                                     32\n",
            "  Maximum number of threads per multiprocessor:  1024\n",
            "  Maximum number of threads per block:           1024\n",
            "  Max dimension size of a thread block (x,y,z): (1024, 1024, 64)\n",
            "  Max dimension size of a grid size    (x,y,z): (2147483647, 65535, 65535)\n",
            "  Maximum memory pitch:                          2147483647 bytes\n",
            "  Texture alignment:                             512 bytes\n",
            "  Concurrent copy and kernel execution:          Yes with 3 copy engine(s)\n",
            "  Run time limit on kernels:                     No\n",
            "  Integrated GPU sharing Host Memory:            No\n",
            "  Support host page-locked memory mapping:       Yes\n",
            "  Alignment requirement for Surfaces:            Yes\n",
            "  Device has ECC support:                        Enabled\n",
            "  Device supports Unified Addressing (UVA):      Yes\n",
            "  Device supports Managed Memory:                Yes\n",
            "  Device supports Compute Preemption:            Yes\n",
            "  Supports Cooperative Kernel Launch:            Yes\n",
            "  Supports MultiDevice Co-op Kernel Launch:      Yes\n",
            "  Device PCI Domain ID / Bus ID / location ID:   0 / 0 / 4\n",
            "  Compute Mode:\n",
            "     < Default (multiple host threads can use ::cudaSetDevice() with device simultaneously) >\n",
            "\n",
            "deviceQuery, CUDA Driver = CUDART, CUDA Driver Version = 12.2, CUDA Runtime Version = 12.2, NumDevs = 1\n",
            "Result = PASS\n"
          ]
        }
      ]
    },
    {
      "cell_type": "code",
      "source": [
        "cd /content/cuda/cuda-samples/Samples/1_Utilities/topologyQuery"
      ],
      "metadata": {
        "colab": {
          "base_uri": "https://localhost:8080/"
        },
        "id": "TFqhVprZqQlW",
        "outputId": "f55b2e7f-bec5-4ff8-a1f0-01eddc6a8655"
      },
      "execution_count": 88,
      "outputs": [
        {
          "output_type": "stream",
          "name": "stdout",
          "text": [
            "/content/cuda/cuda-samples/Samples/1_Utilities/topologyQuery\n"
          ]
        }
      ]
    },
    {
      "cell_type": "code",
      "source": [
        "!make"
      ],
      "metadata": {
        "colab": {
          "base_uri": "https://localhost:8080/"
        },
        "id": "qDEL8zZUsHTf",
        "outputId": "0aea92cc-83c8-4bf5-de38-476a62a16fdb"
      },
      "execution_count": 89,
      "outputs": [
        {
          "output_type": "stream",
          "name": "stdout",
          "text": [
            "/usr/local/cuda/bin/nvcc -ccbin g++ -I../../../Common -m64 --threads 0 --std=c++11 -gencode arch=compute_50,code=sm_50 -gencode arch=compute_52,code=sm_52 -gencode arch=compute_60,code=sm_60 -gencode arch=compute_61,code=sm_61 -gencode arch=compute_70,code=sm_70 -gencode arch=compute_75,code=sm_75 -gencode arch=compute_80,code=sm_80 -gencode arch=compute_86,code=sm_86 -gencode arch=compute_89,code=sm_89 -gencode arch=compute_90,code=sm_90 -gencode arch=compute_90,code=compute_90 -o topologyQuery.o -c topologyQuery.cu\n",
            "/usr/local/cuda/bin/nvcc -ccbin g++ -m64 -gencode arch=compute_50,code=sm_50 -gencode arch=compute_52,code=sm_52 -gencode arch=compute_60,code=sm_60 -gencode arch=compute_61,code=sm_61 -gencode arch=compute_70,code=sm_70 -gencode arch=compute_75,code=sm_75 -gencode arch=compute_80,code=sm_80 -gencode arch=compute_86,code=sm_86 -gencode arch=compute_89,code=sm_89 -gencode arch=compute_90,code=sm_90 -gencode arch=compute_90,code=compute_90 -o topologyQuery topologyQuery.o \n",
            "mkdir -p ../../../bin/x86_64/linux/release\n",
            "cp topologyQuery ../../../bin/x86_64/linux/release\n"
          ]
        }
      ]
    },
    {
      "cell_type": "code",
      "source": [
        "!ls -la"
      ],
      "metadata": {
        "colab": {
          "base_uri": "https://localhost:8080/"
        },
        "id": "0l4qbnL4scd4",
        "outputId": "e4d3c5fb-2285-4c93-c9a9-0fd277267d1a"
      },
      "execution_count": 90,
      "outputs": [
        {
          "output_type": "stream",
          "name": "stdout",
          "text": [
            "total 1056\n",
            "drwxr-xr-x 3 root root   4096 Oct  8 10:41 .\n",
            "drwxr-xr-x 6 root root   4096 Oct  8 10:38 ..\n",
            "-rw-r--r-- 1 root root  13540 Oct  8 10:38 Makefile\n",
            "-rw-r--r-- 1 root root   1908 Oct  8 10:38 NsightEclipse.xml\n",
            "-rw-r--r-- 1 root root   3314 Oct  8 10:38 README.md\n",
            "-rwxr-xr-x 1 root root 979960 Oct  8 10:41 topologyQuery\n",
            "-rw-r--r-- 1 root root   3411 Oct  8 10:38 topologyQuery.cu\n",
            "-rw-r--r-- 1 root root  17568 Oct  8 10:41 topologyQuery.o\n",
            "-rw-r--r-- 1 root root    855 Oct  8 10:38 topologyQuery_vs2017.sln\n",
            "-rw-r--r-- 1 root root   5208 Oct  8 10:38 topologyQuery_vs2017.vcxproj\n",
            "-rw-r--r-- 1 root root    855 Oct  8 10:38 topologyQuery_vs2019.sln\n",
            "-rw-r--r-- 1 root root   4793 Oct  8 10:38 topologyQuery_vs2019.vcxproj\n",
            "-rw-r--r-- 1 root root    855 Oct  8 10:38 topologyQuery_vs2022.sln\n",
            "-rw-r--r-- 1 root root   4793 Oct  8 10:38 topologyQuery_vs2022.vcxproj\n",
            "drwxr-xr-x 2 root root   4096 Oct  8 10:38 .vscode\n"
          ]
        }
      ]
    },
    {
      "cell_type": "code",
      "source": [
        "!./topologyQuery"
      ],
      "metadata": {
        "colab": {
          "base_uri": "https://localhost:8080/"
        },
        "id": "EGeZp8jasg8V",
        "outputId": "821ef025-32a4-4a25-d42b-433cf9b77f7e"
      },
      "execution_count": 91,
      "outputs": [
        {
          "output_type": "stream",
          "name": "stdout",
          "text": [
            "GPU0 <-> CPU:\n",
            "  * Atomic Supported: no\n"
          ]
        }
      ]
    }
  ]
}